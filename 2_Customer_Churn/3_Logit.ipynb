{
 "cells": [
  {
   "cell_type": "markdown",
   "id": "444f548f",
   "metadata": {},
   "source": [
    "**ส่วนนี้คือการ load ข้อมูล, และการกำจัด outliers (ท่านสามารถดูเพิ่มเติมได้ที่ 1_Data_Cleaning.ipynb)**\n",
    "\n",
    "**สำหรับ Logistic Regression จะเริ่มต่อท้ายหลังจบส่วนนี้**"
   ]
  },
  {
   "cell_type": "code",
   "execution_count": 1,
   "id": "2df904e0",
   "metadata": {
    "scrolled": true
   },
   "outputs": [
    {
     "data": {
      "text/plain": [
       "'3.11.5 | packaged by Anaconda, Inc. | (main, Sep 11 2023, 13:26:23) [MSC v.1916 64 bit (AMD64)]'"
      ]
     },
     "execution_count": 1,
     "metadata": {},
     "output_type": "execute_result"
    }
   ],
   "source": [
    "import sys\n",
    "sys.version"
   ]
  },
  {
   "cell_type": "code",
   "execution_count": 2,
   "id": "88678897",
   "metadata": {},
   "outputs": [],
   "source": [
    "# disable warnings that are not critical for a clean looking\n",
    "import warnings\n",
    "warnings.filterwarnings('ignore')"
   ]
  },
  {
   "cell_type": "code",
   "execution_count": 3,
   "id": "938877d0",
   "metadata": {},
   "outputs": [],
   "source": [
    "import pandas as pd\n",
    "import numpy as np\n",
    "import matplotlib.pyplot as plt\n",
    "import seaborn as sns\n",
    "import plotly.express as px\n",
    "\n",
    "import joblib\n",
    "\n",
    "%matplotlib inline\n",
    "%config InlineBackend.figure_format = 'retina'"
   ]
  },
  {
   "cell_type": "code",
   "execution_count": 4,
   "id": "8793c083",
   "metadata": {},
   "outputs": [],
   "source": [
    "df = pd.read_csv('./dataset/Churn_Modelling.csv')"
   ]
  },
  {
   "cell_type": "code",
   "execution_count": 5,
   "id": "4da1add6",
   "metadata": {},
   "outputs": [],
   "source": [
    "df.drop(['RowNumber','CustomerId','Surname'], axis=1, inplace=True)"
   ]
  },
  {
   "cell_type": "markdown",
   "id": "d34ed747",
   "metadata": {},
   "source": [
    "#### การกำจัด outliers"
   ]
  },
  {
   "cell_type": "code",
   "execution_count": 6,
   "id": "2fc48c99",
   "metadata": {},
   "outputs": [],
   "source": [
    "def my_func(feature, upper, lower):\n",
    "    tmp = df[(df[feature] >= upper) | (df[feature] <= lower)]\n",
    "    df.drop(index=tmp.index, inplace=True)"
   ]
  },
  {
   "cell_type": "code",
   "execution_count": 7,
   "id": "82b5b6c8",
   "metadata": {
    "scrolled": true
   },
   "outputs": [],
   "source": [
    "my_func('CreditScore',None,383)\n",
    "my_func('Age',62,None)"
   ]
  },
  {
   "cell_type": "markdown",
   "id": "2931cf3d",
   "metadata": {},
   "source": [
    "**Logistic Regression จะเริ่มต้นขึ้นต่อจากนี้**\n",
    "\n",
    "---"
   ]
  },
  {
   "cell_type": "markdown",
   "id": "c721fa51",
   "metadata": {},
   "source": [
    "#### การสร้าง dummy variables"
   ]
  },
  {
   "cell_type": "markdown",
   "id": "bf83c277",
   "metadata": {},
   "source": [
    "สร้าง dummy variables โดย drop_first ด้วย เพื่อป้องกันปัญหา multi-collinearity (การมีสหสัมพันธ์กันเองระหว่างตัวแปรอิสระ) ซึ่งจะทำให้ model มีความคลาดเคลื่อนได้:"
   ]
  },
  {
   "cell_type": "code",
   "execution_count": 8,
   "id": "1a784a94",
   "metadata": {},
   "outputs": [],
   "source": [
    "df_new = pd.get_dummies(df, drop_first=True)"
   ]
  },
  {
   "cell_type": "code",
   "execution_count": 9,
   "id": "38ee4744",
   "metadata": {},
   "outputs": [
    {
     "data": {
      "text/plain": [
       "array(['CreditScore', 'Age', 'Tenure', 'Balance', 'NumOfProducts',\n",
       "       'HasCrCard', 'IsActiveMember', 'EstimatedSalary', 'Exited',\n",
       "       'Geography_Germany', 'Geography_Spain', 'Gender_Male'],\n",
       "      dtype=object)"
      ]
     },
     "execution_count": 9,
     "metadata": {},
     "output_type": "execute_result"
    }
   ],
   "source": [
    "df_new.columns.values"
   ]
  },
  {
   "cell_type": "markdown",
   "id": "e91d94d5",
   "metadata": {},
   "source": [
    "#### ทำการแบ่งข้อมูล train/test ด้วยอัตราส่วน 80:20"
   ]
  },
  {
   "cell_type": "markdown",
   "id": "a0749317",
   "metadata": {},
   "source": [
    "ทำการแบ่งข้อมูลเป็นสองชุด ได้แก่\n",
    "\n",
    "1) Training Set เพื่อใช้ฝึกสอน model\n",
    "2) Test Set เพื่อใช้ประเมิน model\n",
    "\n",
    "นั่นคือ จะใช้ข้อมูลชุด Training Set ในขณะฝึกสอน model และ model จะไม่เคยเห็นข้อมูลชุด Test Set มาก่อน นี่ทำให้เราสามารถประเมิน model ได้อิงกับความเป็นจริงมากกว่า"
   ]
  },
  {
   "cell_type": "code",
   "execution_count": 10,
   "id": "630224c3",
   "metadata": {},
   "outputs": [],
   "source": [
    "X = df_new.drop('Exited', axis=1)\n",
    "y = df_new['Exited']"
   ]
  },
  {
   "cell_type": "code",
   "execution_count": 11,
   "id": "abf20f58",
   "metadata": {},
   "outputs": [],
   "source": [
    "from sklearn.model_selection import train_test_split\n",
    "\n",
    "X_train, X_test, y_train, y_test = train_test_split(X, y, test_size=0.2, random_state=55)"
   ]
  },
  {
   "cell_type": "markdown",
   "id": "ac2df6a9",
   "metadata": {},
   "source": [
    "#### Data Scaling (Standardisation)"
   ]
  },
  {
   "cell_type": "markdown",
   "id": "b1304ea8",
   "metadata": {},
   "source": [
    "Data scaling คือการทำให้ช่วง (scale) ของข้อมูลอยู่ในช่วงที่ใกล้เคียงกัน\n",
    "\n",
    "บางตัวมีช่วง (scale) ที่ห่างกันมาก ซึ่งทำให้อัลกิริทึมเกิดความเอนเอียง (bias) ได้หากไม่ทำ Data Scaling นอกจากนี้ยังช่วยให้กระบวนการทำซ้ำ (iteration) ของอัลกอริทึมเข้าสู่สภาวะเสถียร (converge) ได้เร็วขึ้นด้วย\n",
    "\n",
    "- สำหรับ KNN, SVM การทำ data scaling ช่วยให้ models สามารถวัดระยะห่าง (Euclidean distances) ของจุดข้อมูลได้ง่าย เนื่องจากข้อมูลมีช่วง (scale) ใกล้กัน ทำให้โมเดลสามารถปรับเข้าสู่จุดข้อมูล (fit) ได้ง่ายขึ้น และทำให้ความแม่นยำสูงขึ้น\n",
    "\n",
    "- สำหรับอัลกอริทึมตระกูล tree-based ไม่จำเป็นต้องทำ data scaling\n",
    "\n",
    "สำหรับชุดข้อมูลนี้ ได้เลือกทำ data scaling แบบ standardisation เพราะข้อมูลมีการแจกแจงใกล้เคียงการแจกแจงแบบปกติ (normal distribution) และสามารถรับมือกับข้อมูลที่มีค่าสูงหรือต่ำกว่าได้ดีกว่า data scaling แบบ normalisation เนื่องจากตัวแปร CreditScore กับ Balance มีบางจุดข้อมูลที่มีค่าโดดออกมาจากจุดข้อมูลส่วนใหญ่ ดังนี้:"
   ]
  },
  {
   "cell_type": "code",
   "execution_count": 12,
   "id": "c3255729",
   "metadata": {},
   "outputs": [
    {
     "data": {
      "image/png": "[encoded data removed]",
      "text/plain": [
       "<Figure size 800x300 with 2 Axes>"
      ]
     },
     "metadata": {
      "image/png": {
       "height": 290,
       "width": 786
      }
     },
     "output_type": "display_data"
    }
   ],
   "source": [
    "df[['CreditScore','Balance']].hist(bins=50, figsize=(8,3))\n",
    "plt.tight_layout()"
   ]
  },
  {
   "cell_type": "markdown",
   "id": "75bc4466",
   "metadata": {},
   "source": [
    "- CreditScore: กลุ่มลูกค้าที่รักษา Credit Score ให้สูง ๆ จนเกือบเต็มถึงเต็ม\n",
    "- Balance: กลุ่มลูกค้าที่ยอดเงินในบัญชีมี 0 EUR"
   ]
  },
  {
   "cell_type": "markdown",
   "id": "c9438c57",
   "metadata": {},
   "source": [
    "ไม่จำเป็นต้องทำ Data Scaling กับ y (ค่าเช่า) หรือ target (ค่าที่ต้องการทำนาย)\n",
    "\n",
    "การทำ Data Scaling มีจุดประสงค์เพื่อให้แต่ละจุดข้อมูลมี scale ที่ใกล้กัน เมื่อทำการ fit model กับ X (ตัวแปรอิสระ) ตัวอัลกอริทึมจะได้วัดระยะห่างของแต่ละจุดข้อมูลได้ง่าย ส่วน y หรือ target นี้ เป็นค่าที่ต้องการทำนายออกมา จึงไม่มีปัญหาด้าน scaling"
   ]
  },
  {
   "cell_type": "code",
   "execution_count": 13,
   "id": "ead90b68",
   "metadata": {},
   "outputs": [],
   "source": [
    "from sklearn.preprocessing import StandardScaler\n",
    "\n",
    "sc_X_train = StandardScaler()\n",
    "sc_X_test = StandardScaler()"
   ]
  },
  {
   "cell_type": "code",
   "execution_count": 14,
   "id": "db95754d",
   "metadata": {},
   "outputs": [],
   "source": [
    "tmp = X_train\n",
    "std = sc_X_train.fit_transform(tmp)\n",
    "X_train = pd.DataFrame(std, columns=tmp.columns)\n",
    "\n",
    "tmp = X_test\n",
    "std = sc_X_test.fit_transform(tmp)\n",
    "X_test = pd.DataFrame(std, columns=tmp.columns)"
   ]
  },
  {
   "cell_type": "markdown",
   "id": "b81950dc",
   "metadata": {},
   "source": [
    "#### เขียนฟังก์ชั่นสำหรับประเมินประสิทธิภาพ model และเก็บค่าไว้ทำกราฟเปรียบเทียบในภายหลัง:"
   ]
  },
  {
   "cell_type": "code",
   "execution_count": 15,
   "id": "4c6f4528",
   "metadata": {},
   "outputs": [],
   "source": [
    "from sklearn.metrics import confusion_matrix, accuracy_score, f1_score, precision_score, recall_score"
   ]
  },
  {
   "cell_type": "code",
   "execution_count": 16,
   "id": "7b8468a0",
   "metadata": {},
   "outputs": [],
   "source": [
    "acc = {}; f1 = {}; prec = {}; recl = {}\n",
    "\n",
    "def my_eval(model,y_test,predicted):\n",
    "    \n",
    "    print(model,'Results')\n",
    "    print('Accuracy: ', accuracy_score(y_test, predicted))\n",
    "    print('F1 Score: ', f1_score(y_test, predicted))\n",
    "    print('Precision: ', precision_score(y_test, predicted))\n",
    "    print('Recall: ', recall_score(y_test, predicted))\n",
    "    \n",
    "    acc[model] = accuracy_score(y_test, predicted)\n",
    "    f1[model] = f1_score(y_test, predicted)\n",
    "    prec[model] = precision_score(y_test, predicted)\n",
    "    recl[model] = recall_score(y_test, predicted)\n",
    "    \n",
    "    # declair as a global model to ratain the evalutation values along the notebook\n",
    "    global df_model_compare\n",
    "    df_model_compare = pd.DataFrame.from_dict(\n",
    "        [acc,f1,prec,recl]\n",
    "    ).rename(\n",
    "        index={0:'Accuracy',1:'F1 Score',2:'Precision',3:'Recall'}\n",
    "    )\n",
    "    #display(df_model_compare)"
   ]
  },
  {
   "cell_type": "markdown",
   "id": "1505febc",
   "metadata": {},
   "source": [
    "# Logistic Regression"
   ]
  },
  {
   "cell_type": "markdown",
   "id": "a4366db0",
   "metadata": {},
   "source": [
    "ใช้ Sigmoid function เปลี่ยน linear ให้เป็น S-shaped curve ให้อยู่ในช่วง [0,1] เพื่อทำนายผลสองประเภท (binary class)"
   ]
  },
  {
   "cell_type": "markdown",
   "id": "2d7e2d30",
   "metadata": {},
   "source": [
    "สร้าง (ฝึกสอน) model:"
   ]
  },
  {
   "cell_type": "code",
   "execution_count": 17,
   "id": "3e002bee",
   "metadata": {},
   "outputs": [],
   "source": [
    "from sklearn.linear_model import LogisticRegression\n",
    "\n",
    "logistic_regression = LogisticRegression(random_state=55)"
   ]
  },
  {
   "cell_type": "code",
   "execution_count": 18,
   "id": "40a193f2",
   "metadata": {
    "scrolled": true
   },
   "outputs": [
    {
     "data": {
      "text/html": [
       "<style>#sk-container-id-1 {color: black;}#sk-container-id-1 pre{padding: 0;}#sk-container-id-1 div.sk-toggleable {background-color: white;}#sk-container-id-1 label.sk-toggleable__label {cursor: pointer;display: block;width: 100%;margin-bottom: 0;padding: 0.3em;box-sizing: border-box;text-align: center;}#sk-container-id-1 label.sk-toggleable__label-arrow:before {content: \"▸\";float: left;margin-right: 0.25em;color: #696969;}#sk-container-id-1 label.sk-toggleable__label-arrow:hover:before {color: black;}#sk-container-id-1 div.sk-estimator:hover label.sk-toggleable__label-arrow:before {color: black;}#sk-container-id-1 div.sk-toggleable__content {max-height: 0;max-width: 0;overflow: hidden;text-align: left;background-color: #f0f8ff;}#sk-container-id-1 div.sk-toggleable__content pre {margin: 0.2em;color: black;border-radius: 0.25em;background-color: #f0f8ff;}#sk-container-id-1 input.sk-toggleable__control:checked~div.sk-toggleable__content {max-height: 200px;max-width: 100%;overflow: auto;}#sk-container-id-1 input.sk-toggleable__control:checked~label.sk-toggleable__label-arrow:before {content: \"▾\";}#sk-container-id-1 div.sk-estimator input.sk-toggleable__control:checked~label.sk-toggleable__label {background-color: #d4ebff;}#sk-container-id-1 div.sk-label input.sk-toggleable__control:checked~label.sk-toggleable__label {background-color: #d4ebff;}#sk-container-id-1 input.sk-hidden--visually {border: 0;clip: rect(1px 1px 1px 1px);clip: rect(1px, 1px, 1px, 1px);height: 1px;margin: -1px;overflow: hidden;padding: 0;position: absolute;width: 1px;}#sk-container-id-1 div.sk-estimator {font-family: monospace;background-color: #f0f8ff;border: 1px dotted black;border-radius: 0.25em;box-sizing: border-box;margin-bottom: 0.5em;}#sk-container-id-1 div.sk-estimator:hover {background-color: #d4ebff;}#sk-container-id-1 div.sk-parallel-item::after {content: \"\";width: 100%;border-bottom: 1px solid gray;flex-grow: 1;}#sk-container-id-1 div.sk-label:hover label.sk-toggleable__label {background-color: #d4ebff;}#sk-container-id-1 div.sk-serial::before {content: \"\";position: absolute;border-left: 1px solid gray;box-sizing: border-box;top: 0;bottom: 0;left: 50%;z-index: 0;}#sk-container-id-1 div.sk-serial {display: flex;flex-direction: column;align-items: center;background-color: white;padding-right: 0.2em;padding-left: 0.2em;position: relative;}#sk-container-id-1 div.sk-item {position: relative;z-index: 1;}#sk-container-id-1 div.sk-parallel {display: flex;align-items: stretch;justify-content: center;background-color: white;position: relative;}#sk-container-id-1 div.sk-item::before, #sk-container-id-1 div.sk-parallel-item::before {content: \"\";position: absolute;border-left: 1px solid gray;box-sizing: border-box;top: 0;bottom: 0;left: 50%;z-index: -1;}#sk-container-id-1 div.sk-parallel-item {display: flex;flex-direction: column;z-index: 1;position: relative;background-color: white;}#sk-container-id-1 div.sk-parallel-item:first-child::after {align-self: flex-end;width: 50%;}#sk-container-id-1 div.sk-parallel-item:last-child::after {align-self: flex-start;width: 50%;}#sk-container-id-1 div.sk-parallel-item:only-child::after {width: 0;}#sk-container-id-1 div.sk-dashed-wrapped {border: 1px dashed gray;margin: 0 0.4em 0.5em 0.4em;box-sizing: border-box;padding-bottom: 0.4em;background-color: white;}#sk-container-id-1 div.sk-label label {font-family: monospace;font-weight: bold;display: inline-block;line-height: 1.2em;}#sk-container-id-1 div.sk-label-container {text-align: center;}#sk-container-id-1 div.sk-container {/* jupyter's `normalize.less` sets `[hidden] { display: none; }` but bootstrap.min.css set `[hidden] { display: none !important; }` so we also need the `!important` here to be able to override the default hidden behavior on the sphinx rendered scikit-learn.org. See: https://github.com/scikit-learn/scikit-learn/issues/21755 */display: inline-block !important;position: relative;}#sk-container-id-1 div.sk-text-repr-fallback {display: none;}</style><div id=\"sk-container-id-1\" class=\"sk-top-container\"><div class=\"sk-text-repr-fallback\"><pre>LogisticRegression(random_state=55)</pre><b>In a Jupyter environment, please rerun this cell to show the HTML representation or trust the notebook. <br />On GitHub, the HTML representation is unable to render, please try loading this page with nbviewer.org.</b></div><div class=\"sk-container\" hidden><div class=\"sk-item\"><div class=\"sk-estimator sk-toggleable\"><input class=\"sk-toggleable__control sk-hidden--visually\" id=\"sk-estimator-id-1\" type=\"checkbox\" checked><label for=\"sk-estimator-id-1\" class=\"sk-toggleable__label sk-toggleable__label-arrow\">LogisticRegression</label><div class=\"sk-toggleable__content\"><pre>LogisticRegression(random_state=55)</pre></div></div></div></div></div>"
      ],
      "text/plain": [
       "LogisticRegression(random_state=55)"
      ]
     },
     "execution_count": 18,
     "metadata": {},
     "output_type": "execute_result"
    }
   ],
   "source": [
    "logistic_regression.fit(X_train, y_train)"
   ]
  },
  {
   "cell_type": "markdown",
   "id": "5c1e8b36",
   "metadata": {},
   "source": [
    "สามารถเลือกที่จะบันทึก model ที่จะสร้างใหม่ หรือจะโหลดจาก model ที่สร้างไว้แล้วก็ได้:"
   ]
  },
  {
   "cell_type": "code",
   "execution_count": 19,
   "id": "21a38e82",
   "metadata": {
    "scrolled": true
   },
   "outputs": [
    {
     "data": {
      "text/plain": [
       "['./models/Logit.pkl']"
      ]
     },
     "execution_count": 19,
     "metadata": {},
     "output_type": "execute_result"
    }
   ],
   "source": [
    "# Save Model\n",
    "joblib.dump(logistic_regression, './models/Logit.pkl')\n",
    "\n",
    "# Load Model\n",
    "#logistic_regression = joblib.load('./models/Logit.pkl')"
   ]
  },
  {
   "cell_type": "markdown",
   "id": "b548e0ec",
   "metadata": {},
   "source": [
    "## การประเมิน model ที่ใช้ทำนาย"
   ]
  },
  {
   "cell_type": "markdown",
   "id": "50562129",
   "metadata": {},
   "source": [
    "ใช้โมเดลทำนาย test set:"
   ]
  },
  {
   "cell_type": "code",
   "execution_count": 20,
   "id": "f58c6e5c",
   "metadata": {},
   "outputs": [],
   "source": [
    "logistic_predicted = logistic_regression.predict(X_test)"
   ]
  },
  {
   "cell_type": "code",
   "execution_count": 21,
   "id": "2cdfa54e",
   "metadata": {},
   "outputs": [
    {
     "data": {
      "text/plain": [
       "array([[1469,   37],\n",
       "       [ 292,  117]], dtype=int64)"
      ]
     },
     "execution_count": 21,
     "metadata": {},
     "output_type": "execute_result"
    }
   ],
   "source": [
    "confusion_matrix(y_test, logistic_predicted)"
   ]
  },
  {
   "cell_type": "markdown",
   "id": "f035deae",
   "metadata": {},
   "source": [
    "[ TN FP ]  \n",
    "[ FN TP ]\n",
    "\n",
    "TP (ทำนายว่า churn; ความจริงคือ churn)  \n",
    "TN (ทำนายว่า non-churn; ความจริงคือ non-churn)  \n",
    "FP (ทำนายว่า churn; ความจริงคือ non-churn)  \n",
    "FN (ทำนายว่า non-churn; ความจริงคือ churn)\n",
    "\n",
    "Churn = เลิกใช้ธนาคาร  \n",
    "Non-churn = ไม่เลิกใช้ธนาคาร"
   ]
  },
  {
   "cell_type": "markdown",
   "id": "db15b9b1",
   "metadata": {},
   "source": [
    "เรียกฟังก์ชั่นประเมินประสิทธิภาพ model และเก็บค่าไว้ทำกราฟเปรียบเทียบในภายหลัง:"
   ]
  },
  {
   "cell_type": "code",
   "execution_count": 22,
   "id": "2883b360",
   "metadata": {},
   "outputs": [
    {
     "name": "stdout",
     "output_type": "stream",
     "text": [
      "Logit Results\n",
      "Accuracy:  0.8281984334203656\n",
      "F1 Score:  0.4156305506216696\n",
      "Precision:  0.7597402597402597\n",
      "Recall:  0.2860635696821516\n"
     ]
    }
   ],
   "source": [
    "my_eval('Logit',y_test,logistic_predicted)"
   ]
  },
  {
   "cell_type": "markdown",
   "id": "d32a8ba1",
   "metadata": {},
   "source": [
    "---"
   ]
  },
  {
   "cell_type": "markdown",
   "id": "2c42ab1d",
   "metadata": {},
   "source": [
    "บันทึกค่าประเมินประสิทธิภาพของแต่ละ model เพื่อใช้เปรียบเทียบใน notebook ชื่อ 9_Comparison.ipynb:"
   ]
  },
  {
   "cell_type": "code",
   "execution_count": 23,
   "id": "daa05e3c",
   "metadata": {},
   "outputs": [],
   "source": [
    "df_model_compare.to_csv('./eval_results/eval_results_Logit.csv')"
   ]
  },
  {
   "cell_type": "code",
   "execution_count": null,
   "id": "d1bc1c7b",
   "metadata": {},
   "outputs": [],
   "source": []
  }
 ],
 "metadata": {
  "kernelspec": {
   "display_name": "Python 3 (ipykernel)",
   "language": "python",
   "name": "python3"
  },
  "language_info": {
   "codemirror_mode": {
    "name": "ipython",
    "version": 3
   },
   "file_extension": ".py",
   "mimetype": "text/x-python",
   "name": "python",
   "nbconvert_exporter": "python",
   "pygments_lexer": "ipython3",
   "version": "3.11.5"
  }
 },
 "nbformat": 4,
 "nbformat_minor": 5
}
