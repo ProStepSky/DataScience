{
 "cells": [
  {
   "cell_type": "markdown",
   "id": "444f548f",
   "metadata": {},
   "source": [
    "**ส่วนนี้คือการ load ข้อมูล และการกำจัด outliers (ท่านสามารถดูเพิ่มเติมได้ที่ 1_Data_Cleaning.ipynb)**\n",
    "\n",
    "**ส่วนนี้ได้รวมการสร้าง dummy variables และการทำ data scaling (standardisation) ไว้ด้วย (ท่านสามารถดูเพิ่มเติมได้ที่ 3_Logit.ipynb)**\n",
    "\n",
    "**สำหรับ Random Forest จะเริ่มต่อท้ายหลังจบส่วนนี้**"
   ]
  },
  {
   "cell_type": "code",
   "execution_count": 1,
   "id": "2df904e0",
   "metadata": {
    "scrolled": true
   },
   "outputs": [
    {
     "data": {
      "text/plain": [
       "'3.11.5 | packaged by Anaconda, Inc. | (main, Sep 11 2023, 13:26:23) [MSC v.1916 64 bit (AMD64)]'"
      ]
     },
     "execution_count": 1,
     "metadata": {},
     "output_type": "execute_result"
    }
   ],
   "source": [
    "import sys\n",
    "sys.version"
   ]
  },
  {
   "cell_type": "code",
   "execution_count": 2,
   "id": "88678897",
   "metadata": {},
   "outputs": [],
   "source": [
    "# disable warnings that are not critical for a clean looking\n",
    "import warnings\n",
    "warnings.filterwarnings('ignore')"
   ]
  },
  {
   "cell_type": "code",
   "execution_count": 3,
   "id": "938877d0",
   "metadata": {},
   "outputs": [],
   "source": [
    "import pandas as pd\n",
    "import numpy as np\n",
    "import matplotlib.pyplot as plt\n",
    "import seaborn as sns\n",
    "import plotly.express as px\n",
    "\n",
    "import joblib\n",
    "\n",
    "%matplotlib inline\n",
    "%config InlineBackend.figure_format = 'retina'"
   ]
  },
  {
   "cell_type": "code",
   "execution_count": 4,
   "id": "8793c083",
   "metadata": {},
   "outputs": [],
   "source": [
    "df = pd.read_csv('./dataset/Churn_Modelling.csv')"
   ]
  },
  {
   "cell_type": "code",
   "execution_count": 5,
   "id": "d85fec37",
   "metadata": {},
   "outputs": [],
   "source": [
    "df.drop(['RowNumber','CustomerId','Surname'], axis=1, inplace=True)"
   ]
  },
  {
   "cell_type": "markdown",
   "id": "d34ed747",
   "metadata": {},
   "source": [
    "#### การกำจัด outliers"
   ]
  },
  {
   "cell_type": "code",
   "execution_count": 6,
   "id": "2fc48c99",
   "metadata": {},
   "outputs": [],
   "source": [
    "def my_func(feature, upper, lower):\n",
    "    tmp = df[(df[feature] >= upper) | (df[feature] <= lower)]\n",
    "    df.drop(index=tmp.index, inplace=True)"
   ]
  },
  {
   "cell_type": "code",
   "execution_count": 7,
   "id": "82b5b6c8",
   "metadata": {
    "scrolled": true
   },
   "outputs": [],
   "source": [
    "my_func('CreditScore',None,383)\n",
    "my_func('Age',62,None)"
   ]
  },
  {
   "cell_type": "markdown",
   "id": "c721fa51",
   "metadata": {},
   "source": [
    "#### การสร้าง dummy variables"
   ]
  },
  {
   "cell_type": "code",
   "execution_count": 8,
   "id": "1a784a94",
   "metadata": {},
   "outputs": [],
   "source": [
    "df_new = pd.get_dummies(df, drop_first=True)"
   ]
  },
  {
   "cell_type": "markdown",
   "id": "e91d94d5",
   "metadata": {},
   "source": [
    "#### ทำการแบ่งข้อมูล train/test ด้วยอัตราส่วน 80:20"
   ]
  },
  {
   "cell_type": "code",
   "execution_count": 9,
   "id": "630224c3",
   "metadata": {},
   "outputs": [],
   "source": [
    "X = df_new.drop('Exited', axis=1)\n",
    "y = df_new['Exited']"
   ]
  },
  {
   "cell_type": "code",
   "execution_count": 10,
   "id": "abf20f58",
   "metadata": {},
   "outputs": [],
   "source": [
    "from sklearn.model_selection import train_test_split\n",
    "\n",
    "X_train, X_test, y_train, y_test = train_test_split(X, y, test_size=0.2, random_state=55)"
   ]
  },
  {
   "cell_type": "markdown",
   "id": "6d4cace1",
   "metadata": {},
   "source": [
    "#### Data Scaling (Standardisation)"
   ]
  },
  {
   "cell_type": "code",
   "execution_count": 11,
   "id": "f880964b",
   "metadata": {},
   "outputs": [],
   "source": [
    "from sklearn.preprocessing import StandardScaler\n",
    "\n",
    "sc_X_train = StandardScaler()\n",
    "sc_X_test = StandardScaler()"
   ]
  },
  {
   "cell_type": "code",
   "execution_count": 12,
   "id": "42761203",
   "metadata": {},
   "outputs": [],
   "source": [
    "tmp = X_train\n",
    "std = sc_X_train.fit_transform(tmp)\n",
    "X_train = pd.DataFrame(std, columns=tmp.columns)\n",
    "\n",
    "tmp = X_test\n",
    "std = sc_X_test.fit_transform(tmp)\n",
    "X_test = pd.DataFrame(std, columns=tmp.columns)"
   ]
  },
  {
   "cell_type": "markdown",
   "id": "b81950dc",
   "metadata": {},
   "source": [
    "#### เขียนฟังก์ชั่นสำหรับประเมินประสิทธิภาพ model และเก็บค่าไว้ทำกราฟเปรียบเทียบในภายหลัง:"
   ]
  },
  {
   "cell_type": "code",
   "execution_count": 13,
   "id": "4c6f4528",
   "metadata": {},
   "outputs": [],
   "source": [
    "from sklearn.metrics import confusion_matrix, accuracy_score, f1_score, precision_score, recall_score"
   ]
  },
  {
   "cell_type": "code",
   "execution_count": 14,
   "id": "7b8468a0",
   "metadata": {},
   "outputs": [],
   "source": [
    "acc = {}; f1 = {}; prec = {}; recl = {}\n",
    "\n",
    "def my_eval(model,y_test,predicted):\n",
    "    \n",
    "    print(model,'Results')\n",
    "    print('Accuracy: ', accuracy_score(y_test, predicted))\n",
    "    print('F1 Score: ', f1_score(y_test, predicted))\n",
    "    print('Precision: ', precision_score(y_test, predicted))\n",
    "    print('Recall: ', recall_score(y_test, predicted))\n",
    "    \n",
    "    acc[model] = accuracy_score(y_test, predicted)\n",
    "    f1[model] = f1_score(y_test, predicted)\n",
    "    prec[model] = precision_score(y_test, predicted)\n",
    "    recl[model] = recall_score(y_test, predicted)\n",
    "    \n",
    "    # declair as a global model to ratain the evalutation values along the notebook\n",
    "    global df_model_compare\n",
    "    df_model_compare = pd.DataFrame.from_dict(\n",
    "        [acc,f1,prec,recl]\n",
    "    ).rename(\n",
    "        index={0:'Accuracy',1:'F1 Score',2:'Precision',3:'Recall'}\n",
    "    )\n",
    "    #display(df_model_compare)"
   ]
  },
  {
   "cell_type": "markdown",
   "id": "2931cf3d",
   "metadata": {},
   "source": [
    "**Random Forest จะเริ่มต้นขึ้นต่อจากนี้**\n",
    "\n",
    "---"
   ]
  },
  {
   "cell_type": "markdown",
   "id": "1505febc",
   "metadata": {},
   "source": [
    "# Random Forest"
   ]
  },
  {
   "cell_type": "markdown",
   "id": "7ee94b0c",
   "metadata": {},
   "source": [
    "Decision Tree เป็น Weak Classifier  \n",
    "Random Forest เป็น Strong Classifier\n",
    "\n",
    "Random Forest เป็นการสร้าง Decision Tree หลาย ๆ ต้น จึงเป็น Ensemble Learning\n",
    "\n",
    "Ensemble Learning คือการสร้าง Machine Learning หลาย ๆ model ให้มาช่วยกันตัดสิน ซึ่งช่วยป้องกันโมเดลตรรกะแปลก ๆ ที่ไม่ถูกต้องออก (protect each other from their individual errors) ทำให้เสียงส่วนใหญ่ไปในทิศทางที่ถูกต้อง โดยเมื่อโมเดลที่ไม่มีความเกี่ยวข้องกัน (uncorrelated) หลาย ๆ ตัวมาร่วมกันตัดสิน จะทำได้ดีกว่าโมเดลตัวเดี่ยว ๆ\n",
    "\n",
    "เมื่อต้องการทำนายจะส่งข้อมูลไปให้โมเดลทุกตัวแล้วทำนายจากเสียงข้างมาก (majority vote)"
   ]
  },
  {
   "cell_type": "code",
   "execution_count": 15,
   "id": "3e002bee",
   "metadata": {},
   "outputs": [],
   "source": [
    "from sklearn.ensemble import RandomForestClassifier"
   ]
  },
  {
   "cell_type": "markdown",
   "id": "1d36d42f",
   "metadata": {},
   "source": [
    "## การหาค่าที่เหมาะสมที่สุดด้วย Hyperparameter Tuning"
   ]
  },
  {
   "cell_type": "code",
   "execution_count": 16,
   "id": "3df5652e",
   "metadata": {},
   "outputs": [],
   "source": [
    "from sklearn.model_selection import GridSearchCV"
   ]
  },
  {
   "cell_type": "markdown",
   "id": "8dff3b65",
   "metadata": {},
   "source": [
    "`max_depth` คือ ความลึกที่มากที่สุดของต้นไม้ (ถ้ามันอยากเกินที่เรากำหนด มันจะไปแตกก้านอื่นแทน) เช่น หาก max_depth = 1 คือแตกกิ่งจาก parent node จำนวน 1 ครั้งแล้วตัดสินเลย\n",
    "\n",
    "`min_samples_leaf` คือ samples น้อยที่สุดที่ต้องการใน leaf node (node สุดท้ายก่อนตัดสินใจ) ยิ่งเงื่อนไขเยอะยิ่งมี node เยอะ\n",
    "\n",
    "`n_estimators` = จำนวน Decision Trees ใน Random Forest  "
   ]
  },
  {
   "cell_type": "code",
   "execution_count": 17,
   "id": "13995118",
   "metadata": {},
   "outputs": [],
   "source": [
    "parameters = {\n",
    "    'max_depth':[4,12,20,40,None],\n",
    "    'min_samples_leaf':[1,2,4,8,16,20],\n",
    "    'min_samples_split':[2,4,8,16,32,64],\n",
    "    'n_estimators':[10,50,100,300],\n",
    "    'max_features':['sqrt', 'log2', None]\n",
    "}"
   ]
  },
  {
   "cell_type": "code",
   "execution_count": 18,
   "id": "45730a3a",
   "metadata": {
    "scrolled": true
   },
   "outputs": [],
   "source": [
    "grid_search = GridSearchCV(RandomForestClassifier(random_state=55),\n",
    "                           parameters,\n",
    "                           verbose=10,\n",
    "                           n_jobs=-1,\n",
    "                           scoring='f1')"
   ]
  },
  {
   "cell_type": "markdown",
   "id": "49e3a5ce",
   "metadata": {},
   "source": [
    "แสดง timestamp ก่อนรันอัลกอริทึม:"
   ]
  },
  {
   "cell_type": "code",
   "execution_count": 19,
   "id": "22878f68",
   "metadata": {},
   "outputs": [
    {
     "name": "stdout",
     "output_type": "stream",
     "text": [
      "14:46:25.389574\n"
     ]
    }
   ],
   "source": [
    "import datetime\n",
    "\n",
    "timer_start = datetime.datetime.now()\n",
    "print(datetime.datetime.now().time())"
   ]
  },
  {
   "cell_type": "markdown",
   "id": "637012c4",
   "metadata": {},
   "source": [
    "สร้าง (ฝึกสอน) model:"
   ]
  },
  {
   "cell_type": "code",
   "execution_count": 20,
   "id": "d77ae69c",
   "metadata": {
    "scrolled": true
   },
   "outputs": [
    {
     "name": "stdout",
     "output_type": "stream",
     "text": [
      "Fitting 5 folds for each of 2160 candidates, totalling 10800 fits\n"
     ]
    },
    {
     "data": {
      "text/html": [
       "<style>#sk-container-id-1 {color: black;}#sk-container-id-1 pre{padding: 0;}#sk-container-id-1 div.sk-toggleable {background-color: white;}#sk-container-id-1 label.sk-toggleable__label {cursor: pointer;display: block;width: 100%;margin-bottom: 0;padding: 0.3em;box-sizing: border-box;text-align: center;}#sk-container-id-1 label.sk-toggleable__label-arrow:before {content: \"▸\";float: left;margin-right: 0.25em;color: #696969;}#sk-container-id-1 label.sk-toggleable__label-arrow:hover:before {color: black;}#sk-container-id-1 div.sk-estimator:hover label.sk-toggleable__label-arrow:before {color: black;}#sk-container-id-1 div.sk-toggleable__content {max-height: 0;max-width: 0;overflow: hidden;text-align: left;background-color: #f0f8ff;}#sk-container-id-1 div.sk-toggleable__content pre {margin: 0.2em;color: black;border-radius: 0.25em;background-color: #f0f8ff;}#sk-container-id-1 input.sk-toggleable__control:checked~div.sk-toggleable__content {max-height: 200px;max-width: 100%;overflow: auto;}#sk-container-id-1 input.sk-toggleable__control:checked~label.sk-toggleable__label-arrow:before {content: \"▾\";}#sk-container-id-1 div.sk-estimator input.sk-toggleable__control:checked~label.sk-toggleable__label {background-color: #d4ebff;}#sk-container-id-1 div.sk-label input.sk-toggleable__control:checked~label.sk-toggleable__label {background-color: #d4ebff;}#sk-container-id-1 input.sk-hidden--visually {border: 0;clip: rect(1px 1px 1px 1px);clip: rect(1px, 1px, 1px, 1px);height: 1px;margin: -1px;overflow: hidden;padding: 0;position: absolute;width: 1px;}#sk-container-id-1 div.sk-estimator {font-family: monospace;background-color: #f0f8ff;border: 1px dotted black;border-radius: 0.25em;box-sizing: border-box;margin-bottom: 0.5em;}#sk-container-id-1 div.sk-estimator:hover {background-color: #d4ebff;}#sk-container-id-1 div.sk-parallel-item::after {content: \"\";width: 100%;border-bottom: 1px solid gray;flex-grow: 1;}#sk-container-id-1 div.sk-label:hover label.sk-toggleable__label {background-color: #d4ebff;}#sk-container-id-1 div.sk-serial::before {content: \"\";position: absolute;border-left: 1px solid gray;box-sizing: border-box;top: 0;bottom: 0;left: 50%;z-index: 0;}#sk-container-id-1 div.sk-serial {display: flex;flex-direction: column;align-items: center;background-color: white;padding-right: 0.2em;padding-left: 0.2em;position: relative;}#sk-container-id-1 div.sk-item {position: relative;z-index: 1;}#sk-container-id-1 div.sk-parallel {display: flex;align-items: stretch;justify-content: center;background-color: white;position: relative;}#sk-container-id-1 div.sk-item::before, #sk-container-id-1 div.sk-parallel-item::before {content: \"\";position: absolute;border-left: 1px solid gray;box-sizing: border-box;top: 0;bottom: 0;left: 50%;z-index: -1;}#sk-container-id-1 div.sk-parallel-item {display: flex;flex-direction: column;z-index: 1;position: relative;background-color: white;}#sk-container-id-1 div.sk-parallel-item:first-child::after {align-self: flex-end;width: 50%;}#sk-container-id-1 div.sk-parallel-item:last-child::after {align-self: flex-start;width: 50%;}#sk-container-id-1 div.sk-parallel-item:only-child::after {width: 0;}#sk-container-id-1 div.sk-dashed-wrapped {border: 1px dashed gray;margin: 0 0.4em 0.5em 0.4em;box-sizing: border-box;padding-bottom: 0.4em;background-color: white;}#sk-container-id-1 div.sk-label label {font-family: monospace;font-weight: bold;display: inline-block;line-height: 1.2em;}#sk-container-id-1 div.sk-label-container {text-align: center;}#sk-container-id-1 div.sk-container {/* jupyter's `normalize.less` sets `[hidden] { display: none; }` but bootstrap.min.css set `[hidden] { display: none !important; }` so we also need the `!important` here to be able to override the default hidden behavior on the sphinx rendered scikit-learn.org. See: https://github.com/scikit-learn/scikit-learn/issues/21755 */display: inline-block !important;position: relative;}#sk-container-id-1 div.sk-text-repr-fallback {display: none;}</style><div id=\"sk-container-id-1\" class=\"sk-top-container\"><div class=\"sk-text-repr-fallback\"><pre>GridSearchCV(estimator=RandomForestClassifier(random_state=55), n_jobs=-1,\n",
       "             param_grid={&#x27;max_depth&#x27;: [4, 12, 20, 40, None],\n",
       "                         &#x27;max_features&#x27;: [&#x27;sqrt&#x27;, &#x27;log2&#x27;, None],\n",
       "                         &#x27;min_samples_leaf&#x27;: [1, 2, 4, 8, 16, 20],\n",
       "                         &#x27;min_samples_split&#x27;: [2, 4, 8, 16, 32, 64],\n",
       "                         &#x27;n_estimators&#x27;: [10, 50, 100, 300]},\n",
       "             scoring=&#x27;f1&#x27;, verbose=10)</pre><b>In a Jupyter environment, please rerun this cell to show the HTML representation or trust the notebook. <br />On GitHub, the HTML representation is unable to render, please try loading this page with nbviewer.org.</b></div><div class=\"sk-container\" hidden><div class=\"sk-item sk-dashed-wrapped\"><div class=\"sk-label-container\"><div class=\"sk-label sk-toggleable\"><input class=\"sk-toggleable__control sk-hidden--visually\" id=\"sk-estimator-id-1\" type=\"checkbox\" ><label for=\"sk-estimator-id-1\" class=\"sk-toggleable__label sk-toggleable__label-arrow\">GridSearchCV</label><div class=\"sk-toggleable__content\"><pre>GridSearchCV(estimator=RandomForestClassifier(random_state=55), n_jobs=-1,\n",
       "             param_grid={&#x27;max_depth&#x27;: [4, 12, 20, 40, None],\n",
       "                         &#x27;max_features&#x27;: [&#x27;sqrt&#x27;, &#x27;log2&#x27;, None],\n",
       "                         &#x27;min_samples_leaf&#x27;: [1, 2, 4, 8, 16, 20],\n",
       "                         &#x27;min_samples_split&#x27;: [2, 4, 8, 16, 32, 64],\n",
       "                         &#x27;n_estimators&#x27;: [10, 50, 100, 300]},\n",
       "             scoring=&#x27;f1&#x27;, verbose=10)</pre></div></div></div><div class=\"sk-parallel\"><div class=\"sk-parallel-item\"><div class=\"sk-item\"><div class=\"sk-label-container\"><div class=\"sk-label sk-toggleable\"><input class=\"sk-toggleable__control sk-hidden--visually\" id=\"sk-estimator-id-2\" type=\"checkbox\" ><label for=\"sk-estimator-id-2\" class=\"sk-toggleable__label sk-toggleable__label-arrow\">estimator: RandomForestClassifier</label><div class=\"sk-toggleable__content\"><pre>RandomForestClassifier(random_state=55)</pre></div></div></div><div class=\"sk-serial\"><div class=\"sk-item\"><div class=\"sk-estimator sk-toggleable\"><input class=\"sk-toggleable__control sk-hidden--visually\" id=\"sk-estimator-id-3\" type=\"checkbox\" ><label for=\"sk-estimator-id-3\" class=\"sk-toggleable__label sk-toggleable__label-arrow\">RandomForestClassifier</label><div class=\"sk-toggleable__content\"><pre>RandomForestClassifier(random_state=55)</pre></div></div></div></div></div></div></div></div></div></div>"
      ],
      "text/plain": [
       "GridSearchCV(estimator=RandomForestClassifier(random_state=55), n_jobs=-1,\n",
       "             param_grid={'max_depth': [4, 12, 20, 40, None],\n",
       "                         'max_features': ['sqrt', 'log2', None],\n",
       "                         'min_samples_leaf': [1, 2, 4, 8, 16, 20],\n",
       "                         'min_samples_split': [2, 4, 8, 16, 32, 64],\n",
       "                         'n_estimators': [10, 50, 100, 300]},\n",
       "             scoring='f1', verbose=10)"
      ]
     },
     "execution_count": 20,
     "metadata": {},
     "output_type": "execute_result"
    }
   ],
   "source": [
    "grid_search.fit(X_train, y_train)"
   ]
  },
  {
   "cell_type": "markdown",
   "id": "7103bd9e",
   "metadata": {},
   "source": [
    "แสดง timestamp หลังรันอัลกอริทึม:"
   ]
  },
  {
   "cell_type": "code",
   "execution_count": 21,
   "id": "b2d9ee18",
   "metadata": {},
   "outputs": [
    {
     "name": "stdout",
     "output_type": "stream",
     "text": [
      "16:13:52.788321\n"
     ]
    }
   ],
   "source": [
    "timer_stop = datetime.datetime.now()\n",
    "print(datetime.datetime.now().time())"
   ]
  },
  {
   "cell_type": "code",
   "execution_count": 22,
   "id": "e8a7672b",
   "metadata": {},
   "outputs": [
    {
     "name": "stdout",
     "output_type": "stream",
     "text": [
      "The time this algorithm utilised: 1:27:27.398747\n"
     ]
    }
   ],
   "source": [
    "print('The time this algorithm utilised:',timer_stop - timer_start)"
   ]
  },
  {
   "cell_type": "markdown",
   "id": "ac676771",
   "metadata": {},
   "source": [
    "**ค่าที่เหมาะสมที่สุด (optimised parameters):**"
   ]
  },
  {
   "cell_type": "code",
   "execution_count": 23,
   "id": "8ee55d91",
   "metadata": {},
   "outputs": [
    {
     "data": {
      "text/plain": [
       "{'max_depth': 40,\n",
       " 'max_features': None,\n",
       " 'min_samples_leaf': 4,\n",
       " 'min_samples_split': 2,\n",
       " 'n_estimators': 50}"
      ]
     },
     "execution_count": 23,
     "metadata": {},
     "output_type": "execute_result"
    }
   ],
   "source": [
    "grid_search.best_params_"
   ]
  },
  {
   "cell_type": "markdown",
   "id": "88eec522",
   "metadata": {},
   "source": [
    "สามารถเลือกที่จะบันทึก model ที่จะสร้างใหม่ หรือจะโหลดจาก model ที่สร้างไว้แล้วก็ได้:"
   ]
  },
  {
   "cell_type": "code",
   "execution_count": 24,
   "id": "ac6530b6",
   "metadata": {},
   "outputs": [
    {
     "data": {
      "text/plain": [
       "['./models/RF.pkl']"
      ]
     },
     "execution_count": 24,
     "metadata": {},
     "output_type": "execute_result"
    }
   ],
   "source": [
    "# Save Model\n",
    "joblib.dump(grid_search, './models/RF.pkl')\n",
    "\n",
    "# Load Model\n",
    "#grid_search = joblib.load('./models/RF.pkl')"
   ]
  },
  {
   "cell_type": "markdown",
   "id": "4755c278",
   "metadata": {},
   "source": [
    "## การประเมิน model ที่ใช้ทำนาย"
   ]
  },
  {
   "cell_type": "markdown",
   "id": "afd51a44",
   "metadata": {},
   "source": [
    "ใช้โมเดลทำนาย test set:"
   ]
  },
  {
   "cell_type": "code",
   "execution_count": 25,
   "id": "aadf2a23",
   "metadata": {},
   "outputs": [],
   "source": [
    "rf_predicted = grid_search.predict(X_test)"
   ]
  },
  {
   "cell_type": "code",
   "execution_count": 26,
   "id": "8dc2e1d8",
   "metadata": {},
   "outputs": [
    {
     "data": {
      "text/plain": [
       "array([[1435,   71],\n",
       "       [ 206,  203]], dtype=int64)"
      ]
     },
     "execution_count": 26,
     "metadata": {},
     "output_type": "execute_result"
    }
   ],
   "source": [
    "confusion_matrix(y_test, rf_predicted)"
   ]
  },
  {
   "cell_type": "markdown",
   "id": "cd07ee9a",
   "metadata": {},
   "source": [
    "[ TN FP ]  \n",
    "[ FN TP ]\n",
    "\n",
    "TP (ทำนายว่า churn; ความจริงคือ churn)  \n",
    "TN (ทำนายว่า non-churn; ความจริงคือ non-churn)  \n",
    "FP (ทำนายว่า churn; ความจริงคือ non-churn)  \n",
    "FN (ทำนายว่า non-churn; ความจริงคือ churn)\n",
    "\n",
    "Churn = เลิกใช้ธนาคาร  \n",
    "Non-churn = ไม่เลิกใช้ธนาคาร"
   ]
  },
  {
   "cell_type": "markdown",
   "id": "9eb69166",
   "metadata": {},
   "source": [
    "เรียกฟังก์ชั่นประเมินประสิทธิภาพ model และเก็บค่าไว้ทำกราฟเปรียบเทียบในภายหลัง:"
   ]
  },
  {
   "cell_type": "code",
   "execution_count": 27,
   "id": "ec5835b3",
   "metadata": {
    "scrolled": true
   },
   "outputs": [
    {
     "name": "stdout",
     "output_type": "stream",
     "text": [
      "RF Results\n",
      "Accuracy:  0.8553524804177546\n",
      "F1 Score:  0.5944363103953149\n",
      "Precision:  0.7408759124087592\n",
      "Recall:  0.4963325183374083\n"
     ]
    }
   ],
   "source": [
    "my_eval('RF', y_test, rf_predicted)"
   ]
  },
  {
   "cell_type": "markdown",
   "id": "ed6a383e",
   "metadata": {},
   "source": [
    "---"
   ]
  },
  {
   "cell_type": "markdown",
   "id": "2c42ab1d",
   "metadata": {},
   "source": [
    "บันทึกค่าประเมินประสิทธิภาพของแต่ละ model เพื่อใช้เปรียบเทียบใน notebook ชื่อ 9_Comparison.ipynb:"
   ]
  },
  {
   "cell_type": "code",
   "execution_count": 28,
   "id": "1719d309",
   "metadata": {},
   "outputs": [],
   "source": [
    "df_model_compare.to_csv('./eval_results/eval_results_RF.csv')"
   ]
  },
  {
   "cell_type": "code",
   "execution_count": null,
   "id": "e871b515",
   "metadata": {},
   "outputs": [],
   "source": []
  }
 ],
 "metadata": {
  "kernelspec": {
   "display_name": "Python 3 (ipykernel)",
   "language": "python",
   "name": "python3"
  },
  "language_info": {
   "codemirror_mode": {
    "name": "ipython",
    "version": 3
   },
   "file_extension": ".py",
   "mimetype": "text/x-python",
   "name": "python",
   "nbconvert_exporter": "python",
   "pygments_lexer": "ipython3",
   "version": "3.11.5"
  }
 },
 "nbformat": 4,
 "nbformat_minor": 5
}
