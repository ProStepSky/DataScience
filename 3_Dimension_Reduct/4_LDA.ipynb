{
 "cells": [
  {
   "cell_type": "markdown",
   "id": "41d12e05",
   "metadata": {},
   "source": [
    "**ส่วนนี้คือการทำ data cleaning (ท่านสามารถดูเพิ่มเติมได้ที่ 1_Data_Cleaning.ipynb)**\n",
    "\n",
    "**สำหรับการลดขนาดมิติข้อมูลด้วยเทคนิค Linear Discriminant Analysis (LDA) จะเริ่มต่อท้ายหลังจบส่วนนี้**"
   ]
  },
  {
   "cell_type": "code",
   "execution_count": 1,
   "id": "497e8299",
   "metadata": {},
   "outputs": [
    {
     "data": {
      "text/plain": [
       "'3.11.5 | packaged by Anaconda, Inc. | (main, Sep 11 2023, 13:26:23) [MSC v.1916 64 bit (AMD64)]'"
      ]
     },
     "execution_count": 1,
     "metadata": {},
     "output_type": "execute_result"
    }
   ],
   "source": [
    "import sys\n",
    "sys.version"
   ]
  },
  {
   "cell_type": "code",
   "execution_count": 2,
   "id": "eac50817",
   "metadata": {},
   "outputs": [],
   "source": [
    "import pandas as pd\n",
    "import numpy as np\n",
    "import matplotlib.pyplot as plt\n",
    "import seaborn as sns\n",
    "import plotly.express as px\n",
    "import joblib\n",
    "\n",
    "%matplotlib inline\n",
    "%config InlineBackend.figure_format = 'retina'"
   ]
  },
  {
   "cell_type": "code",
   "execution_count": 3,
   "id": "e84045c7",
   "metadata": {},
   "outputs": [],
   "source": [
    "df = pd.read_parquet('./dataset/train_data.parquet')"
   ]
  },
  {
   "cell_type": "markdown",
   "id": "54a1854f",
   "metadata": {},
   "source": [
    "#### ทำการเปลี่ยนชนิดข้อมูลให้ถูกประเภท"
   ]
  },
  {
   "cell_type": "code",
   "execution_count": 4,
   "id": "04dc639e",
   "metadata": {},
   "outputs": [],
   "source": [
    "df['S_2'] = pd.to_datetime(df['S_2'], format='%Y-%m-%d')"
   ]
  },
  {
   "cell_type": "code",
   "execution_count": 5,
   "id": "60d73b71",
   "metadata": {},
   "outputs": [],
   "source": [
    "category_cols = ['B_30','B_38','D_114','D_116','D_117','D_120','D_126','D_63','D_64','D_66','D_68']\n",
    "\n",
    "for col in category_cols:\n",
    "    df[col] = df[col].astype('category')"
   ]
  },
  {
   "cell_type": "markdown",
   "id": "b1b9b8ed",
   "metadata": {},
   "source": [
    "#### การจัดการกับค่าที่หายไป (Missing Value)"
   ]
  },
  {
   "cell_type": "code",
   "execution_count": 6,
   "id": "1e44f734",
   "metadata": {},
   "outputs": [],
   "source": [
    "percent_missing = df.isnull().sum() * 100 / len(df)\n",
    "df_missing_val = pd.DataFrame({'column_name': df.columns,\n",
    "                                 'percent_missing': percent_missing})"
   ]
  },
  {
   "cell_type": "code",
   "execution_count": 7,
   "id": "a916ecd3",
   "metadata": {},
   "outputs": [],
   "source": [
    "df.drop(\n",
    "    columns=df_missing_val.loc[\n",
    "        df_missing_val.percent_missing > 50\n",
    "    ].index, inplace=True, errors='ignore'\n",
    ")"
   ]
  },
  {
   "cell_type": "code",
   "execution_count": 8,
   "id": "d75b8677",
   "metadata": {},
   "outputs": [],
   "source": [
    "df.dropna(inplace=True)"
   ]
  },
  {
   "cell_type": "markdown",
   "id": "59d2304c",
   "metadata": {},
   "source": [
    "#### สร้าง dummy variables"
   ]
  },
  {
   "cell_type": "code",
   "execution_count": 9,
   "id": "1edf9155",
   "metadata": {},
   "outputs": [],
   "source": [
    "df = pd.get_dummies(df, columns=['D_63','D_64','D_68',\n",
    "                                 'B_30','B_38',\n",
    "                                 'D_114','D_116','D_117','D_120','D_126'], drop_first=True)\n",
    "# drop_first=True in order to prevent the Multi-collinearity problem"
   ]
  },
  {
   "cell_type": "markdown",
   "id": "98d584e5",
   "metadata": {},
   "source": [
    "**การลดขนาดมิติข้อมูลด้วยเทคนิค Linear Discriminant Analysis (LDA) จะเริ่มต้นขึ้นต่อจากนี้**\n",
    "\n",
    "---"
   ]
  },
  {
   "cell_type": "markdown",
   "id": "af9d3a74",
   "metadata": {},
   "source": [
    "# การลดขนาดมิติข้อมูลด้วยเทคนิค Linear Discriminant Analysis (LDA)"
   ]
  },
  {
   "cell_type": "markdown",
   "id": "f3f9cf79",
   "metadata": {},
   "source": [
    "#### เขียนฟังก์ชั่นสำหรับประเมินประสิทธิภาพ model และเก็บค่าไว้ทำกราฟเปรียบเทียบในภายหลัง:"
   ]
  },
  {
   "cell_type": "code",
   "execution_count": 10,
   "id": "eee965b9",
   "metadata": {},
   "outputs": [],
   "source": [
    "from sklearn.metrics import confusion_matrix, accuracy_score, f1_score, precision_score, recall_score"
   ]
  },
  {
   "cell_type": "code",
   "execution_count": 11,
   "id": "2fd72aa8",
   "metadata": {},
   "outputs": [],
   "source": [
    "acc = {}; f1 = {}; prec = {}; recl = {}\n",
    "\n",
    "def my_eval(model,y_test,predicted):\n",
    "    \n",
    "    print(model,'Results')\n",
    "    print('Accuracy: ', accuracy_score(y_test, predicted))\n",
    "    print('F1 Score: ', f1_score(y_test, predicted))\n",
    "    print('Precision: ', precision_score(y_test, predicted))\n",
    "    print('Recall: ', recall_score(y_test, predicted))\n",
    "    \n",
    "    acc[model] = accuracy_score(y_test, predicted)\n",
    "    f1[model] = f1_score(y_test, predicted)\n",
    "    prec[model] = precision_score(y_test, predicted)\n",
    "    recl[model] = recall_score(y_test, predicted)\n",
    "    \n",
    "    # declair as a global model to ratain the evalutation values along the notebook\n",
    "    global df_model_compare\n",
    "    df_model_compare = pd.DataFrame.from_dict(\n",
    "        [acc,f1,prec,recl]\n",
    "    ).rename(\n",
    "        index={0:'Accuracy',1:'F1 Score',2:'Precision',3:'Recall'}\n",
    "    )\n",
    "    #display(df_model_compare)"
   ]
  },
  {
   "cell_type": "markdown",
   "id": "e7fa79c6",
   "metadata": {},
   "source": [
    "## ทำการแบ่งข้อมูล train/test ด้วยอัตราส่วน 80:20"
   ]
  },
  {
   "cell_type": "markdown",
   "id": "fdaa6f25",
   "metadata": {},
   "source": [
    "ในการสร้าง models เพื่อทำนายว่าลูกค้าจะผิดนัดชำระหนี้หรือไม่ จะใช้ปัจจัย (features) ทุกตัวยกเว้น customer_ID เนื่องจากไม่ส่งผลต่อผลลัพธ์และ S_2 เนื่องจากไม่ทราบแน่ชัดว่าคือวันที่ของสิ่งใดและมีความหมายว่าอย่างไร (เนื่องจากชุดข้อมูลนี้ถูกทำให้เป็นแบบนิรนาม (anonymised) มาตั้งแต่ต้น)\n",
    "\n",
    "กำหนดตัวแปร X (ตัวแปรอิสระ) และ y (ตัวแปรตาม):"
   ]
  },
  {
   "cell_type": "code",
   "execution_count": 12,
   "id": "e80bf679",
   "metadata": {},
   "outputs": [],
   "source": [
    "X = df.drop(['target','customer_ID','S_2'],axis=1)\n",
    "y = df['target']"
   ]
  },
  {
   "cell_type": "code",
   "execution_count": 13,
   "id": "d8a7b402",
   "metadata": {},
   "outputs": [],
   "source": [
    "from sklearn.model_selection import train_test_split\n",
    "\n",
    "X_train, X_test, y_train, y_test = train_test_split(X, y, test_size=0.2, random_state=42)"
   ]
  },
  {
   "cell_type": "raw",
   "id": "09d0695d",
   "metadata": {
    "scrolled": true
   },
   "source": [
    "print(X_train.shape)\n",
    "print(X_test.shape)\n",
    "print(y_train.shape)\n",
    "print(y_test.shape)"
   ]
  },
  {
   "cell_type": "markdown",
   "id": "f693da67",
   "metadata": {},
   "source": [
    "## ดำเนินการทำ Linear Discriminant Analysis (LDA)"
   ]
  },
  {
   "cell_type": "markdown",
   "id": "e8bbc0e9",
   "metadata": {},
   "source": [
    "ด้วยข้อจำกัดของชุดข้อมูลนี้ที่มีเพียง 2 classes ทำให้กำหนดจำนวน component ได้เพียงแค่ 1 component:"
   ]
  },
  {
   "cell_type": "code",
   "execution_count": 14,
   "id": "45cbb8eb",
   "metadata": {},
   "outputs": [],
   "source": [
    "from sklearn.discriminant_analysis import LinearDiscriminantAnalysis as LDA\n",
    "\n",
    "lda = LDA(n_components=1)\n",
    "# n_components can't be larger than n-feature or n-class - 1"
   ]
  },
  {
   "cell_type": "code",
   "execution_count": 15,
   "id": "0166bafd",
   "metadata": {},
   "outputs": [],
   "source": [
    "X_train_lda = lda.fit_transform(X_train, y_train)\n",
    "X_test_lda = lda.transform(X_test)"
   ]
  },
  {
   "cell_type": "markdown",
   "id": "75e13492",
   "metadata": {},
   "source": [
    "หลังจากใช้เทคนิค Linear Discriminant Analysis (LDA) แล้ว ทำการล้างตัวแปรต้นฉบับ (X_train, y_train) เพื่อประหยัดหน่วยความจำ:"
   ]
  },
  {
   "cell_type": "code",
   "execution_count": 16,
   "id": "5e62ab18",
   "metadata": {},
   "outputs": [],
   "source": [
    "del X_train\n",
    "del X_test"
   ]
  },
  {
   "cell_type": "markdown",
   "id": "08b4ad12",
   "metadata": {},
   "source": [
    "## วาดกราฟแสดงผลของการทำ LDA"
   ]
  },
  {
   "cell_type": "markdown",
   "id": "d812fad1",
   "metadata": {},
   "source": [
    "ด้วยข้อจำกัดของชุดข้อมูลนี้ที่มีเพียง 2 classes ทำให้กำหนดจำนวน component ได้เพียงแค่ 1 component ซึ่งส่งผลให้วาดกราฟได้เพียงแค่ 1 มิติ:"
   ]
  },
  {
   "cell_type": "markdown",
   "id": "fe99d985",
   "metadata": {},
   "source": [
    "กราฟแสดงการแจกแจงของจุดข้อมูลกับแกน component ใหม่ที่ได้จากการทำ LDA:"
   ]
  },
  {
   "cell_type": "code",
   "execution_count": 17,
   "id": "9b1ec6a1",
   "metadata": {},
   "outputs": [
    {
     "data": {
      "image/png": "[encoded data removed]",
      "text/plain": [
       "<Figure size 1200x500 with 1 Axes>"
      ]
     },
     "metadata": {
      "image/png": {
       "height": 472,
       "width": 1001
      }
     },
     "output_type": "display_data"
    }
   ],
   "source": [
    "plt.figure(figsize=(12,5))\n",
    "\n",
    "sns.kdeplot(X_train_lda[:,0][y_train==1], label='Default',\n",
    "            color='green', fill=True)\n",
    "sns.kdeplot(X_train_lda[:,0][y_train==0], label='Non-Default',\n",
    "            color='red', fill=True)\n",
    "\n",
    "plt.xlabel('Component 1')\n",
    "plt.ylim([0,1])\n",
    "plt.title('Distribution of an LDA component',fontsize=15)\n",
    "plt.legend(title='Classes')\n",
    "plt.show()"
   ]
  },
  {
   "cell_type": "markdown",
   "id": "2e7e562a",
   "metadata": {},
   "source": [
    "จากกราฟพบว่าอัลกอริทึม Linear Discriminant Analysis สามารถแยก 2 classes ออกจากกันได้ดีพอสมควร"
   ]
  },
  {
   "cell_type": "markdown",
   "id": "d3b77b6b",
   "metadata": {},
   "source": [
    "**สรุป:**\n",
    "\n",
    "ทำการลดมิติด้วย Linear Discriminant Analysis (LDA) จาก 181 features เหลือ 1 component"
   ]
  },
  {
   "cell_type": "markdown",
   "id": "e2899dfc",
   "metadata": {},
   "source": [
    "## 1) Logistic Regression with LDA"
   ]
  },
  {
   "cell_type": "code",
   "execution_count": 18,
   "id": "da46dc5c",
   "metadata": {},
   "outputs": [],
   "source": [
    "import datetime"
   ]
  },
  {
   "cell_type": "markdown",
   "id": "ddc9e452",
   "metadata": {},
   "source": [
    "แสดง timestamp ก่อนรันอัลกอริทึม:"
   ]
  },
  {
   "cell_type": "code",
   "execution_count": 19,
   "id": "ad37b6a4",
   "metadata": {},
   "outputs": [
    {
     "name": "stdout",
     "output_type": "stream",
     "text": [
      "20:57:41.689319\n"
     ]
    }
   ],
   "source": [
    "timer_start = datetime.datetime.now()\n",
    "print(datetime.datetime.now().time())"
   ]
  },
  {
   "cell_type": "markdown",
   "id": "6324c88b",
   "metadata": {},
   "source": [
    "สร้าง (ฝึกสอน) model:"
   ]
  },
  {
   "cell_type": "code",
   "execution_count": 20,
   "id": "4f4df819",
   "metadata": {},
   "outputs": [
    {
     "data": {
      "text/html": [
       "<style>#sk-container-id-1 {color: black;}#sk-container-id-1 pre{padding: 0;}#sk-container-id-1 div.sk-toggleable {background-color: white;}#sk-container-id-1 label.sk-toggleable__label {cursor: pointer;display: block;width: 100%;margin-bottom: 0;padding: 0.3em;box-sizing: border-box;text-align: center;}#sk-container-id-1 label.sk-toggleable__label-arrow:before {content: \"▸\";float: left;margin-right: 0.25em;color: #696969;}#sk-container-id-1 label.sk-toggleable__label-arrow:hover:before {color: black;}#sk-container-id-1 div.sk-estimator:hover label.sk-toggleable__label-arrow:before {color: black;}#sk-container-id-1 div.sk-toggleable__content {max-height: 0;max-width: 0;overflow: hidden;text-align: left;background-color: #f0f8ff;}#sk-container-id-1 div.sk-toggleable__content pre {margin: 0.2em;color: black;border-radius: 0.25em;background-color: #f0f8ff;}#sk-container-id-1 input.sk-toggleable__control:checked~div.sk-toggleable__content {max-height: 200px;max-width: 100%;overflow: auto;}#sk-container-id-1 input.sk-toggleable__control:checked~label.sk-toggleable__label-arrow:before {content: \"▾\";}#sk-container-id-1 div.sk-estimator input.sk-toggleable__control:checked~label.sk-toggleable__label {background-color: #d4ebff;}#sk-container-id-1 div.sk-label input.sk-toggleable__control:checked~label.sk-toggleable__label {background-color: #d4ebff;}#sk-container-id-1 input.sk-hidden--visually {border: 0;clip: rect(1px 1px 1px 1px);clip: rect(1px, 1px, 1px, 1px);height: 1px;margin: -1px;overflow: hidden;padding: 0;position: absolute;width: 1px;}#sk-container-id-1 div.sk-estimator {font-family: monospace;background-color: #f0f8ff;border: 1px dotted black;border-radius: 0.25em;box-sizing: border-box;margin-bottom: 0.5em;}#sk-container-id-1 div.sk-estimator:hover {background-color: #d4ebff;}#sk-container-id-1 div.sk-parallel-item::after {content: \"\";width: 100%;border-bottom: 1px solid gray;flex-grow: 1;}#sk-container-id-1 div.sk-label:hover label.sk-toggleable__label {background-color: #d4ebff;}#sk-container-id-1 div.sk-serial::before {content: \"\";position: absolute;border-left: 1px solid gray;box-sizing: border-box;top: 0;bottom: 0;left: 50%;z-index: 0;}#sk-container-id-1 div.sk-serial {display: flex;flex-direction: column;align-items: center;background-color: white;padding-right: 0.2em;padding-left: 0.2em;position: relative;}#sk-container-id-1 div.sk-item {position: relative;z-index: 1;}#sk-container-id-1 div.sk-parallel {display: flex;align-items: stretch;justify-content: center;background-color: white;position: relative;}#sk-container-id-1 div.sk-item::before, #sk-container-id-1 div.sk-parallel-item::before {content: \"\";position: absolute;border-left: 1px solid gray;box-sizing: border-box;top: 0;bottom: 0;left: 50%;z-index: -1;}#sk-container-id-1 div.sk-parallel-item {display: flex;flex-direction: column;z-index: 1;position: relative;background-color: white;}#sk-container-id-1 div.sk-parallel-item:first-child::after {align-self: flex-end;width: 50%;}#sk-container-id-1 div.sk-parallel-item:last-child::after {align-self: flex-start;width: 50%;}#sk-container-id-1 div.sk-parallel-item:only-child::after {width: 0;}#sk-container-id-1 div.sk-dashed-wrapped {border: 1px dashed gray;margin: 0 0.4em 0.5em 0.4em;box-sizing: border-box;padding-bottom: 0.4em;background-color: white;}#sk-container-id-1 div.sk-label label {font-family: monospace;font-weight: bold;display: inline-block;line-height: 1.2em;}#sk-container-id-1 div.sk-label-container {text-align: center;}#sk-container-id-1 div.sk-container {/* jupyter's `normalize.less` sets `[hidden] { display: none; }` but bootstrap.min.css set `[hidden] { display: none !important; }` so we also need the `!important` here to be able to override the default hidden behavior on the sphinx rendered scikit-learn.org. See: https://github.com/scikit-learn/scikit-learn/issues/21755 */display: inline-block !important;position: relative;}#sk-container-id-1 div.sk-text-repr-fallback {display: none;}</style><div id=\"sk-container-id-1\" class=\"sk-top-container\"><div class=\"sk-text-repr-fallback\"><pre>LogisticRegression(max_iter=1000, random_state=42)</pre><b>In a Jupyter environment, please rerun this cell to show the HTML representation or trust the notebook. <br />On GitHub, the HTML representation is unable to render, please try loading this page with nbviewer.org.</b></div><div class=\"sk-container\" hidden><div class=\"sk-item\"><div class=\"sk-estimator sk-toggleable\"><input class=\"sk-toggleable__control sk-hidden--visually\" id=\"sk-estimator-id-1\" type=\"checkbox\" checked><label for=\"sk-estimator-id-1\" class=\"sk-toggleable__label sk-toggleable__label-arrow\">LogisticRegression</label><div class=\"sk-toggleable__content\"><pre>LogisticRegression(max_iter=1000, random_state=42)</pre></div></div></div></div></div>"
      ],
      "text/plain": [
       "LogisticRegression(max_iter=1000, random_state=42)"
      ]
     },
     "execution_count": 20,
     "metadata": {},
     "output_type": "execute_result"
    }
   ],
   "source": [
    "from sklearn.linear_model import LogisticRegression\n",
    "\n",
    "logistic_classifier_lda = LogisticRegression(max_iter=1000, random_state=42)\n",
    "logistic_classifier_lda.fit(X_train_lda, y_train)"
   ]
  },
  {
   "cell_type": "markdown",
   "id": "db276d3d",
   "metadata": {},
   "source": [
    "แสดง timestamp หลังรันอัลกอริทึม:"
   ]
  },
  {
   "cell_type": "code",
   "execution_count": 21,
   "id": "26341664",
   "metadata": {
    "scrolled": true
   },
   "outputs": [
    {
     "name": "stdout",
     "output_type": "stream",
     "text": [
      "20:57:42.284363\n"
     ]
    }
   ],
   "source": [
    "timer_stop = datetime.datetime.now()\n",
    "print(datetime.datetime.now().time())"
   ]
  },
  {
   "cell_type": "code",
   "execution_count": 22,
   "id": "47d2f7a8",
   "metadata": {},
   "outputs": [
    {
     "name": "stdout",
     "output_type": "stream",
     "text": [
      "The time this algorithm utilised: 0:00:00.595044\n"
     ]
    }
   ],
   "source": [
    "print('The time this algorithm utilised:',timer_stop - timer_start)"
   ]
  },
  {
   "cell_type": "markdown",
   "id": "53e387ea",
   "metadata": {},
   "source": [
    "**อัลกอริทึมนี้ใช้เวลาทำงานประมาณ 1 วินาที**"
   ]
  },
  {
   "cell_type": "markdown",
   "id": "d295919d",
   "metadata": {},
   "source": [
    "สามารถเลือกที่จะบันทึก model ที่จะสร้างใหม่ หรือจะโหลดจาก model ที่สร้างไว้แล้วก็ได้:"
   ]
  },
  {
   "cell_type": "code",
   "execution_count": 23,
   "id": "7a4c426a",
   "metadata": {},
   "outputs": [
    {
     "data": {
      "text/plain": [
       "['./models/Logit_LDA.pkl']"
      ]
     },
     "execution_count": 23,
     "metadata": {},
     "output_type": "execute_result"
    }
   ],
   "source": [
    "# Save Model\n",
    "joblib.dump(logistic_classifier_lda, './models/Logit_LDA.pkl')\n",
    "\n",
    "# Load Model\n",
    "#logistic_classifier_lda = joblib.load('./models/Logit_LDA.pkl')"
   ]
  },
  {
   "cell_type": "markdown",
   "id": "09c1ebbd",
   "metadata": {},
   "source": [
    "ใช้โมเดลทำนาย test set:"
   ]
  },
  {
   "cell_type": "code",
   "execution_count": 24,
   "id": "1c6e29ac",
   "metadata": {},
   "outputs": [],
   "source": [
    "logistic_predicted_lda = logistic_classifier_lda.predict(X_test_lda)"
   ]
  },
  {
   "cell_type": "code",
   "execution_count": 25,
   "id": "7980e044",
   "metadata": {
    "scrolled": true
   },
   "outputs": [
    {
     "data": {
      "text/plain": [
       "array([[189576,  11681],\n",
       "       [ 17609,  41458]], dtype=int64)"
      ]
     },
     "execution_count": 25,
     "metadata": {},
     "output_type": "execute_result"
    }
   ],
   "source": [
    "confusion_matrix(y_test, logistic_predicted_lda)"
   ]
  },
  {
   "cell_type": "markdown",
   "id": "981df70b",
   "metadata": {},
   "source": [
    "[ TN FP ]  \n",
    "[ FN TP ]\n",
    "\n",
    "TP (ทำนายว่า default; ความจริงคือ default)  \n",
    "TN (ทำนายว่า non-default; ความจริงคือ non-default)  \n",
    "FP (ทำนายว่า default; ความจริงคือ non-default)  \n",
    "FN (ทำนายว่า non-default; ความจริงคือ default)"
   ]
  },
  {
   "cell_type": "markdown",
   "id": "f523753a",
   "metadata": {},
   "source": [
    "เรียกฟังก์ชั่นประเมินประสิทธิภาพ model และเก็บค่าไว้ทำกราฟเปรียบเทียบในภายหลัง:"
   ]
  },
  {
   "cell_type": "code",
   "execution_count": 26,
   "id": "11a046ce",
   "metadata": {},
   "outputs": [
    {
     "name": "stdout",
     "output_type": "stream",
     "text": [
      "Logit_LDA Results\n",
      "Accuracy:  0.8874863631474624\n",
      "F1 Score:  0.7389622658324867\n",
      "Precision:  0.780180281902181\n",
      "Recall:  0.7018809148932568\n"
     ]
    }
   ],
   "source": [
    "my_eval('Logit_LDA',y_test,logistic_predicted_lda)"
   ]
  },
  {
   "cell_type": "markdown",
   "id": "aca013fe",
   "metadata": {},
   "source": [
    "## 2) Naïve Bayes with LDA"
   ]
  },
  {
   "cell_type": "markdown",
   "id": "ce794338",
   "metadata": {},
   "source": [
    "แสดง timestamp ก่อนรันอัลกอริทึม:"
   ]
  },
  {
   "cell_type": "code",
   "execution_count": 27,
   "id": "88136e39",
   "metadata": {},
   "outputs": [
    {
     "name": "stdout",
     "output_type": "stream",
     "text": [
      "20:57:42.933922\n"
     ]
    }
   ],
   "source": [
    "timer_start = datetime.datetime.now()\n",
    "print(datetime.datetime.now().time())"
   ]
  },
  {
   "cell_type": "markdown",
   "id": "8c620821",
   "metadata": {},
   "source": [
    "สร้าง (ฝึกสอน) model:"
   ]
  },
  {
   "cell_type": "code",
   "execution_count": 28,
   "id": "505aa848",
   "metadata": {},
   "outputs": [
    {
     "data": {
      "text/html": [
       "<style>#sk-container-id-2 {color: black;}#sk-container-id-2 pre{padding: 0;}#sk-container-id-2 div.sk-toggleable {background-color: white;}#sk-container-id-2 label.sk-toggleable__label {cursor: pointer;display: block;width: 100%;margin-bottom: 0;padding: 0.3em;box-sizing: border-box;text-align: center;}#sk-container-id-2 label.sk-toggleable__label-arrow:before {content: \"▸\";float: left;margin-right: 0.25em;color: #696969;}#sk-container-id-2 label.sk-toggleable__label-arrow:hover:before {color: black;}#sk-container-id-2 div.sk-estimator:hover label.sk-toggleable__label-arrow:before {color: black;}#sk-container-id-2 div.sk-toggleable__content {max-height: 0;max-width: 0;overflow: hidden;text-align: left;background-color: #f0f8ff;}#sk-container-id-2 div.sk-toggleable__content pre {margin: 0.2em;color: black;border-radius: 0.25em;background-color: #f0f8ff;}#sk-container-id-2 input.sk-toggleable__control:checked~div.sk-toggleable__content {max-height: 200px;max-width: 100%;overflow: auto;}#sk-container-id-2 input.sk-toggleable__control:checked~label.sk-toggleable__label-arrow:before {content: \"▾\";}#sk-container-id-2 div.sk-estimator input.sk-toggleable__control:checked~label.sk-toggleable__label {background-color: #d4ebff;}#sk-container-id-2 div.sk-label input.sk-toggleable__control:checked~label.sk-toggleable__label {background-color: #d4ebff;}#sk-container-id-2 input.sk-hidden--visually {border: 0;clip: rect(1px 1px 1px 1px);clip: rect(1px, 1px, 1px, 1px);height: 1px;margin: -1px;overflow: hidden;padding: 0;position: absolute;width: 1px;}#sk-container-id-2 div.sk-estimator {font-family: monospace;background-color: #f0f8ff;border: 1px dotted black;border-radius: 0.25em;box-sizing: border-box;margin-bottom: 0.5em;}#sk-container-id-2 div.sk-estimator:hover {background-color: #d4ebff;}#sk-container-id-2 div.sk-parallel-item::after {content: \"\";width: 100%;border-bottom: 1px solid gray;flex-grow: 1;}#sk-container-id-2 div.sk-label:hover label.sk-toggleable__label {background-color: #d4ebff;}#sk-container-id-2 div.sk-serial::before {content: \"\";position: absolute;border-left: 1px solid gray;box-sizing: border-box;top: 0;bottom: 0;left: 50%;z-index: 0;}#sk-container-id-2 div.sk-serial {display: flex;flex-direction: column;align-items: center;background-color: white;padding-right: 0.2em;padding-left: 0.2em;position: relative;}#sk-container-id-2 div.sk-item {position: relative;z-index: 1;}#sk-container-id-2 div.sk-parallel {display: flex;align-items: stretch;justify-content: center;background-color: white;position: relative;}#sk-container-id-2 div.sk-item::before, #sk-container-id-2 div.sk-parallel-item::before {content: \"\";position: absolute;border-left: 1px solid gray;box-sizing: border-box;top: 0;bottom: 0;left: 50%;z-index: -1;}#sk-container-id-2 div.sk-parallel-item {display: flex;flex-direction: column;z-index: 1;position: relative;background-color: white;}#sk-container-id-2 div.sk-parallel-item:first-child::after {align-self: flex-end;width: 50%;}#sk-container-id-2 div.sk-parallel-item:last-child::after {align-self: flex-start;width: 50%;}#sk-container-id-2 div.sk-parallel-item:only-child::after {width: 0;}#sk-container-id-2 div.sk-dashed-wrapped {border: 1px dashed gray;margin: 0 0.4em 0.5em 0.4em;box-sizing: border-box;padding-bottom: 0.4em;background-color: white;}#sk-container-id-2 div.sk-label label {font-family: monospace;font-weight: bold;display: inline-block;line-height: 1.2em;}#sk-container-id-2 div.sk-label-container {text-align: center;}#sk-container-id-2 div.sk-container {/* jupyter's `normalize.less` sets `[hidden] { display: none; }` but bootstrap.min.css set `[hidden] { display: none !important; }` so we also need the `!important` here to be able to override the default hidden behavior on the sphinx rendered scikit-learn.org. See: https://github.com/scikit-learn/scikit-learn/issues/21755 */display: inline-block !important;position: relative;}#sk-container-id-2 div.sk-text-repr-fallback {display: none;}</style><div id=\"sk-container-id-2\" class=\"sk-top-container\"><div class=\"sk-text-repr-fallback\"><pre>GaussianNB()</pre><b>In a Jupyter environment, please rerun this cell to show the HTML representation or trust the notebook. <br />On GitHub, the HTML representation is unable to render, please try loading this page with nbviewer.org.</b></div><div class=\"sk-container\" hidden><div class=\"sk-item\"><div class=\"sk-estimator sk-toggleable\"><input class=\"sk-toggleable__control sk-hidden--visually\" id=\"sk-estimator-id-2\" type=\"checkbox\" checked><label for=\"sk-estimator-id-2\" class=\"sk-toggleable__label sk-toggleable__label-arrow\">GaussianNB</label><div class=\"sk-toggleable__content\"><pre>GaussianNB()</pre></div></div></div></div></div>"
      ],
      "text/plain": [
       "GaussianNB()"
      ]
     },
     "execution_count": 28,
     "metadata": {},
     "output_type": "execute_result"
    }
   ],
   "source": [
    "from sklearn.naive_bayes import GaussianNB\n",
    "\n",
    "nb_lda = GaussianNB()\n",
    "nb_lda.fit(X_train_lda, y_train)"
   ]
  },
  {
   "cell_type": "markdown",
   "id": "6d6bcc3c",
   "metadata": {},
   "source": [
    "แสดง timestamp หลังรันอัลกอริทึม:"
   ]
  },
  {
   "cell_type": "code",
   "execution_count": 29,
   "id": "c2bdb712",
   "metadata": {
    "scrolled": true
   },
   "outputs": [
    {
     "name": "stdout",
     "output_type": "stream",
     "text": [
      "20:57:43.029024\n"
     ]
    }
   ],
   "source": [
    "timer_stop = datetime.datetime.now()\n",
    "print(datetime.datetime.now().time())"
   ]
  },
  {
   "cell_type": "code",
   "execution_count": 30,
   "id": "254f8e2b",
   "metadata": {},
   "outputs": [
    {
     "name": "stdout",
     "output_type": "stream",
     "text": [
      "The time this algorithm utilised: 0:00:00.095102\n"
     ]
    }
   ],
   "source": [
    "print('The time this algorithm utilised:',timer_stop - timer_start)"
   ]
  },
  {
   "cell_type": "markdown",
   "id": "ec620fc9",
   "metadata": {},
   "source": [
    "**อัลกอริทึมนี้ใช้เวลาทำงานประมาณ 1 วินาที**"
   ]
  },
  {
   "cell_type": "markdown",
   "id": "14f3447f",
   "metadata": {},
   "source": [
    "สามารถเลือกที่จะบันทึก model ที่จะสร้างใหม่ หรือจะโหลดจาก model ที่สร้างไว้แล้วก็ได้:"
   ]
  },
  {
   "cell_type": "code",
   "execution_count": 31,
   "id": "7ae4a0b1",
   "metadata": {},
   "outputs": [
    {
     "data": {
      "text/plain": [
       "['./models/NB_LDA.pkl']"
      ]
     },
     "execution_count": 31,
     "metadata": {},
     "output_type": "execute_result"
    }
   ],
   "source": [
    "# Save Model\n",
    "joblib.dump(nb_lda, './models/NB_LDA.pkl')\n",
    "\n",
    "# Load Model\n",
    "#nb_lda = joblib.load('./models/NB_LDA.pkl')"
   ]
  },
  {
   "cell_type": "markdown",
   "id": "4dd186e9",
   "metadata": {},
   "source": [
    "ใช้โมเดลทำนาย test set:"
   ]
  },
  {
   "cell_type": "code",
   "execution_count": 32,
   "id": "3f289ca2",
   "metadata": {},
   "outputs": [],
   "source": [
    "nb_predicted_lda = nb_lda.predict(X_test_lda)"
   ]
  },
  {
   "cell_type": "code",
   "execution_count": 33,
   "id": "b368b472",
   "metadata": {
    "scrolled": true
   },
   "outputs": [
    {
     "data": {
      "text/plain": [
       "array([[187656,  13601],\n",
       "       [ 15288,  43779]], dtype=int64)"
      ]
     },
     "execution_count": 33,
     "metadata": {},
     "output_type": "execute_result"
    }
   ],
   "source": [
    "confusion_matrix(y_test, nb_predicted_lda)"
   ]
  },
  {
   "cell_type": "markdown",
   "id": "edabe4c6",
   "metadata": {},
   "source": [
    "เรียกฟังก์ชั่นประเมินประสิทธิภาพ model และเก็บค่าไว้ทำกราฟเปรียบเทียบในภายหลัง:"
   ]
  },
  {
   "cell_type": "code",
   "execution_count": 34,
   "id": "8fdd2d80",
   "metadata": {},
   "outputs": [
    {
     "name": "stdout",
     "output_type": "stream",
     "text": [
      "NB_LDA Results\n",
      "Accuracy:  0.8890267512791752\n",
      "F1 Score:  0.7519128874080054\n",
      "Precision:  0.7629661903102126\n",
      "Recall:  0.7411752755345624\n"
     ]
    }
   ],
   "source": [
    "my_eval('NB_LDA',y_test,nb_predicted_lda)"
   ]
  },
  {
   "cell_type": "markdown",
   "id": "693e21f8",
   "metadata": {},
   "source": [
    "## 3) Decision Tree with LDA"
   ]
  },
  {
   "cell_type": "markdown",
   "id": "f40d723a",
   "metadata": {},
   "source": [
    "แสดง timestamp ก่อนรันอัลกอริทึม:"
   ]
  },
  {
   "cell_type": "code",
   "execution_count": 35,
   "id": "082ffe8c",
   "metadata": {},
   "outputs": [
    {
     "name": "stdout",
     "output_type": "stream",
     "text": [
      "20:57:43.714639\n"
     ]
    }
   ],
   "source": [
    "timer_start = datetime.datetime.now()\n",
    "print(datetime.datetime.now().time())"
   ]
  },
  {
   "cell_type": "markdown",
   "id": "38b1639d",
   "metadata": {},
   "source": [
    "สร้าง (ฝึกสอน) model:"
   ]
  },
  {
   "cell_type": "code",
   "execution_count": 36,
   "id": "c5dde1d3",
   "metadata": {},
   "outputs": [
    {
     "data": {
      "text/html": [
       "<style>#sk-container-id-3 {color: black;}#sk-container-id-3 pre{padding: 0;}#sk-container-id-3 div.sk-toggleable {background-color: white;}#sk-container-id-3 label.sk-toggleable__label {cursor: pointer;display: block;width: 100%;margin-bottom: 0;padding: 0.3em;box-sizing: border-box;text-align: center;}#sk-container-id-3 label.sk-toggleable__label-arrow:before {content: \"▸\";float: left;margin-right: 0.25em;color: #696969;}#sk-container-id-3 label.sk-toggleable__label-arrow:hover:before {color: black;}#sk-container-id-3 div.sk-estimator:hover label.sk-toggleable__label-arrow:before {color: black;}#sk-container-id-3 div.sk-toggleable__content {max-height: 0;max-width: 0;overflow: hidden;text-align: left;background-color: #f0f8ff;}#sk-container-id-3 div.sk-toggleable__content pre {margin: 0.2em;color: black;border-radius: 0.25em;background-color: #f0f8ff;}#sk-container-id-3 input.sk-toggleable__control:checked~div.sk-toggleable__content {max-height: 200px;max-width: 100%;overflow: auto;}#sk-container-id-3 input.sk-toggleable__control:checked~label.sk-toggleable__label-arrow:before {content: \"▾\";}#sk-container-id-3 div.sk-estimator input.sk-toggleable__control:checked~label.sk-toggleable__label {background-color: #d4ebff;}#sk-container-id-3 div.sk-label input.sk-toggleable__control:checked~label.sk-toggleable__label {background-color: #d4ebff;}#sk-container-id-3 input.sk-hidden--visually {border: 0;clip: rect(1px 1px 1px 1px);clip: rect(1px, 1px, 1px, 1px);height: 1px;margin: -1px;overflow: hidden;padding: 0;position: absolute;width: 1px;}#sk-container-id-3 div.sk-estimator {font-family: monospace;background-color: #f0f8ff;border: 1px dotted black;border-radius: 0.25em;box-sizing: border-box;margin-bottom: 0.5em;}#sk-container-id-3 div.sk-estimator:hover {background-color: #d4ebff;}#sk-container-id-3 div.sk-parallel-item::after {content: \"\";width: 100%;border-bottom: 1px solid gray;flex-grow: 1;}#sk-container-id-3 div.sk-label:hover label.sk-toggleable__label {background-color: #d4ebff;}#sk-container-id-3 div.sk-serial::before {content: \"\";position: absolute;border-left: 1px solid gray;box-sizing: border-box;top: 0;bottom: 0;left: 50%;z-index: 0;}#sk-container-id-3 div.sk-serial {display: flex;flex-direction: column;align-items: center;background-color: white;padding-right: 0.2em;padding-left: 0.2em;position: relative;}#sk-container-id-3 div.sk-item {position: relative;z-index: 1;}#sk-container-id-3 div.sk-parallel {display: flex;align-items: stretch;justify-content: center;background-color: white;position: relative;}#sk-container-id-3 div.sk-item::before, #sk-container-id-3 div.sk-parallel-item::before {content: \"\";position: absolute;border-left: 1px solid gray;box-sizing: border-box;top: 0;bottom: 0;left: 50%;z-index: -1;}#sk-container-id-3 div.sk-parallel-item {display: flex;flex-direction: column;z-index: 1;position: relative;background-color: white;}#sk-container-id-3 div.sk-parallel-item:first-child::after {align-self: flex-end;width: 50%;}#sk-container-id-3 div.sk-parallel-item:last-child::after {align-self: flex-start;width: 50%;}#sk-container-id-3 div.sk-parallel-item:only-child::after {width: 0;}#sk-container-id-3 div.sk-dashed-wrapped {border: 1px dashed gray;margin: 0 0.4em 0.5em 0.4em;box-sizing: border-box;padding-bottom: 0.4em;background-color: white;}#sk-container-id-3 div.sk-label label {font-family: monospace;font-weight: bold;display: inline-block;line-height: 1.2em;}#sk-container-id-3 div.sk-label-container {text-align: center;}#sk-container-id-3 div.sk-container {/* jupyter's `normalize.less` sets `[hidden] { display: none; }` but bootstrap.min.css set `[hidden] { display: none !important; }` so we also need the `!important` here to be able to override the default hidden behavior on the sphinx rendered scikit-learn.org. See: https://github.com/scikit-learn/scikit-learn/issues/21755 */display: inline-block !important;position: relative;}#sk-container-id-3 div.sk-text-repr-fallback {display: none;}</style><div id=\"sk-container-id-3\" class=\"sk-top-container\"><div class=\"sk-text-repr-fallback\"><pre>DecisionTreeClassifier(random_state=42)</pre><b>In a Jupyter environment, please rerun this cell to show the HTML representation or trust the notebook. <br />On GitHub, the HTML representation is unable to render, please try loading this page with nbviewer.org.</b></div><div class=\"sk-container\" hidden><div class=\"sk-item\"><div class=\"sk-estimator sk-toggleable\"><input class=\"sk-toggleable__control sk-hidden--visually\" id=\"sk-estimator-id-3\" type=\"checkbox\" checked><label for=\"sk-estimator-id-3\" class=\"sk-toggleable__label sk-toggleable__label-arrow\">DecisionTreeClassifier</label><div class=\"sk-toggleable__content\"><pre>DecisionTreeClassifier(random_state=42)</pre></div></div></div></div></div>"
      ],
      "text/plain": [
       "DecisionTreeClassifier(random_state=42)"
      ]
     },
     "execution_count": 36,
     "metadata": {},
     "output_type": "execute_result"
    }
   ],
   "source": [
    "from sklearn.tree import DecisionTreeClassifier\n",
    "\n",
    "dtree_lda = DecisionTreeClassifier(random_state=42)\n",
    "dtree_lda.fit(X_train_lda, y_train)"
   ]
  },
  {
   "cell_type": "markdown",
   "id": "2cf58319",
   "metadata": {},
   "source": [
    "แสดง timestamp หลังรันอัลกอริทึม:"
   ]
  },
  {
   "cell_type": "code",
   "execution_count": 37,
   "id": "e15813aa",
   "metadata": {
    "scrolled": true
   },
   "outputs": [
    {
     "name": "stdout",
     "output_type": "stream",
     "text": [
      "20:58:01.405662\n"
     ]
    }
   ],
   "source": [
    "timer_stop = datetime.datetime.now()\n",
    "print(datetime.datetime.now().time())"
   ]
  },
  {
   "cell_type": "code",
   "execution_count": 38,
   "id": "21b618cb",
   "metadata": {},
   "outputs": [
    {
     "name": "stdout",
     "output_type": "stream",
     "text": [
      "The time this algorithm utilised: 0:00:17.691023\n"
     ]
    }
   ],
   "source": [
    "print('The time this algorithm utilised:',timer_stop - timer_start)"
   ]
  },
  {
   "cell_type": "markdown",
   "id": "11e9ac76",
   "metadata": {},
   "source": [
    "**อัลกอริทึมนี้ใช้เวลาทำงานประมาณ 18 วินาที**"
   ]
  },
  {
   "cell_type": "markdown",
   "id": "7b48182a",
   "metadata": {},
   "source": [
    "สามารถเลือกที่จะบันทึก model ที่จะสร้างใหม่ หรือจะโหลดจาก model ที่สร้างไว้แล้วก็ได้:"
   ]
  },
  {
   "cell_type": "code",
   "execution_count": 39,
   "id": "d9aadc72",
   "metadata": {},
   "outputs": [
    {
     "data": {
      "text/plain": [
       "['./models/DT_LDA.pkl']"
      ]
     },
     "execution_count": 39,
     "metadata": {},
     "output_type": "execute_result"
    }
   ],
   "source": [
    "# Save Model\n",
    "joblib.dump(dtree_lda, './models/DT_LDA.pkl')\n",
    "\n",
    "# Load Model\n",
    "#dtree_lda = joblib.load('./models/DT_LDA.pkl')"
   ]
  },
  {
   "cell_type": "markdown",
   "id": "740fa57f",
   "metadata": {},
   "source": [
    "ใช้โมเดลทำนาย test set:"
   ]
  },
  {
   "cell_type": "code",
   "execution_count": 40,
   "id": "56857be6",
   "metadata": {},
   "outputs": [],
   "source": [
    "dtree_predicted_lda = dtree_lda.predict(X_test_lda)"
   ]
  },
  {
   "cell_type": "code",
   "execution_count": 41,
   "id": "4069d6fe",
   "metadata": {
    "scrolled": true
   },
   "outputs": [
    {
     "data": {
      "text/plain": [
       "array([[181196,  20061],\n",
       "       [ 20541,  38526]], dtype=int64)"
      ]
     },
     "execution_count": 41,
     "metadata": {},
     "output_type": "execute_result"
    }
   ],
   "source": [
    "confusion_matrix(y_test, dtree_predicted_lda)"
   ]
  },
  {
   "cell_type": "markdown",
   "id": "7db541dd",
   "metadata": {},
   "source": [
    "เรียกฟังก์ชั่นประเมินประสิทธิภาพ model และเก็บค่าไว้ทำกราฟเปรียบเทียบในภายหลัง:"
   ]
  },
  {
   "cell_type": "code",
   "execution_count": 42,
   "id": "311ec1d4",
   "metadata": {},
   "outputs": [
    {
     "name": "stdout",
     "output_type": "stream",
     "text": [
      "DT_LDA Results\n",
      "Accuracy:  0.8440328206388962\n",
      "F1 Score:  0.6549033607017185\n",
      "Precision:  0.6575861539249321\n",
      "Recall:  0.6522423688353903\n"
     ]
    }
   ],
   "source": [
    "my_eval('DT_LDA',y_test,dtree_predicted_lda)"
   ]
  },
  {
   "cell_type": "markdown",
   "id": "c038d6ee",
   "metadata": {},
   "source": [
    "## 4) Random Forest with LDA"
   ]
  },
  {
   "cell_type": "markdown",
   "id": "c5b3d6d7",
   "metadata": {},
   "source": [
    "แสดง timestamp ก่อนรันอัลกอริทึม:"
   ]
  },
  {
   "cell_type": "code",
   "execution_count": 43,
   "id": "3a635e03",
   "metadata": {},
   "outputs": [
    {
     "name": "stdout",
     "output_type": "stream",
     "text": [
      "20:58:02.225447\n"
     ]
    }
   ],
   "source": [
    "timer_start = datetime.datetime.now()\n",
    "print(datetime.datetime.now().time())"
   ]
  },
  {
   "cell_type": "markdown",
   "id": "3294ae8f",
   "metadata": {},
   "source": [
    "สร้าง (ฝึกสอน) model:"
   ]
  },
  {
   "cell_type": "code",
   "execution_count": 44,
   "id": "efaba2de",
   "metadata": {},
   "outputs": [
    {
     "data": {
      "text/html": [
       "<style>#sk-container-id-4 {color: black;}#sk-container-id-4 pre{padding: 0;}#sk-container-id-4 div.sk-toggleable {background-color: white;}#sk-container-id-4 label.sk-toggleable__label {cursor: pointer;display: block;width: 100%;margin-bottom: 0;padding: 0.3em;box-sizing: border-box;text-align: center;}#sk-container-id-4 label.sk-toggleable__label-arrow:before {content: \"▸\";float: left;margin-right: 0.25em;color: #696969;}#sk-container-id-4 label.sk-toggleable__label-arrow:hover:before {color: black;}#sk-container-id-4 div.sk-estimator:hover label.sk-toggleable__label-arrow:before {color: black;}#sk-container-id-4 div.sk-toggleable__content {max-height: 0;max-width: 0;overflow: hidden;text-align: left;background-color: #f0f8ff;}#sk-container-id-4 div.sk-toggleable__content pre {margin: 0.2em;color: black;border-radius: 0.25em;background-color: #f0f8ff;}#sk-container-id-4 input.sk-toggleable__control:checked~div.sk-toggleable__content {max-height: 200px;max-width: 100%;overflow: auto;}#sk-container-id-4 input.sk-toggleable__control:checked~label.sk-toggleable__label-arrow:before {content: \"▾\";}#sk-container-id-4 div.sk-estimator input.sk-toggleable__control:checked~label.sk-toggleable__label {background-color: #d4ebff;}#sk-container-id-4 div.sk-label input.sk-toggleable__control:checked~label.sk-toggleable__label {background-color: #d4ebff;}#sk-container-id-4 input.sk-hidden--visually {border: 0;clip: rect(1px 1px 1px 1px);clip: rect(1px, 1px, 1px, 1px);height: 1px;margin: -1px;overflow: hidden;padding: 0;position: absolute;width: 1px;}#sk-container-id-4 div.sk-estimator {font-family: monospace;background-color: #f0f8ff;border: 1px dotted black;border-radius: 0.25em;box-sizing: border-box;margin-bottom: 0.5em;}#sk-container-id-4 div.sk-estimator:hover {background-color: #d4ebff;}#sk-container-id-4 div.sk-parallel-item::after {content: \"\";width: 100%;border-bottom: 1px solid gray;flex-grow: 1;}#sk-container-id-4 div.sk-label:hover label.sk-toggleable__label {background-color: #d4ebff;}#sk-container-id-4 div.sk-serial::before {content: \"\";position: absolute;border-left: 1px solid gray;box-sizing: border-box;top: 0;bottom: 0;left: 50%;z-index: 0;}#sk-container-id-4 div.sk-serial {display: flex;flex-direction: column;align-items: center;background-color: white;padding-right: 0.2em;padding-left: 0.2em;position: relative;}#sk-container-id-4 div.sk-item {position: relative;z-index: 1;}#sk-container-id-4 div.sk-parallel {display: flex;align-items: stretch;justify-content: center;background-color: white;position: relative;}#sk-container-id-4 div.sk-item::before, #sk-container-id-4 div.sk-parallel-item::before {content: \"\";position: absolute;border-left: 1px solid gray;box-sizing: border-box;top: 0;bottom: 0;left: 50%;z-index: -1;}#sk-container-id-4 div.sk-parallel-item {display: flex;flex-direction: column;z-index: 1;position: relative;background-color: white;}#sk-container-id-4 div.sk-parallel-item:first-child::after {align-self: flex-end;width: 50%;}#sk-container-id-4 div.sk-parallel-item:last-child::after {align-self: flex-start;width: 50%;}#sk-container-id-4 div.sk-parallel-item:only-child::after {width: 0;}#sk-container-id-4 div.sk-dashed-wrapped {border: 1px dashed gray;margin: 0 0.4em 0.5em 0.4em;box-sizing: border-box;padding-bottom: 0.4em;background-color: white;}#sk-container-id-4 div.sk-label label {font-family: monospace;font-weight: bold;display: inline-block;line-height: 1.2em;}#sk-container-id-4 div.sk-label-container {text-align: center;}#sk-container-id-4 div.sk-container {/* jupyter's `normalize.less` sets `[hidden] { display: none; }` but bootstrap.min.css set `[hidden] { display: none !important; }` so we also need the `!important` here to be able to override the default hidden behavior on the sphinx rendered scikit-learn.org. See: https://github.com/scikit-learn/scikit-learn/issues/21755 */display: inline-block !important;position: relative;}#sk-container-id-4 div.sk-text-repr-fallback {display: none;}</style><div id=\"sk-container-id-4\" class=\"sk-top-container\"><div class=\"sk-text-repr-fallback\"><pre>RandomForestClassifier(random_state=42)</pre><b>In a Jupyter environment, please rerun this cell to show the HTML representation or trust the notebook. <br />On GitHub, the HTML representation is unable to render, please try loading this page with nbviewer.org.</b></div><div class=\"sk-container\" hidden><div class=\"sk-item\"><div class=\"sk-estimator sk-toggleable\"><input class=\"sk-toggleable__control sk-hidden--visually\" id=\"sk-estimator-id-4\" type=\"checkbox\" checked><label for=\"sk-estimator-id-4\" class=\"sk-toggleable__label sk-toggleable__label-arrow\">RandomForestClassifier</label><div class=\"sk-toggleable__content\"><pre>RandomForestClassifier(random_state=42)</pre></div></div></div></div></div>"
      ],
      "text/plain": [
       "RandomForestClassifier(random_state=42)"
      ]
     },
     "execution_count": 44,
     "metadata": {},
     "output_type": "execute_result"
    }
   ],
   "source": [
    "from sklearn.ensemble import RandomForestClassifier\n",
    "\n",
    "rf_lda = RandomForestClassifier(n_estimators=100, random_state=42)\n",
    "rf_lda.fit(X_train_lda, y_train)"
   ]
  },
  {
   "cell_type": "markdown",
   "id": "b6189e65",
   "metadata": {},
   "source": [
    "แสดง timestamp หลังรันอัลกอริทึม:"
   ]
  },
  {
   "cell_type": "code",
   "execution_count": 45,
   "id": "30af46fd",
   "metadata": {},
   "outputs": [
    {
     "name": "stdout",
     "output_type": "stream",
     "text": [
      "21:15:32.441098\n"
     ]
    }
   ],
   "source": [
    "timer_stop = datetime.datetime.now()\n",
    "print(datetime.datetime.now().time())"
   ]
  },
  {
   "cell_type": "code",
   "execution_count": 46,
   "id": "a0dcdef2",
   "metadata": {},
   "outputs": [
    {
     "name": "stdout",
     "output_type": "stream",
     "text": [
      "The time this algorithm utilised: 0:17:30.215651\n"
     ]
    }
   ],
   "source": [
    "print('The time this algorithm utilised:',timer_stop - timer_start)"
   ]
  },
  {
   "cell_type": "markdown",
   "id": "7f270a5d",
   "metadata": {},
   "source": [
    "**อัลกอริทึมนี้ใช้เวลาทำงานประมาณ 18 นาที**"
   ]
  },
  {
   "cell_type": "markdown",
   "id": "f7b1874f",
   "metadata": {},
   "source": [
    "สามารถเลือกที่จะบันทึก model ที่จะสร้างใหม่ หรือจะโหลดจาก model ที่สร้างไว้แล้วก็ได้:"
   ]
  },
  {
   "cell_type": "code",
   "execution_count": 47,
   "id": "a4afefbc",
   "metadata": {},
   "outputs": [
    {
     "data": {
      "text/plain": [
       "['./models/RF_LDA.pkl']"
      ]
     },
     "execution_count": 47,
     "metadata": {},
     "output_type": "execute_result"
    }
   ],
   "source": [
    "# Save Model\n",
    "joblib.dump(rf_lda, './models/RF_LDA.pkl')\n",
    "\n",
    "# Load Model\n",
    "#rf_lda = joblib.load('./models/RF_LDA.pkl')"
   ]
  },
  {
   "cell_type": "markdown",
   "id": "2ab37884",
   "metadata": {},
   "source": [
    "ใช้โมเดลทำนาย test set:"
   ]
  },
  {
   "cell_type": "code",
   "execution_count": 48,
   "id": "ea853d9f",
   "metadata": {},
   "outputs": [],
   "source": [
    "rf_predicted_lda = rf_lda.predict(X_test_lda)"
   ]
  },
  {
   "cell_type": "code",
   "execution_count": 49,
   "id": "bcac7bb6",
   "metadata": {
    "scrolled": true
   },
   "outputs": [
    {
     "data": {
      "text/plain": [
       "array([[181063,  20194],\n",
       "       [ 20364,  38703]], dtype=int64)"
      ]
     },
     "execution_count": 49,
     "metadata": {},
     "output_type": "execute_result"
    }
   ],
   "source": [
    "confusion_matrix(y_test, rf_predicted_lda)"
   ]
  },
  {
   "cell_type": "markdown",
   "id": "fac08be9",
   "metadata": {},
   "source": [
    "เรียกฟังก์ชั่นประเมินประสิทธิภาพ model และเก็บค่าไว้ทำกราฟเปรียบเทียบในภายหลัง:"
   ]
  },
  {
   "cell_type": "code",
   "execution_count": 50,
   "id": "9d7094c8",
   "metadata": {
    "scrolled": false
   },
   "outputs": [
    {
     "name": "stdout",
     "output_type": "stream",
     "text": [
      "RF_LDA Results\n",
      "Accuracy:  0.8442018407830242\n",
      "F1 Score:  0.6561832423451223\n",
      "Precision:  0.6571302443248382\n",
      "Recall:  0.6552389659200569\n"
     ]
    }
   ],
   "source": [
    "my_eval('RF_LDA',y_test,rf_predicted_lda)"
   ]
  },
  {
   "cell_type": "markdown",
   "id": "3f381cfe",
   "metadata": {},
   "source": [
    "---"
   ]
  },
  {
   "cell_type": "code",
   "execution_count": 51,
   "id": "1ba874d0",
   "metadata": {},
   "outputs": [
    {
     "data": {
      "text/html": [
       "<div>\n",
       "<style scoped>\n",
       "    .dataframe tbody tr th:only-of-type {\n",
       "        vertical-align: middle;\n",
       "    }\n",
       "\n",
       "    .dataframe tbody tr th {\n",
       "        vertical-align: top;\n",
       "    }\n",
       "\n",
       "    .dataframe thead th {\n",
       "        text-align: right;\n",
       "    }\n",
       "</style>\n",
       "<table border=\"1\" class=\"dataframe\">\n",
       "  <thead>\n",
       "    <tr style=\"text-align: right;\">\n",
       "      <th></th>\n",
       "      <th>Logit_LDA</th>\n",
       "      <th>NB_LDA</th>\n",
       "      <th>DT_LDA</th>\n",
       "      <th>RF_LDA</th>\n",
       "    </tr>\n",
       "  </thead>\n",
       "  <tbody>\n",
       "    <tr>\n",
       "      <th>Accuracy</th>\n",
       "      <td>0.887486</td>\n",
       "      <td>0.889027</td>\n",
       "      <td>0.844033</td>\n",
       "      <td>0.844202</td>\n",
       "    </tr>\n",
       "    <tr>\n",
       "      <th>F1 Score</th>\n",
       "      <td>0.738962</td>\n",
       "      <td>0.751913</td>\n",
       "      <td>0.654903</td>\n",
       "      <td>0.656183</td>\n",
       "    </tr>\n",
       "    <tr>\n",
       "      <th>Precision</th>\n",
       "      <td>0.780180</td>\n",
       "      <td>0.762966</td>\n",
       "      <td>0.657586</td>\n",
       "      <td>0.657130</td>\n",
       "    </tr>\n",
       "    <tr>\n",
       "      <th>Recall</th>\n",
       "      <td>0.701881</td>\n",
       "      <td>0.741175</td>\n",
       "      <td>0.652242</td>\n",
       "      <td>0.655239</td>\n",
       "    </tr>\n",
       "  </tbody>\n",
       "</table>\n",
       "</div>"
      ],
      "text/plain": [
       "           Logit_LDA    NB_LDA    DT_LDA    RF_LDA\n",
       "Accuracy    0.887486  0.889027  0.844033  0.844202\n",
       "F1 Score    0.738962  0.751913  0.654903  0.656183\n",
       "Precision   0.780180  0.762966  0.657586  0.657130\n",
       "Recall      0.701881  0.741175  0.652242  0.655239"
      ]
     },
     "metadata": {},
     "output_type": "display_data"
    }
   ],
   "source": [
    "display(df_model_compare)"
   ]
  },
  {
   "cell_type": "markdown",
   "id": "6f1ccd3a",
   "metadata": {},
   "source": [
    "บันทึกค่าประเมินประสิทธิภาพของแต่ละ model เพื่อใช้เปรียบเทียบใน notebook ชื่อ 5_Comparison.ipynb:"
   ]
  },
  {
   "cell_type": "code",
   "execution_count": 52,
   "id": "daa05e3c",
   "metadata": {},
   "outputs": [],
   "source": [
    "df_model_compare.to_csv('./eval_results/eval_results_LDA.csv')"
   ]
  },
  {
   "cell_type": "code",
   "execution_count": null,
   "id": "82993ab2",
   "metadata": {},
   "outputs": [],
   "source": []
  }
 ],
 "metadata": {
  "kernelspec": {
   "display_name": "Python 3 (ipykernel)",
   "language": "python",
   "name": "python3"
  },
  "language_info": {
   "codemirror_mode": {
    "name": "ipython",
    "version": 3
   },
   "file_extension": ".py",
   "mimetype": "text/x-python",
   "name": "python",
   "nbconvert_exporter": "python",
   "pygments_lexer": "ipython3",
   "version": "3.11.5"
  }
 },
 "nbformat": 4,
 "nbformat_minor": 5
}
