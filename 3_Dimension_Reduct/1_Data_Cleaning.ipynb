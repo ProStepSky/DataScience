{
 "cells": [
  {
   "cell_type": "markdown",
   "id": "bd1fe5e3",
   "metadata": {},
   "source": [
    "# Data Cleaning"
   ]
  },
  {
   "cell_type": "code",
   "execution_count": 1,
   "id": "497e8299",
   "metadata": {},
   "outputs": [
    {
     "data": {
      "text/plain": [
       "'3.11.5 | packaged by Anaconda, Inc. | (main, Sep 11 2023, 13:26:23) [MSC v.1916 64 bit (AMD64)]'"
      ]
     },
     "execution_count": 1,
     "metadata": {},
     "output_type": "execute_result"
    }
   ],
   "source": [
    "import sys\n",
    "sys.version"
   ]
  },
  {
   "cell_type": "code",
   "execution_count": 2,
   "id": "eac50817",
   "metadata": {},
   "outputs": [],
   "source": [
    "import pandas as pd\n",
    "import numpy as np\n",
    "import matplotlib.pyplot as plt\n",
    "import seaborn as sns\n",
    "import plotly.express as px\n",
    "import joblib\n",
    "\n",
    "%matplotlib inline\n",
    "%config InlineBackend.figure_format = 'retina'"
   ]
  },
  {
   "cell_type": "markdown",
   "id": "c3979ac3",
   "metadata": {},
   "source": [
    "## Load ข้อมูล"
   ]
  },
  {
   "cell_type": "code",
   "execution_count": 3,
   "id": "e84045c7",
   "metadata": {},
   "outputs": [],
   "source": [
    "df = pd.read_parquet('./dataset/train_data.parquet')"
   ]
  },
  {
   "cell_type": "code",
   "execution_count": 4,
   "id": "34acdfa5",
   "metadata": {
    "scrolled": false
   },
   "outputs": [
    {
     "data": {
      "text/html": [
       "<div>\n",
       "<style scoped>\n",
       "    .dataframe tbody tr th:only-of-type {\n",
       "        vertical-align: middle;\n",
       "    }\n",
       "\n",
       "    .dataframe tbody tr th {\n",
       "        vertical-align: top;\n",
       "    }\n",
       "\n",
       "    .dataframe thead th {\n",
       "        text-align: right;\n",
       "    }\n",
       "</style>\n",
       "<table border=\"1\" class=\"dataframe\">\n",
       "  <thead>\n",
       "    <tr style=\"text-align: right;\">\n",
       "      <th></th>\n",
       "      <th>customer_ID</th>\n",
       "      <th>S_2</th>\n",
       "      <th>P_2</th>\n",
       "      <th>D_39</th>\n",
       "      <th>B_1</th>\n",
       "      <th>B_2</th>\n",
       "      <th>R_1</th>\n",
       "      <th>S_3</th>\n",
       "      <th>D_41</th>\n",
       "      <th>B_3</th>\n",
       "      <th>...</th>\n",
       "      <th>D_137</th>\n",
       "      <th>D_138</th>\n",
       "      <th>D_139</th>\n",
       "      <th>D_140</th>\n",
       "      <th>D_141</th>\n",
       "      <th>D_142</th>\n",
       "      <th>D_143</th>\n",
       "      <th>D_144</th>\n",
       "      <th>D_145</th>\n",
       "      <th>target</th>\n",
       "    </tr>\n",
       "  </thead>\n",
       "  <tbody>\n",
       "    <tr>\n",
       "      <th>2382210</th>\n",
       "      <td>6e01783b71157001306918fa62ba5df4f1794d88d29f2f...</td>\n",
       "      <td>2017-11-20</td>\n",
       "      <td>0.888884</td>\n",
       "      <td>0.036563</td>\n",
       "      <td>0.011768</td>\n",
       "      <td>0.425232</td>\n",
       "      <td>0.007077</td>\n",
       "      <td>0.036435</td>\n",
       "      <td>0.006019</td>\n",
       "      <td>0.075442</td>\n",
       "      <td>...</td>\n",
       "      <td>NaN</td>\n",
       "      <td>NaN</td>\n",
       "      <td>0.002162</td>\n",
       "      <td>0.000545</td>\n",
       "      <td>0.000533</td>\n",
       "      <td>NaN</td>\n",
       "      <td>0.000635</td>\n",
       "      <td>0.000019</td>\n",
       "      <td>0.009343</td>\n",
       "      <td>0</td>\n",
       "    </tr>\n",
       "    <tr>\n",
       "      <th>1014705</th>\n",
       "      <td>2ee94f5a735c01c29f45f3e06c3483b6a6cf26887c0e5b...</td>\n",
       "      <td>2018-01-19</td>\n",
       "      <td>0.916681</td>\n",
       "      <td>0.009173</td>\n",
       "      <td>0.005979</td>\n",
       "      <td>0.812944</td>\n",
       "      <td>0.001421</td>\n",
       "      <td>NaN</td>\n",
       "      <td>0.006551</td>\n",
       "      <td>0.010381</td>\n",
       "      <td>...</td>\n",
       "      <td>NaN</td>\n",
       "      <td>NaN</td>\n",
       "      <td>0.001060</td>\n",
       "      <td>0.004465</td>\n",
       "      <td>0.000907</td>\n",
       "      <td>NaN</td>\n",
       "      <td>0.001792</td>\n",
       "      <td>0.005482</td>\n",
       "      <td>0.008818</td>\n",
       "      <td>0</td>\n",
       "    </tr>\n",
       "    <tr>\n",
       "      <th>1251651</th>\n",
       "      <td>39af6716ac4a57cfa8adfe985a88b1fe1eeaae87045010...</td>\n",
       "      <td>2017-07-01</td>\n",
       "      <td>0.822644</td>\n",
       "      <td>0.004728</td>\n",
       "      <td>0.026726</td>\n",
       "      <td>0.764764</td>\n",
       "      <td>0.005853</td>\n",
       "      <td>0.173160</td>\n",
       "      <td>0.000962</td>\n",
       "      <td>0.016531</td>\n",
       "      <td>...</td>\n",
       "      <td>NaN</td>\n",
       "      <td>NaN</td>\n",
       "      <td>0.004912</td>\n",
       "      <td>0.000148</td>\n",
       "      <td>0.003946</td>\n",
       "      <td>NaN</td>\n",
       "      <td>0.002558</td>\n",
       "      <td>0.006244</td>\n",
       "      <td>0.008075</td>\n",
       "      <td>0</td>\n",
       "    </tr>\n",
       "    <tr>\n",
       "      <th>4570577</th>\n",
       "      <td>d35318acd0ca071596a66f322426bfa05df21b1cf57663...</td>\n",
       "      <td>2018-03-07</td>\n",
       "      <td>0.969366</td>\n",
       "      <td>0.009730</td>\n",
       "      <td>0.127849</td>\n",
       "      <td>1.005911</td>\n",
       "      <td>0.009707</td>\n",
       "      <td>0.064149</td>\n",
       "      <td>0.004848</td>\n",
       "      <td>0.008932</td>\n",
       "      <td>...</td>\n",
       "      <td>NaN</td>\n",
       "      <td>NaN</td>\n",
       "      <td>0.007348</td>\n",
       "      <td>0.003264</td>\n",
       "      <td>0.009352</td>\n",
       "      <td>NaN</td>\n",
       "      <td>0.007897</td>\n",
       "      <td>0.005605</td>\n",
       "      <td>0.009782</td>\n",
       "      <td>0</td>\n",
       "    </tr>\n",
       "    <tr>\n",
       "      <th>4309705</th>\n",
       "      <td>c735c87431a250a8428e5e90e855a01396be071e5edda5...</td>\n",
       "      <td>2018-01-20</td>\n",
       "      <td>0.965779</td>\n",
       "      <td>0.359452</td>\n",
       "      <td>0.090811</td>\n",
       "      <td>0.140428</td>\n",
       "      <td>0.002306</td>\n",
       "      <td>0.140427</td>\n",
       "      <td>0.004304</td>\n",
       "      <td>0.132523</td>\n",
       "      <td>...</td>\n",
       "      <td>NaN</td>\n",
       "      <td>NaN</td>\n",
       "      <td>0.006274</td>\n",
       "      <td>0.003980</td>\n",
       "      <td>0.002306</td>\n",
       "      <td>NaN</td>\n",
       "      <td>0.009149</td>\n",
       "      <td>0.000417</td>\n",
       "      <td>0.006280</td>\n",
       "      <td>0</td>\n",
       "    </tr>\n",
       "  </tbody>\n",
       "</table>\n",
       "<p>5 rows × 191 columns</p>\n",
       "</div>"
      ],
      "text/plain": [
       "                                               customer_ID         S_2  \\\n",
       "2382210  6e01783b71157001306918fa62ba5df4f1794d88d29f2f...  2017-11-20   \n",
       "1014705  2ee94f5a735c01c29f45f3e06c3483b6a6cf26887c0e5b...  2018-01-19   \n",
       "1251651  39af6716ac4a57cfa8adfe985a88b1fe1eeaae87045010...  2017-07-01   \n",
       "4570577  d35318acd0ca071596a66f322426bfa05df21b1cf57663...  2018-03-07   \n",
       "4309705  c735c87431a250a8428e5e90e855a01396be071e5edda5...  2018-01-20   \n",
       "\n",
       "              P_2      D_39       B_1       B_2       R_1       S_3      D_41  \\\n",
       "2382210  0.888884  0.036563  0.011768  0.425232  0.007077  0.036435  0.006019   \n",
       "1014705  0.916681  0.009173  0.005979  0.812944  0.001421       NaN  0.006551   \n",
       "1251651  0.822644  0.004728  0.026726  0.764764  0.005853  0.173160  0.000962   \n",
       "4570577  0.969366  0.009730  0.127849  1.005911  0.009707  0.064149  0.004848   \n",
       "4309705  0.965779  0.359452  0.090811  0.140428  0.002306  0.140427  0.004304   \n",
       "\n",
       "              B_3  ...  D_137  D_138     D_139     D_140     D_141  D_142  \\\n",
       "2382210  0.075442  ...    NaN    NaN  0.002162  0.000545  0.000533    NaN   \n",
       "1014705  0.010381  ...    NaN    NaN  0.001060  0.004465  0.000907    NaN   \n",
       "1251651  0.016531  ...    NaN    NaN  0.004912  0.000148  0.003946    NaN   \n",
       "4570577  0.008932  ...    NaN    NaN  0.007348  0.003264  0.009352    NaN   \n",
       "4309705  0.132523  ...    NaN    NaN  0.006274  0.003980  0.002306    NaN   \n",
       "\n",
       "            D_143     D_144     D_145  target  \n",
       "2382210  0.000635  0.000019  0.009343       0  \n",
       "1014705  0.001792  0.005482  0.008818       0  \n",
       "1251651  0.002558  0.006244  0.008075       0  \n",
       "4570577  0.007897  0.005605  0.009782       0  \n",
       "4309705  0.009149  0.000417  0.006280       0  \n",
       "\n",
       "[5 rows x 191 columns]"
      ]
     },
     "execution_count": 4,
     "metadata": {},
     "output_type": "execute_result"
    }
   ],
   "source": [
    "df.sample(5)"
   ]
  },
  {
   "cell_type": "code",
   "execution_count": 5,
   "id": "c4ed9b6d",
   "metadata": {
    "scrolled": false
   },
   "outputs": [],
   "source": [
    "#df.describe()"
   ]
  },
  {
   "cell_type": "markdown",
   "id": "86bb2937",
   "metadata": {},
   "source": [
    "**Features (ตัวแปร) ทุกตัวในชุดข้อมูลนี้ ทาง American Express ได้ทำให้เป็นแบบนิรนาม (anonymised) เพื่อลดความสุ่มเสี่ยงต่อการละเมิดความเป็นส่วนตัวของเจ้าของข้อมูล และได้ทำการปรับช่วงข้อมูลของแต่ละ features ให้อยู่ในช่วงเดียวกัน (normalised) ไว้เรียบร้อยแล้ว**"
   ]
  },
  {
   "cell_type": "markdown",
   "id": "a55d372a",
   "metadata": {},
   "source": [
    "**ในชุดข้อมูลนี้ มีข้อมูล 4 ประเภท ได้แก่:**  \n",
    "1. Feature ชื่อ customer_ID\n",
    "2. Feature ชื่อ S_2 ซึ่งมีชนิดเป็นวันที่ (datetime)\n",
    "3. มี 11 features ที่เป็นชนิดข้อมูลกลุ่ม (categorical data): B_30, B_38, D_114, D_116, D_117, D_120, D_126, D_63, D_64, D_66, D_68\n",
    "4. อีก 178 features ที่เหลือเป็นชนิดเลขทศนิยม (float) และเลขจำนวนเต็ม (int)\n",
    "\n",
    "ดังนั้น เราจึงต้องเปลี่ยนชนิดข้อมูล (data types) ให้ถูกประเภทก่อน จึงจะสามารถนำค่าเหล่านี้ไปใช้งานได้"
   ]
  },
  {
   "cell_type": "markdown",
   "id": "3da8cff1",
   "metadata": {},
   "source": [
    "## ทำการเปลี่ยนชนิดข้อมูลให้ถูกประเภท"
   ]
  },
  {
   "cell_type": "markdown",
   "id": "21dab241",
   "metadata": {},
   "source": [
    "เปลี่ยน feature ชื่อ S_2 ให้มีชนิดเป็นวันที่ (datetime):"
   ]
  },
  {
   "cell_type": "code",
   "execution_count": 6,
   "id": "04dc639e",
   "metadata": {},
   "outputs": [],
   "source": [
    "df['S_2'] = pd.to_datetime(df['S_2'], format='%Y-%m-%d')"
   ]
  },
  {
   "cell_type": "markdown",
   "id": "94eeb89d",
   "metadata": {},
   "source": [
    "เปลี่ยน features ชื่อ B_30, B_38, D_114, D_116, D_117, D_120, D_126, D_63, D_64, D_66, D_68 ให้มีชนิดเป็น category:"
   ]
  },
  {
   "cell_type": "code",
   "execution_count": 7,
   "id": "60d73b71",
   "metadata": {},
   "outputs": [],
   "source": [
    "category_cols = ['B_30','B_38','D_114','D_116','D_117','D_120','D_126','D_63','D_64','D_66','D_68']\n",
    "\n",
    "for col in category_cols:\n",
    "    df[col] = df[col].astype('category')"
   ]
  },
  {
   "cell_type": "markdown",
   "id": "d9077804",
   "metadata": {},
   "source": [
    "ตรวจดูชนิดข้อมูล (data types) ของ features ทุกตัว:"
   ]
  },
  {
   "cell_type": "code",
   "execution_count": 8,
   "id": "755b53d5",
   "metadata": {
    "scrolled": true
   },
   "outputs": [],
   "source": [
    "#df.info(max_cols=200, show_counts=True)"
   ]
  },
  {
   "cell_type": "markdown",
   "id": "1222df2e",
   "metadata": {},
   "source": [
    "จากผลลัพธ์ df.info ข้างบนพบว่า features ทุกตัวในชุดข้อมูลนี้ มีชนิดข้อมูลที่ถูกประเภทแล้ว"
   ]
  },
  {
   "cell_type": "markdown",
   "id": "c6ae2c3d",
   "metadata": {},
   "source": [
    "ถัดไปเราจะกำจัด missing values เพื่อกำจัด category ที่เป็น null ก่อนจะเปลี่ยน categorical data ให้เป็น dummy variables"
   ]
  },
  {
   "cell_type": "markdown",
   "id": "b1b9b8ed",
   "metadata": {},
   "source": [
    "## การจัดการกับค่าที่หายไป (Missing Value)"
   ]
  },
  {
   "cell_type": "code",
   "execution_count": 9,
   "id": "3a60b435",
   "metadata": {},
   "outputs": [],
   "source": [
    "pd.options.display.max_rows = None # output unlimited rows\n",
    "\n",
    "percent_missing = df.isnull().sum() * 100 / len(df)\n",
    "df_missing_val = pd.DataFrame({'column_name': df.columns,\n",
    "                                 'percent_missing': percent_missing})"
   ]
  },
  {
   "cell_type": "markdown",
   "id": "e6657370",
   "metadata": {},
   "source": [
    "โค้ดข้างล่างนี้ สามารถแสดงอัตราส่วนร้อยละของค่าที่หายไป (missing value) สำหรับแต่ละ feature:"
   ]
  },
  {
   "cell_type": "raw",
   "id": "bf0c7a99",
   "metadata": {},
   "source": [
    "df_missing_val.sort_values('percent_missing',ascending=False)"
   ]
  },
  {
   "cell_type": "code",
   "execution_count": 10,
   "id": "53ac9978",
   "metadata": {},
   "outputs": [],
   "source": [
    "pd.reset_option('display.max_columns')\n",
    "# disable output unlimited columns"
   ]
  },
  {
   "cell_type": "markdown",
   "id": "bf3571ad",
   "metadata": {},
   "source": [
    "วาดกราฟเพื่อดูอัตราส่วนร้อยละของค่าที่หายไป (missing value) สำหรับแต่ละ feature:"
   ]
  },
  {
   "cell_type": "code",
   "execution_count": 11,
   "id": "4529d87f",
   "metadata": {
    "scrolled": false
   },
   "outputs": [
    {
     "data": {
      "image/png": "[encoded data removed]",
      "text/plain": [
       "<Figure size 1000x400 with 1 Axes>"
      ]
     },
     "metadata": {
      "image/png": {
       "height": 351,
       "width": 831
      }
     },
     "output_type": "display_data"
    }
   ],
   "source": [
    "plt.figure(figsize=(10,4))\n",
    "plt.bar(x='column_name',height='percent_missing',data=df_missing_val)\n",
    "plt.show()"
   ]
  },
  {
   "cell_type": "markdown",
   "id": "7b8b63cf",
   "metadata": {},
   "source": [
    "พิจารณาจำนวน features ที่มีค่าที่หายไป (null) มากกว่า 50% ของ feature นั้น ๆ:"
   ]
  },
  {
   "cell_type": "code",
   "execution_count": 12,
   "id": "151b4640",
   "metadata": {
    "scrolled": true
   },
   "outputs": [
    {
     "data": {
      "text/plain": [
       "30"
      ]
     },
     "execution_count": 12,
     "metadata": {},
     "output_type": "execute_result"
    }
   ],
   "source": [
    "df_missing_val.loc[df_missing_val.percent_missing > 50].shape[0]"
   ]
  },
  {
   "cell_type": "markdown",
   "id": "70686bf6",
   "metadata": {},
   "source": [
    "พบว่ามี 30 features ที่มีค่า null มากกว่า 50% ของ feature นั้น ๆ"
   ]
  },
  {
   "cell_type": "markdown",
   "id": "d9e212dd",
   "metadata": {},
   "source": [
    "ทำการลบ features ที่มีค่า null มากกว่า 50% ของ feature นั้น ๆ ทิ้ง:"
   ]
  },
  {
   "cell_type": "code",
   "execution_count": 13,
   "id": "a916ecd3",
   "metadata": {},
   "outputs": [],
   "source": [
    "df.drop(\n",
    "    columns=df_missing_val.loc[\n",
    "        df_missing_val.percent_missing > 50\n",
    "    ].index, inplace=True, errors='ignore'\n",
    ")"
   ]
  },
  {
   "cell_type": "markdown",
   "id": "f0969017",
   "metadata": {},
   "source": [
    "จากนั้นลบแถวของข้อมูลที่เหลือ ที่ยังคงมี null หลงเหลืออยู่:"
   ]
  },
  {
   "cell_type": "code",
   "execution_count": 14,
   "id": "d75b8677",
   "metadata": {},
   "outputs": [],
   "source": [
    "df.dropna(inplace=True)"
   ]
  },
  {
   "cell_type": "markdown",
   "id": "e632550a",
   "metadata": {},
   "source": [
    "ตรวจสอบขนาดของชุดข้อมูลหลังจากกำจัดค่าที่หายไป (missing value) แล้ว:"
   ]
  },
  {
   "cell_type": "code",
   "execution_count": 15,
   "id": "c81cd097",
   "metadata": {},
   "outputs": [
    {
     "data": {
      "text/plain": [
       "(1301619, 161)"
      ]
     },
     "execution_count": 15,
     "metadata": {},
     "output_type": "execute_result"
    }
   ],
   "source": [
    "df.shape"
   ]
  },
  {
   "cell_type": "markdown",
   "id": "d3008548",
   "metadata": {},
   "source": [
    "พบว่า จาก dataset ขนาด (5531451, 191) ลดลงเหลือ (1301619, 161)  \n",
    "นั่นคือ ยังเหลือข้อมูลจำนวนมากพอสำหรับ train"
   ]
  },
  {
   "cell_type": "markdown",
   "id": "96e1be9e",
   "metadata": {},
   "source": [
    "### หาอัตราส่วนของ target (ลูกค้าที่ผิดนัดชำระ กับลูกค้าที่ไม่ผิดนัดชำระ)"
   ]
  },
  {
   "cell_type": "markdown",
   "id": "532dddc2",
   "metadata": {},
   "source": [
    "หาอัตราส่วน target หลังจากจัดการกับค่าที่หายไป (missing values) แล้ว:"
   ]
  },
  {
   "cell_type": "code",
   "execution_count": 16,
   "id": "a86d0ea9",
   "metadata": {
    "scrolled": false
   },
   "outputs": [
    {
     "data": {
      "image/png": "[encoded data removed]",
      "text/plain": [
       "<Figure size 300x300 with 1 Axes>"
      ]
     },
     "metadata": {
      "image/png": {
       "height": 274,
       "width": 386
      }
     },
     "output_type": "display_data"
    }
   ],
   "source": [
    "plt.figure(figsize=(3,3))\n",
    "\n",
    "plt.pie(df['target'].value_counts(), colors=plt.cm.Pastel1([2,0]),\n",
    "        autopct='%1.1f%%', startangle=90,\n",
    "        textprops=dict(color='k', size=10))\n",
    "\n",
    "plt.legend(['Non-Default','Default'], loc='center', bbox_to_anchor=(1.3,0.5),\n",
    "           title='Classes')\n",
    "plt.title('Proportion of Target', fontsize=15)\n",
    "plt.show()"
   ]
  },
  {
   "cell_type": "markdown",
   "id": "33a82877",
   "metadata": {},
   "source": [
    "พบว่า ข้อมูลที่เหลืออยู่ เป็นลูกค้าที่ผิดนัดชำระ 22.7% และลูกค้าที่ไม่ผิดนัดชำระ 77.3%\n",
    "\n",
    "แสดงว่าชุดข้อมูลนี้มีสัดส่วนข้อมูลไม่สมดุล (imbalanced dataset) เนื่องจาก target มีลูกค้าที่ผิดนัดชำระเป็นจำนวนน้อยกว่ามาก (ซึ่งเป็นไปตามธรรมชาติของโลกตามความเป็นจริง) การที่มีสัดส่วนข้อมูลที่ไม่สมดุล จะทำให้ความแม่นยำของการทำนายลดลง ซึ่งเป็นปัญหาที่พบได้บ่อยในงาน data science"
   ]
  },
  {
   "cell_type": "markdown",
   "id": "59d2304c",
   "metadata": {},
   "source": [
    "## สร้าง dummy variables"
   ]
  },
  {
   "cell_type": "markdown",
   "id": "1b9271aa",
   "metadata": {},
   "source": [
    "เนื่องจาก Classification Models ไม่สามารถทำงานกับ categorical data ได้ ดังนั้น ขั้นตอนต่อไปต้องแปลง categorical data เหล่านี้ให้เป็นข้อมูลชนิดตัวเลข (numerical data) ด้วยเปลี่ยนให้เป็น dummy variables เพราะไม่สามารถ map ค่าเป็น 0,1,2,3,4,... ได้ เพราะจะทำให้ model จะให้ความสำคัญกับเลขจำนวนมาก มากกว่าเลขจำนวนน้อย ซึ่งจะกลายเป็น numerical data แทน แล้วจะเกิดปัญหา bias ใน model (เนื่องจากหากเป็น categorical data แล้ว ทุก labels จะต้องสำคัญเท่ากันหมด)"
   ]
  },
  {
   "cell_type": "markdown",
   "id": "430212e6",
   "metadata": {},
   "source": [
    "แสดง features ที่เป็นชนิด category:"
   ]
  },
  {
   "cell_type": "code",
   "execution_count": 17,
   "id": "ba636dc6",
   "metadata": {
    "scrolled": true
   },
   "outputs": [
    {
     "name": "stdout",
     "output_type": "stream",
     "text": [
      "<class 'pandas.core.frame.DataFrame'>\n",
      "Index: 1301619 entries, 19 to 5531450\n",
      "Data columns (total 10 columns):\n",
      " #   Column  Non-Null Count    Dtype   \n",
      "---  ------  --------------    -----   \n",
      " 0   D_63    1301619 non-null  category\n",
      " 1   D_64    1301619 non-null  category\n",
      " 2   D_68    1301619 non-null  category\n",
      " 3   B_30    1301619 non-null  category\n",
      " 4   B_38    1301619 non-null  category\n",
      " 5   D_114   1301619 non-null  category\n",
      " 6   D_116   1301619 non-null  category\n",
      " 7   D_117   1301619 non-null  category\n",
      " 8   D_120   1301619 non-null  category\n",
      " 9   D_126   1301619 non-null  category\n",
      "dtypes: category(10)\n",
      "memory usage: 22.3 MB\n"
     ]
    }
   ],
   "source": [
    "df.select_dtypes(include=['category']).info()"
   ]
  },
  {
   "cell_type": "markdown",
   "id": "bf4acea1",
   "metadata": {},
   "source": [
    "ตรวจสอบ categories ในแต่ละ categorical feature:"
   ]
  },
  {
   "cell_type": "code",
   "execution_count": 18,
   "id": "2ee52642",
   "metadata": {
    "scrolled": false
   },
   "outputs": [
    {
     "name": "stdout",
     "output_type": "stream",
     "text": [
      "D_63 : ['CO', 'CR', 'CL', 'XL', 'XZ', 'XM']\n",
      "Categories (6, object): ['CL', 'CO', 'CR', 'XL', 'XM', 'XZ'] \n",
      "\n",
      "D_64 : ['O', 'R', 'U', '-1']\n",
      "Categories (4, object): ['-1', 'O', 'R', 'U'] \n",
      "\n",
      "D_68 : [6.0, 2.0, 3.0, 5.0, 0.0, 4.0, 1.0]\n",
      "Categories (7, float32): [0.0, 1.0, 2.0, 3.0, 4.0, 5.0, 6.0] \n",
      "\n",
      "B_30 : [0.0, 1.0, 2.0]\n",
      "Categories (3, float32): [0.0, 1.0, 2.0] \n",
      "\n",
      "B_38 : [2.0, 3.0, 5.0, 1.0, 4.0, 7.0, 6.0]\n",
      "Categories (7, float32): [1.0, 2.0, 3.0, 4.0, 5.0, 6.0, 7.0] \n",
      "\n",
      "D_114 : [1.0, 0.0]\n",
      "Categories (2, float32): [0.0, 1.0] \n",
      "\n",
      "D_116 : [0.0, 1.0]\n",
      "Categories (2, float32): [0.0, 1.0] \n",
      "\n",
      "D_117 : [-1.0, 6.0, 4.0, 3.0, 2.0, 1.0, 5.0]\n",
      "Categories (7, float32): [-1.0, 1.0, 2.0, 3.0, 4.0, 5.0, 6.0] \n",
      "\n",
      "D_120 : [0.0, 1.0]\n",
      "Categories (2, float32): [0.0, 1.0] \n",
      "\n",
      "D_126 : [1.0, -1.0, 0.0]\n",
      "Categories (3, float32): [-1.0, 0.0, 1.0] \n",
      "\n"
     ]
    }
   ],
   "source": [
    "for col in ['D_63','D_64','D_68',\n",
    "            'B_30','B_38',\n",
    "            'D_114','D_116','D_117','D_120','D_126']:\n",
    "    print(col,':',df[col].unique(),'\\n')"
   ]
  },
  {
   "cell_type": "markdown",
   "id": "f51ee11a",
   "metadata": {},
   "source": [
    "สร้าง dummy variables โดย drop_first เพื่อป้องกันปัญหา multi-collinearity (การมีสหสัมพันธ์กันเองระหว่างตัวแปรอิสระ) ซึ่งจะทำให้ model มีความคลาดเคลื่อนได้:"
   ]
  },
  {
   "cell_type": "code",
   "execution_count": 19,
   "id": "45cc7447",
   "metadata": {},
   "outputs": [],
   "source": [
    "df = pd.get_dummies(df, columns=['D_63','D_64','D_68',\n",
    "                                 'B_30','B_38',\n",
    "                                 'D_114','D_116','D_117','D_120','D_126'], drop_first=True)\n",
    "# drop_first=True in order to prevent the Multi-collinearity problem"
   ]
  },
  {
   "cell_type": "markdown",
   "id": "d11518c3",
   "metadata": {},
   "source": [
    "แสดงชื่อ features ทั้งหมดของชุดข้อมูลที่จะนำไปใช้สร้างโมเดลในขั้นตอนต่อไป:"
   ]
  },
  {
   "cell_type": "code",
   "execution_count": 20,
   "id": "7874b929",
   "metadata": {
    "scrolled": false
   },
   "outputs": [
    {
     "data": {
      "text/plain": [
       "array(['customer_ID', 'S_2', 'P_2', 'D_39', 'B_1', 'B_2', 'R_1', 'S_3',\n",
       "       'D_41', 'B_3', 'D_43', 'D_44', 'B_4', 'D_45', 'B_5', 'R_2', 'D_46',\n",
       "       'D_47', 'D_48', 'B_6', 'B_7', 'B_8', 'D_51', 'B_9', 'R_3', 'D_52',\n",
       "       'P_3', 'B_10', 'S_5', 'B_11', 'S_6', 'D_54', 'R_4', 'S_7', 'B_12',\n",
       "       'S_8', 'D_55', 'B_13', 'R_5', 'D_58', 'B_14', 'D_59', 'D_60',\n",
       "       'D_61', 'B_15', 'S_11', 'D_62', 'D_65', 'B_16', 'B_18', 'B_19',\n",
       "       'B_20', 'S_12', 'R_6', 'S_13', 'B_21', 'D_69', 'B_22', 'D_70',\n",
       "       'D_71', 'D_72', 'S_15', 'B_23', 'P_4', 'D_74', 'D_75', 'B_24',\n",
       "       'R_7', 'D_77', 'B_25', 'B_26', 'D_78', 'D_79', 'R_8', 'S_16',\n",
       "       'D_80', 'R_10', 'R_11', 'B_27', 'D_81', 'S_17', 'R_12', 'B_28',\n",
       "       'R_13', 'D_83', 'R_14', 'R_15', 'D_84', 'R_16', 'S_18', 'D_86',\n",
       "       'R_17', 'R_18', 'B_31', 'S_19', 'R_19', 'B_32', 'S_20', 'R_20',\n",
       "       'R_21', 'B_33', 'D_89', 'R_22', 'R_23', 'D_91', 'D_92', 'D_93',\n",
       "       'D_94', 'R_24', 'R_25', 'D_96', 'S_22', 'S_23', 'S_24', 'S_25',\n",
       "       'S_26', 'D_102', 'D_103', 'D_104', 'D_107', 'B_36', 'B_37', 'R_27',\n",
       "       'D_109', 'D_112', 'B_40', 'S_27', 'D_113', 'D_115', 'D_118',\n",
       "       'D_119', 'D_121', 'D_122', 'D_123', 'D_124', 'D_125', 'D_127',\n",
       "       'D_128', 'D_129', 'B_41', 'D_130', 'D_131', 'D_133', 'R_28',\n",
       "       'D_139', 'D_140', 'D_141', 'D_143', 'D_144', 'D_145', 'target',\n",
       "       'D_63_CO', 'D_63_CR', 'D_63_XL', 'D_63_XM', 'D_63_XZ', 'D_64_O',\n",
       "       'D_64_R', 'D_64_U', 'D_68_1.0', 'D_68_2.0', 'D_68_3.0', 'D_68_4.0',\n",
       "       'D_68_5.0', 'D_68_6.0', 'B_30_1.0', 'B_30_2.0', 'B_38_2.0',\n",
       "       'B_38_3.0', 'B_38_4.0', 'B_38_5.0', 'B_38_6.0', 'B_38_7.0',\n",
       "       'D_114_1.0', 'D_116_1.0', 'D_117_1.0', 'D_117_2.0', 'D_117_3.0',\n",
       "       'D_117_4.0', 'D_117_5.0', 'D_117_6.0', 'D_120_1.0', 'D_126_0.0',\n",
       "       'D_126_1.0'], dtype=object)"
      ]
     },
     "execution_count": 20,
     "metadata": {},
     "output_type": "execute_result"
    }
   ],
   "source": [
    "df.columns.values"
   ]
  },
  {
   "cell_type": "code",
   "execution_count": null,
   "id": "0156de16",
   "metadata": {},
   "outputs": [],
   "source": []
  }
 ],
 "metadata": {
  "kernelspec": {
   "display_name": "Python 3 (ipykernel)",
   "language": "python",
   "name": "python3"
  },
  "language_info": {
   "codemirror_mode": {
    "name": "ipython",
    "version": 3
   },
   "file_extension": ".py",
   "mimetype": "text/x-python",
   "name": "python",
   "nbconvert_exporter": "python",
   "pygments_lexer": "ipython3",
   "version": "3.11.5"
  }
 },
 "nbformat": 4,
 "nbformat_minor": 5
}
