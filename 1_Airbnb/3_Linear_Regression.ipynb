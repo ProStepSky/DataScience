{
 "cells": [
  {
   "cell_type": "markdown",
   "id": "790e93d5",
   "metadata": {},
   "source": [
    "**ส่วนนี้คือการ load ข้อมูล, การทำ data cleaning, และการกำจัด outliers (ท่านสามารถดูเพิ่มเติมได้ที่ 1_Data_Cleaning.ipynb)**\n",
    "\n",
    "**สำหรับ Linear Regression จะเริ่มต่อท้ายหลังจบส่วนนี้**"
   ]
  },
  {
   "cell_type": "code",
   "execution_count": 1,
   "id": "a1a6dc46",
   "metadata": {},
   "outputs": [
    {
     "data": {
      "text/plain": [
       "'3.11.5 | packaged by Anaconda, Inc. | (main, Sep 11 2023, 13:26:23) [MSC v.1916 64 bit (AMD64)]'"
      ]
     },
     "execution_count": 1,
     "metadata": {},
     "output_type": "execute_result"
    }
   ],
   "source": [
    "import sys\n",
    "sys.version"
   ]
  },
  {
   "cell_type": "code",
   "execution_count": 2,
   "id": "a99a425e",
   "metadata": {},
   "outputs": [],
   "source": [
    "# disable warnings that are not critical for a clean looking\n",
    "import warnings\n",
    "warnings.filterwarnings('ignore')"
   ]
  },
  {
   "cell_type": "code",
   "execution_count": 3,
   "id": "7ee5924f",
   "metadata": {},
   "outputs": [],
   "source": [
    "import pandas as pd\n",
    "import numpy as np\n",
    "import matplotlib.pyplot as plt\n",
    "import seaborn as sns\n",
    "\n",
    "%matplotlib inline\n",
    "%config InlineBackend.figure_format = 'retina'"
   ]
  },
  {
   "cell_type": "code",
   "execution_count": 4,
   "id": "234bba6d",
   "metadata": {},
   "outputs": [],
   "source": [
    "df = pd.read_csv('./dataset/listings.csv',\n",
    "                 usecols=['neighbourhood_group_cleansed',\n",
    "                          'room_type','accommodates',\n",
    "                          'bathrooms_text','beds','price',\n",
    "                          'minimum_nights','maximum_nights'])"
   ]
  },
  {
   "cell_type": "code",
   "execution_count": 5,
   "id": "2812e207",
   "metadata": {},
   "outputs": [],
   "source": [
    "df['bathrooms_text'].replace('Half-bath','0.5 baths', inplace=True)\n",
    "df['bathrooms_text'].replace('Shared half-bath','0.5 shared baths', inplace=True)\n",
    "df['bathrooms_text'].replace('Private half-bath','0.5 baths', inplace=True)"
   ]
  },
  {
   "cell_type": "code",
   "execution_count": 6,
   "id": "1460b801",
   "metadata": {},
   "outputs": [],
   "source": [
    "df.dropna(subset=['bathrooms_text'], inplace=True)"
   ]
  },
  {
   "cell_type": "code",
   "execution_count": 7,
   "id": "0cb76a66",
   "metadata": {},
   "outputs": [],
   "source": [
    "df['baths'] = df['bathrooms_text'].apply(lambda x: x.split(' ')[0])"
   ]
  },
  {
   "cell_type": "code",
   "execution_count": 8,
   "id": "b6ac2c94",
   "metadata": {},
   "outputs": [],
   "source": [
    "df['baths'] = df['baths'].astype(float)"
   ]
  },
  {
   "cell_type": "code",
   "execution_count": 9,
   "id": "666971ff",
   "metadata": {},
   "outputs": [],
   "source": [
    "df.drop(['bathrooms_text'],axis=1,inplace=True)"
   ]
  },
  {
   "cell_type": "code",
   "execution_count": 10,
   "id": "52b6377d",
   "metadata": {},
   "outputs": [],
   "source": [
    "df['beds'].fillna(value=1, inplace=True)"
   ]
  },
  {
   "cell_type": "code",
   "execution_count": 11,
   "id": "ebdd7b37",
   "metadata": {},
   "outputs": [],
   "source": [
    "df['beds'] = df['beds'].astype(int)"
   ]
  },
  {
   "cell_type": "code",
   "execution_count": 12,
   "id": "4bb0c8b5",
   "metadata": {},
   "outputs": [],
   "source": [
    "# Remove dollar and comma signs from price column\n",
    "df['price'].replace({'\\$':'', ',':''}, regex = True, inplace=True)\n",
    "\n",
    "# Convert string to float\n",
    "df['price'] = df['price'].astype(float)"
   ]
  },
  {
   "cell_type": "markdown",
   "id": "66bc70a8",
   "metadata": {},
   "source": [
    "#### การกำจัด outliers"
   ]
  },
  {
   "cell_type": "code",
   "execution_count": 13,
   "id": "9756461e",
   "metadata": {},
   "outputs": [],
   "source": [
    "df_real = df.copy()"
   ]
  },
  {
   "cell_type": "code",
   "execution_count": 14,
   "id": "4f8223fc",
   "metadata": {},
   "outputs": [],
   "source": [
    "def my_func(a, b, c, val):\n",
    "    tmp = df_real[(df_real[a]==b) & (df_real[c] >= val)]\n",
    "    df_real.drop(index=tmp.index, inplace=True)"
   ]
  },
  {
   "cell_type": "code",
   "execution_count": 15,
   "id": "e7a3b4d7",
   "metadata": {
    "scrolled": true
   },
   "outputs": [],
   "source": [
    "my_func('neighbourhood_group_cleansed','Manhattan','price',423)\n",
    "my_func('neighbourhood_group_cleansed','Brooklyn','price',307)\n",
    "my_func('neighbourhood_group_cleansed','Queens','price',237)\n",
    "my_func('neighbourhood_group_cleansed','Staten Island','price',217)\n",
    "my_func('neighbourhood_group_cleansed','Bronx','price',222)"
   ]
  },
  {
   "cell_type": "code",
   "execution_count": 16,
   "id": "30e94956",
   "metadata": {
    "scrolled": true
   },
   "outputs": [],
   "source": [
    "my_func('room_type','Entire home/apt','price',335)\n",
    "my_func('room_type','Private room','price',164)\n",
    "my_func('room_type','Hotel room','price',402)\n",
    "my_func('room_type','Shared room','price',143)"
   ]
  },
  {
   "cell_type": "markdown",
   "id": "3ce5c3ac",
   "metadata": {},
   "source": [
    "**Linear Regression จะเริ่มต้นขึ้นต่อจากนี้**\n",
    "\n",
    "---"
   ]
  },
  {
   "cell_type": "markdown",
   "id": "3e8df1b8",
   "metadata": {},
   "source": [
    "# Linear Regression"
   ]
  },
  {
   "cell_type": "markdown",
   "id": "cd0eaa68",
   "metadata": {},
   "source": [
    "## Feature Selection"
   ]
  },
  {
   "cell_type": "markdown",
   "id": "af61d4f1",
   "metadata": {},
   "source": [
    "เลือกเฉพาะตัวแปรที่จะนำมาใช้ในการฝึกสอน model ได้แก่ เมืองของห้องพัก, ประเภทของห้อง, จำนวนแขกที่รองรับได้, จำนวนเตียง, และจำนวนห้องน้ำ"
   ]
  },
  {
   "cell_type": "code",
   "execution_count": 17,
   "id": "5d67be4b",
   "metadata": {},
   "outputs": [],
   "source": [
    "df_real.drop([\n",
    "    'minimum_nights',\n",
    "    'maximum_nights',\n",
    "],axis=1, inplace=True)"
   ]
  },
  {
   "cell_type": "code",
   "execution_count": 18,
   "id": "e22db96e",
   "metadata": {},
   "outputs": [
    {
     "data": {
      "text/plain": [
       "Index(['neighbourhood_group_cleansed', 'room_type', 'accommodates', 'beds',\n",
       "       'price', 'baths'],\n",
       "      dtype='object')"
      ]
     },
     "execution_count": 18,
     "metadata": {},
     "output_type": "execute_result"
    }
   ],
   "source": [
    "df_real.columns"
   ]
  },
  {
   "cell_type": "markdown",
   "id": "67c57f54",
   "metadata": {},
   "source": [
    "## สร้าง dummy variables"
   ]
  },
  {
   "cell_type": "markdown",
   "id": "3bdb3d23",
   "metadata": {},
   "source": [
    "สร้าง dummy variables โดย drop_first ด้วย เพื่อป้องกันปัญหา multi-collinearity (การมีสหสัมพันธ์กันเองระหว่างตัวแปรอิสระ) ซึ่งจะทำให้ model มีความคลาดเคลื่อนได้:"
   ]
  },
  {
   "cell_type": "code",
   "execution_count": 19,
   "id": "c3f16dba",
   "metadata": {},
   "outputs": [],
   "source": [
    "df_real = pd.get_dummies(df_real, drop_first=True)\n",
    "# drop_first=True in order to prevent the Multi-collinearity problem"
   ]
  },
  {
   "cell_type": "code",
   "execution_count": 20,
   "id": "d3e6da31",
   "metadata": {
    "scrolled": true
   },
   "outputs": [],
   "source": [
    "#df_real.sample(5)"
   ]
  },
  {
   "cell_type": "code",
   "execution_count": 21,
   "id": "3405d608",
   "metadata": {},
   "outputs": [],
   "source": [
    "X = df_real.drop(['price'], axis=1)\n",
    "\n",
    "y = np.array(df_real['price']).reshape(-1,1)\n",
    "# Reshape a serie into 1 column array before feed it into the algorithm"
   ]
  },
  {
   "cell_type": "markdown",
   "id": "9d11eda2",
   "metadata": {},
   "source": [
    "## ทำการแบ่งข้อมูล train/test ด้วยอัตราส่วน 80:20"
   ]
  },
  {
   "cell_type": "markdown",
   "id": "d3d710e8",
   "metadata": {},
   "source": [
    "ทำการแบ่งข้อมูลเป็นสองชุด ได้แก่\n",
    "\n",
    "1) Training Set เพื่อใช้ฝึกสอน model\n",
    "2) Test Set เพื่อใช้ประเมิน model\n",
    "\n",
    "นั่นคือ จะใช้ข้อมูลชุด Training Set ในขณะฝึกสอน model และ model จะไม่เคยเห็นข้อมูลชุด Test Set มาก่อน นี่ทำให้เราสามารถประเมิน model ได้อิงกับความเป็นจริงมากกว่า"
   ]
  },
  {
   "cell_type": "code",
   "execution_count": 22,
   "id": "4abf56a4",
   "metadata": {},
   "outputs": [],
   "source": [
    "from sklearn.model_selection import train_test_split\n",
    "\n",
    "X_train, X_test, y_train, y_test = train_test_split(X, y, test_size=0.2, random_state=55)"
   ]
  },
  {
   "cell_type": "markdown",
   "id": "c808f470",
   "metadata": {},
   "source": [
    "Linerar Regression ไม่จำเป็นต้องทำ Data Scaling (Standardisation) เพราะใช้การปรับ (fit) เส้น Regression กับจุดข้อมูล  \n",
    "\n",
    "แต่ Support Vector Regression (SVR) ควรทำ Data Scaling (Standardisation) เพราะถ้าจุดข้อมูลของแต่ละตัวแปรอิสระมี scale ที่ต่างกันเกินไป จะทำให้อัลกอริทึมวัดระยะห่างของแต่ละจุดข้อมูลได้ยาก ส่งผลให้ model ทำการ fit hyperplane ได้ยากและไม่ดีเท่าที่ควร"
   ]
  },
  {
   "cell_type": "code",
   "execution_count": 23,
   "id": "e7eda6bd",
   "metadata": {},
   "outputs": [
    {
     "data": {
      "text/html": [
       "<style>#sk-container-id-1 {color: black;}#sk-container-id-1 pre{padding: 0;}#sk-container-id-1 div.sk-toggleable {background-color: white;}#sk-container-id-1 label.sk-toggleable__label {cursor: pointer;display: block;width: 100%;margin-bottom: 0;padding: 0.3em;box-sizing: border-box;text-align: center;}#sk-container-id-1 label.sk-toggleable__label-arrow:before {content: \"▸\";float: left;margin-right: 0.25em;color: #696969;}#sk-container-id-1 label.sk-toggleable__label-arrow:hover:before {color: black;}#sk-container-id-1 div.sk-estimator:hover label.sk-toggleable__label-arrow:before {color: black;}#sk-container-id-1 div.sk-toggleable__content {max-height: 0;max-width: 0;overflow: hidden;text-align: left;background-color: #f0f8ff;}#sk-container-id-1 div.sk-toggleable__content pre {margin: 0.2em;color: black;border-radius: 0.25em;background-color: #f0f8ff;}#sk-container-id-1 input.sk-toggleable__control:checked~div.sk-toggleable__content {max-height: 200px;max-width: 100%;overflow: auto;}#sk-container-id-1 input.sk-toggleable__control:checked~label.sk-toggleable__label-arrow:before {content: \"▾\";}#sk-container-id-1 div.sk-estimator input.sk-toggleable__control:checked~label.sk-toggleable__label {background-color: #d4ebff;}#sk-container-id-1 div.sk-label input.sk-toggleable__control:checked~label.sk-toggleable__label {background-color: #d4ebff;}#sk-container-id-1 input.sk-hidden--visually {border: 0;clip: rect(1px 1px 1px 1px);clip: rect(1px, 1px, 1px, 1px);height: 1px;margin: -1px;overflow: hidden;padding: 0;position: absolute;width: 1px;}#sk-container-id-1 div.sk-estimator {font-family: monospace;background-color: #f0f8ff;border: 1px dotted black;border-radius: 0.25em;box-sizing: border-box;margin-bottom: 0.5em;}#sk-container-id-1 div.sk-estimator:hover {background-color: #d4ebff;}#sk-container-id-1 div.sk-parallel-item::after {content: \"\";width: 100%;border-bottom: 1px solid gray;flex-grow: 1;}#sk-container-id-1 div.sk-label:hover label.sk-toggleable__label {background-color: #d4ebff;}#sk-container-id-1 div.sk-serial::before {content: \"\";position: absolute;border-left: 1px solid gray;box-sizing: border-box;top: 0;bottom: 0;left: 50%;z-index: 0;}#sk-container-id-1 div.sk-serial {display: flex;flex-direction: column;align-items: center;background-color: white;padding-right: 0.2em;padding-left: 0.2em;position: relative;}#sk-container-id-1 div.sk-item {position: relative;z-index: 1;}#sk-container-id-1 div.sk-parallel {display: flex;align-items: stretch;justify-content: center;background-color: white;position: relative;}#sk-container-id-1 div.sk-item::before, #sk-container-id-1 div.sk-parallel-item::before {content: \"\";position: absolute;border-left: 1px solid gray;box-sizing: border-box;top: 0;bottom: 0;left: 50%;z-index: -1;}#sk-container-id-1 div.sk-parallel-item {display: flex;flex-direction: column;z-index: 1;position: relative;background-color: white;}#sk-container-id-1 div.sk-parallel-item:first-child::after {align-self: flex-end;width: 50%;}#sk-container-id-1 div.sk-parallel-item:last-child::after {align-self: flex-start;width: 50%;}#sk-container-id-1 div.sk-parallel-item:only-child::after {width: 0;}#sk-container-id-1 div.sk-dashed-wrapped {border: 1px dashed gray;margin: 0 0.4em 0.5em 0.4em;box-sizing: border-box;padding-bottom: 0.4em;background-color: white;}#sk-container-id-1 div.sk-label label {font-family: monospace;font-weight: bold;display: inline-block;line-height: 1.2em;}#sk-container-id-1 div.sk-label-container {text-align: center;}#sk-container-id-1 div.sk-container {/* jupyter's `normalize.less` sets `[hidden] { display: none; }` but bootstrap.min.css set `[hidden] { display: none !important; }` so we also need the `!important` here to be able to override the default hidden behavior on the sphinx rendered scikit-learn.org. See: https://github.com/scikit-learn/scikit-learn/issues/21755 */display: inline-block !important;position: relative;}#sk-container-id-1 div.sk-text-repr-fallback {display: none;}</style><div id=\"sk-container-id-1\" class=\"sk-top-container\"><div class=\"sk-text-repr-fallback\"><pre>LinearRegression()</pre><b>In a Jupyter environment, please rerun this cell to show the HTML representation or trust the notebook. <br />On GitHub, the HTML representation is unable to render, please try loading this page with nbviewer.org.</b></div><div class=\"sk-container\" hidden><div class=\"sk-item\"><div class=\"sk-estimator sk-toggleable\"><input class=\"sk-toggleable__control sk-hidden--visually\" id=\"sk-estimator-id-1\" type=\"checkbox\" checked><label for=\"sk-estimator-id-1\" class=\"sk-toggleable__label sk-toggleable__label-arrow\">LinearRegression</label><div class=\"sk-toggleable__content\"><pre>LinearRegression()</pre></div></div></div></div></div>"
      ],
      "text/plain": [
       "LinearRegression()"
      ]
     },
     "execution_count": 23,
     "metadata": {},
     "output_type": "execute_result"
    }
   ],
   "source": [
    "from sklearn.linear_model import LinearRegression\n",
    "\n",
    "lm = LinearRegression()\n",
    "lm.fit(X_train, y_train)"
   ]
  },
  {
   "cell_type": "markdown",
   "id": "0bd14645",
   "metadata": {},
   "source": [
    "## แสดงค่าจุดตัดแกนและค่าสัมประสิทธิ์ของ Linear Regression"
   ]
  },
  {
   "cell_type": "markdown",
   "id": "343b2071",
   "metadata": {},
   "source": [
    "ค่าจุดตัดแกนของ model:"
   ]
  },
  {
   "cell_type": "code",
   "execution_count": 24,
   "id": "0acb1ee9",
   "metadata": {
    "scrolled": true
   },
   "outputs": [
    {
     "name": "stdout",
     "output_type": "stream",
     "text": [
      "Intercept = 88.13867510509206\n"
     ]
    }
   ],
   "source": [
    "print('Intercept =',lm.intercept_[0])"
   ]
  },
  {
   "cell_type": "markdown",
   "id": "57c1b11f",
   "metadata": {},
   "source": [
    "ค่าสัมประสิทธิ์ของ model:"
   ]
  },
  {
   "cell_type": "code",
   "execution_count": 25,
   "id": "ce7594e6",
   "metadata": {
    "scrolled": true
   },
   "outputs": [
    {
     "data": {
      "text/html": [
       "<div>\n",
       "<style scoped>\n",
       "    .dataframe tbody tr th:only-of-type {\n",
       "        vertical-align: middle;\n",
       "    }\n",
       "\n",
       "    .dataframe tbody tr th {\n",
       "        vertical-align: top;\n",
       "    }\n",
       "\n",
       "    .dataframe thead th {\n",
       "        text-align: right;\n",
       "    }\n",
       "</style>\n",
       "<table border=\"1\" class=\"dataframe\">\n",
       "  <thead>\n",
       "    <tr style=\"text-align: right;\">\n",
       "      <th></th>\n",
       "      <th>Slope</th>\n",
       "    </tr>\n",
       "  </thead>\n",
       "  <tbody>\n",
       "    <tr>\n",
       "      <th>accommodates</th>\n",
       "      <td>9.913310</td>\n",
       "    </tr>\n",
       "    <tr>\n",
       "      <th>beds</th>\n",
       "      <td>0.706539</td>\n",
       "    </tr>\n",
       "    <tr>\n",
       "      <th>baths</th>\n",
       "      <td>6.591963</td>\n",
       "    </tr>\n",
       "    <tr>\n",
       "      <th>neighbourhood_group_cleansed_Brooklyn</th>\n",
       "      <td>17.896464</td>\n",
       "    </tr>\n",
       "    <tr>\n",
       "      <th>neighbourhood_group_cleansed_Manhattan</th>\n",
       "      <td>42.692114</td>\n",
       "    </tr>\n",
       "    <tr>\n",
       "      <th>neighbourhood_group_cleansed_Queens</th>\n",
       "      <td>3.590093</td>\n",
       "    </tr>\n",
       "    <tr>\n",
       "      <th>neighbourhood_group_cleansed_Staten Island</th>\n",
       "      <td>-4.706540</td>\n",
       "    </tr>\n",
       "    <tr>\n",
       "      <th>room_type_Hotel room</th>\n",
       "      <td>64.175654</td>\n",
       "    </tr>\n",
       "    <tr>\n",
       "      <th>room_type_Private room</th>\n",
       "      <td>-65.911291</td>\n",
       "    </tr>\n",
       "    <tr>\n",
       "      <th>room_type_Shared room</th>\n",
       "      <td>-81.433965</td>\n",
       "    </tr>\n",
       "  </tbody>\n",
       "</table>\n",
       "</div>"
      ],
      "text/plain": [
       "                                                Slope\n",
       "accommodates                                 9.913310\n",
       "beds                                         0.706539\n",
       "baths                                        6.591963\n",
       "neighbourhood_group_cleansed_Brooklyn       17.896464\n",
       "neighbourhood_group_cleansed_Manhattan      42.692114\n",
       "neighbourhood_group_cleansed_Queens          3.590093\n",
       "neighbourhood_group_cleansed_Staten Island  -4.706540\n",
       "room_type_Hotel room                        64.175654\n",
       "room_type_Private room                     -65.911291\n",
       "room_type_Shared room                      -81.433965"
      ]
     },
     "execution_count": 25,
     "metadata": {},
     "output_type": "execute_result"
    }
   ],
   "source": [
    "pd.DataFrame(lm.coef_, \n",
    "             index = ['Slope'], \n",
    "             columns = X.columns).T"
   ]
  },
  {
   "cell_type": "markdown",
   "id": "9cd86396",
   "metadata": {},
   "source": [
    "ตัวอย่างการแปลผล slope หรือสัมประสิทธิ์ ในพหุนามของ Linear Regression ที่เพิ่งสร้างเสร็จ:\n",
    "- จำนวนแขกที่รองรับที่เพิ่มขึ้น 1 คน ทำให้ค่าเช่าเพิ่ม 9.913310 USD\n",
    "- จำนวนเตียงที่เพิ่มขึ้น 1 เตียง ทำให้ค่าเช่าเพิ่ม 0.706539 USD\n",
    "- จำนวนห้องน้ำที่เพิ่มขึ้น 1 ห้อง ทำให้ค่าเช่าเพิ่ม 6.591963 USD\n",
    "- ถ้าห้องพักมาจากเมือง Brooklyn ทำให้ค่าเช่าเพิ่ม 17.896464 USD\n",
    "- เป็นต้น"
   ]
  },
  {
   "cell_type": "markdown",
   "id": "4cc3de2d",
   "metadata": {},
   "source": [
    "## การประเมิน model ที่ใช้ทำนาย"
   ]
  },
  {
   "cell_type": "markdown",
   "id": "6dc53995",
   "metadata": {},
   "source": [
    "นำ model ที่เพิ่งสร้างเสร็จมาทำนายกับชุดข้อมูล Test Set:"
   ]
  },
  {
   "cell_type": "code",
   "execution_count": 26,
   "id": "ae8b822e",
   "metadata": {},
   "outputs": [],
   "source": [
    "predicted = lm.predict(X_test)"
   ]
  },
  {
   "cell_type": "code",
   "execution_count": 27,
   "id": "ef0ca4bc",
   "metadata": {},
   "outputs": [
    {
     "name": "stdout",
     "output_type": "stream",
     "text": [
      "MAE: 34.551230059976895\n",
      "MSE: 2109.9436859629036\n",
      "RMSE: 45.93412332855503\n"
     ]
    }
   ],
   "source": [
    "from sklearn import metrics\n",
    "\n",
    "print('MAE:', metrics.mean_absolute_error(y_test, predicted))\n",
    "print('MSE:', metrics.mean_squared_error(y_test, predicted))\n",
    "print('RMSE:', np.sqrt(metrics.mean_squared_error(y_test, predicted)))"
   ]
  },
  {
   "cell_type": "markdown",
   "id": "52c5bc54",
   "metadata": {},
   "source": [
    "ค่า Root Mean Square Error (RMSE) บ่งบอกถึงผลต่างระหว่างค่าจริงกับค่าทำนาย ยิ่งต่ำยิ่งบ่งบอกว่า model fit กับชุดข้อมูลได้ดี model นี้มีค่า RMSE เท่ากับ 45.93 USD"
   ]
  },
  {
   "cell_type": "code",
   "execution_count": 28,
   "id": "e8e3959f",
   "metadata": {},
   "outputs": [
    {
     "name": "stdout",
     "output_type": "stream",
     "text": [
      "R2: 0.5194046323766995\n"
     ]
    }
   ],
   "source": [
    "from sklearn.metrics import r2_score\n",
    "\n",
    "print('R2:', r2_score(y_test, predicted))"
   ]
  },
  {
   "cell_type": "markdown",
   "id": "bf600afb",
   "metadata": {},
   "source": [
    "ค่า R-squared บ่งบอกว่า model fit กับชุดข้อมูลได้ดีเพียงใด มีค่าตั้งแต่ 0 ถึง 1 โดย 0 หมายถึงแย่ที่สุด และ 1 หมายถึงดีที่สุด model นี้มีค่า R-squared เท่ากับ 0.52 ถือว่าอยู่ในระดับปานกลาง"
   ]
  },
  {
   "cell_type": "markdown",
   "id": "be0bfd1e",
   "metadata": {},
   "source": [
    "**(สามารถดูการเปรียบเทียบประสิทธิภาพระหว่าง Linear Regression และ Support Vector Regression (SVR) ได้ที่ 6_Comparison.ipynb)**"
   ]
  },
  {
   "cell_type": "code",
   "execution_count": 29,
   "id": "fdb7a7dd",
   "metadata": {},
   "outputs": [],
   "source": [
    "# Save evaluation results for use in the Performance Graph Comparison\n",
    "RMSE_LR = np.sqrt(metrics.mean_squared_error(y_test, predicted))\n",
    "R2_LR = r2_score(y_test, predicted)\n",
    "\n",
    "np.savetxt('./eval_results/RMSE_LR.txt', [RMSE_LR])\n",
    "np.savetxt('./eval_results/R2_LR.txt', [R2_LR])"
   ]
  },
  {
   "cell_type": "markdown",
   "id": "affd80d4",
   "metadata": {},
   "source": [
    "## กราฟแจกแจงความถี่ของผลต่างระหว่างค่าจริง (Test) กับค่าทำนาย (Predict)"
   ]
  },
  {
   "cell_type": "code",
   "execution_count": 30,
   "id": "86fbcf46",
   "metadata": {},
   "outputs": [],
   "source": [
    "diff = y_test-predicted"
   ]
  },
  {
   "cell_type": "code",
   "execution_count": 31,
   "id": "63977601",
   "metadata": {
    "scrolled": false
   },
   "outputs": [
    {
     "data": {
      "image/png": "[encoded data removed]",
      "text/plain": [
       "<Figure size 1000x500 with 1 Axes>"
      ]
     },
     "metadata": {
      "image/png": {
       "height": 450,
       "width": 863
      }
     },
     "output_type": "display_data"
    }
   ],
   "source": [
    "fig = plt.figure(figsize=(10,5))\n",
    "sns.histplot(diff,bins=100, kde=True)\n",
    "plt.xlim([-200,200])\n",
    "plt.ylim([0,400])\n",
    "plt.title('Distribution Plot of Difference between Test and Predict')\n",
    "\n",
    "plt.show()"
   ]
  },
  {
   "cell_type": "code",
   "execution_count": 32,
   "id": "97e726c7",
   "metadata": {},
   "outputs": [
    {
     "name": "stdout",
     "output_type": "stream",
     "text": [
      "S.D. = 45.93376090413296\n",
      "Mean = 0.18246962719755033\n"
     ]
    }
   ],
   "source": [
    "print('S.D. =', diff.std())\n",
    "print('Mean =', diff.mean())"
   ]
  },
  {
   "cell_type": "markdown",
   "id": "3147f4c5",
   "metadata": {},
   "source": [
    "**จากกราฟพบว่า:**\n",
    "1) ได้กราฟที่ใกล้เคียงการแจกแจงแบบปกติ (normal distribution) และเบ้ขวา (Right Skew) เล็กน้อย (ข้อมูลหนักไปทางซ้ายเล็กน้อย)\n",
    "2) ผลต่างระหว่างค่าจริงกับค่าทำนาย มีส่วนเบี่ยงเบนมาตรฐาน (S.D.) เท่ากับ 45.93 USD นั่นคือ ผลต่างระหว่างค่าจริงกับค่าทำนายส่วนใหญ่ค่อนข้างอยู่ใกล้ค่าเฉลี่ย 0.18 USD ซึ่งค่าเฉลี่ยใกล้กับ 0 USD มาก"
   ]
  },
  {
   "cell_type": "markdown",
   "id": "300de7ce",
   "metadata": {},
   "source": [
    "## เปรียบเทียบราคาจริงกับราคาที่ได้จากการทำนาย"
   ]
  },
  {
   "cell_type": "code",
   "execution_count": 33,
   "id": "c2c3715f",
   "metadata": {},
   "outputs": [],
   "source": [
    "dict_compare = {'Price': y_test.flatten(), 'predicted':  predicted.flatten()}\n",
    "df_predicted = pd.DataFrame(dict_compare)"
   ]
  },
  {
   "cell_type": "code",
   "execution_count": 34,
   "id": "eb91f9fc",
   "metadata": {
    "scrolled": false
   },
   "outputs": [
    {
     "data": {
      "text/html": [
       "<div>\n",
       "<style scoped>\n",
       "    .dataframe tbody tr th:only-of-type {\n",
       "        vertical-align: middle;\n",
       "    }\n",
       "\n",
       "    .dataframe tbody tr th {\n",
       "        vertical-align: top;\n",
       "    }\n",
       "\n",
       "    .dataframe thead th {\n",
       "        text-align: right;\n",
       "    }\n",
       "</style>\n",
       "<table border=\"1\" class=\"dataframe\">\n",
       "  <thead>\n",
       "    <tr style=\"text-align: right;\">\n",
       "      <th></th>\n",
       "      <th>Price</th>\n",
       "      <th>predicted</th>\n",
       "    </tr>\n",
       "  </thead>\n",
       "  <tbody>\n",
       "    <tr>\n",
       "      <th>3691</th>\n",
       "      <td>217.0</td>\n",
       "      <td>158.662452</td>\n",
       "    </tr>\n",
       "    <tr>\n",
       "      <th>5131</th>\n",
       "      <td>125.0</td>\n",
       "      <td>143.073573</td>\n",
       "    </tr>\n",
       "    <tr>\n",
       "      <th>3855</th>\n",
       "      <td>220.0</td>\n",
       "      <td>157.955912</td>\n",
       "    </tr>\n",
       "    <tr>\n",
       "      <th>705</th>\n",
       "      <td>253.0</td>\n",
       "      <td>178.489072</td>\n",
       "    </tr>\n",
       "    <tr>\n",
       "      <th>6547</th>\n",
       "      <td>50.0</td>\n",
       "      <td>57.335661</td>\n",
       "    </tr>\n",
       "  </tbody>\n",
       "</table>\n",
       "</div>"
      ],
      "text/plain": [
       "      Price   predicted\n",
       "3691  217.0  158.662452\n",
       "5131  125.0  143.073573\n",
       "3855  220.0  157.955912\n",
       "705   253.0  178.489072\n",
       "6547   50.0   57.335661"
      ]
     },
     "execution_count": 34,
     "metadata": {},
     "output_type": "execute_result"
    }
   ],
   "source": [
    "df_predicted.sample(5)"
   ]
  },
  {
   "cell_type": "code",
   "execution_count": 35,
   "id": "282ad1fe",
   "metadata": {},
   "outputs": [],
   "source": [
    "#print(df_predicted.to_string())"
   ]
  },
  {
   "cell_type": "markdown",
   "id": "d9f18640",
   "metadata": {},
   "source": [
    "หาค่าสหสัมพันธ์ระหว่างราคาจริง (test) กับราคาที่ได้จากการทำนาย (predicted):"
   ]
  },
  {
   "cell_type": "code",
   "execution_count": 36,
   "id": "3f4e08d2",
   "metadata": {
    "scrolled": false
   },
   "outputs": [
    {
     "data": {
      "text/html": [
       "<div>\n",
       "<style scoped>\n",
       "    .dataframe tbody tr th:only-of-type {\n",
       "        vertical-align: middle;\n",
       "    }\n",
       "\n",
       "    .dataframe tbody tr th {\n",
       "        vertical-align: top;\n",
       "    }\n",
       "\n",
       "    .dataframe thead th {\n",
       "        text-align: right;\n",
       "    }\n",
       "</style>\n",
       "<table border=\"1\" class=\"dataframe\">\n",
       "  <thead>\n",
       "    <tr style=\"text-align: right;\">\n",
       "      <th></th>\n",
       "      <th>Price</th>\n",
       "      <th>predicted</th>\n",
       "    </tr>\n",
       "  </thead>\n",
       "  <tbody>\n",
       "    <tr>\n",
       "      <th>Price</th>\n",
       "      <td>1.000000</td>\n",
       "      <td>0.720752</td>\n",
       "    </tr>\n",
       "    <tr>\n",
       "      <th>predicted</th>\n",
       "      <td>0.720752</td>\n",
       "      <td>1.000000</td>\n",
       "    </tr>\n",
       "  </tbody>\n",
       "</table>\n",
       "</div>"
      ],
      "text/plain": [
       "              Price  predicted\n",
       "Price      1.000000   0.720752\n",
       "predicted  0.720752   1.000000"
      ]
     },
     "execution_count": 36,
     "metadata": {},
     "output_type": "execute_result"
    }
   ],
   "source": [
    "df_predicted.corr()"
   ]
  },
  {
   "cell_type": "markdown",
   "id": "257d4705",
   "metadata": {},
   "source": [
    "ค่าสหสัมพันธ์ระหว่างราคาจริงกับราคาที่ได้จากการทำนายเท่ากับ 0.72  \n",
    "นั่นคือ ราคาจริงกับราคาที่ได้จากการทำนายไปในทิศทางเดียวกันพอสมควร"
   ]
  },
  {
   "cell_type": "markdown",
   "id": "ee8e32ee",
   "metadata": {},
   "source": [
    "## ทดลองใช้ model ทำนาย"
   ]
  },
  {
   "cell_type": "markdown",
   "id": "447a47fc",
   "metadata": {},
   "source": [
    "แสดง columns ของตัวแปรอิสระ เพื่อให้สร้าง DataFrame สำหรับป้อนเข้า model ให้มีเรียงลำดับของตัวแปรอิสระอย่างถูกต้อง"
   ]
  },
  {
   "cell_type": "code",
   "execution_count": 37,
   "id": "9d8a75a5",
   "metadata": {},
   "outputs": [
    {
     "data": {
      "text/plain": [
       "Index(['accommodates', 'beds', 'baths',\n",
       "       'neighbourhood_group_cleansed_Brooklyn',\n",
       "       'neighbourhood_group_cleansed_Manhattan',\n",
       "       'neighbourhood_group_cleansed_Queens',\n",
       "       'neighbourhood_group_cleansed_Staten Island', 'room_type_Hotel room',\n",
       "       'room_type_Private room', 'room_type_Shared room'],\n",
       "      dtype='object')"
      ]
     },
     "execution_count": 37,
     "metadata": {},
     "output_type": "execute_result"
    }
   ],
   "source": [
    "X.columns"
   ]
  },
  {
   "cell_type": "markdown",
   "id": "e4057df8",
   "metadata": {},
   "source": [
    "**ยกตัวอย่าง:**  \n",
    "\n",
    "ต้องการทำนายว่าจากตัวแปรดังต่อไปนี้\n",
    "\n",
    "- จำนวนแขกที่รองรับได้: 3 คน\n",
    "- จำนวนเตียง: 2 เตียง\n",
    "- จำนวนห้องน้ำ: 2 ห้อง\n",
    "- เมืองของห้องพัก: Manhattan\n",
    "- ประเภทของห้อง: เช่าทั้งหลัง\n",
    "\n",
    "ควรจะมีราคาค่าเช่าเท่าไร?"
   ]
  },
  {
   "cell_type": "markdown",
   "id": "812c9ef5",
   "metadata": {},
   "source": [
    "สร้าง DataFrame สำหรับป้อนเข้า model เพื่อทำนาย:"
   ]
  },
  {
   "cell_type": "code",
   "execution_count": 38,
   "id": "425ecab8",
   "metadata": {},
   "outputs": [
    {
     "data": {
      "text/html": [
       "<div>\n",
       "<style scoped>\n",
       "    .dataframe tbody tr th:only-of-type {\n",
       "        vertical-align: middle;\n",
       "    }\n",
       "\n",
       "    .dataframe tbody tr th {\n",
       "        vertical-align: top;\n",
       "    }\n",
       "\n",
       "    .dataframe thead th {\n",
       "        text-align: right;\n",
       "    }\n",
       "</style>\n",
       "<table border=\"1\" class=\"dataframe\">\n",
       "  <thead>\n",
       "    <tr style=\"text-align: right;\">\n",
       "      <th></th>\n",
       "      <th>accommodates</th>\n",
       "      <th>beds</th>\n",
       "      <th>baths</th>\n",
       "      <th>neighbourhood_group_cleansed_Brooklyn</th>\n",
       "      <th>neighbourhood_group_cleansed_Manhattan</th>\n",
       "      <th>neighbourhood_group_cleansed_Queens</th>\n",
       "      <th>neighbourhood_group_cleansed_Staten Island</th>\n",
       "      <th>room_type_Hotel room</th>\n",
       "      <th>room_type_Private room</th>\n",
       "      <th>room_type_Shared room</th>\n",
       "    </tr>\n",
       "  </thead>\n",
       "  <tbody>\n",
       "    <tr>\n",
       "      <th>0</th>\n",
       "      <td>3</td>\n",
       "      <td>2</td>\n",
       "      <td>2</td>\n",
       "      <td>0</td>\n",
       "      <td>1</td>\n",
       "      <td>0</td>\n",
       "      <td>0</td>\n",
       "      <td>0</td>\n",
       "      <td>0</td>\n",
       "      <td>0</td>\n",
       "    </tr>\n",
       "  </tbody>\n",
       "</table>\n",
       "</div>"
      ],
      "text/plain": [
       "   accommodates  beds  baths  neighbourhood_group_cleansed_Brooklyn  \\\n",
       "0             3     2      2                                      0   \n",
       "\n",
       "   neighbourhood_group_cleansed_Manhattan  \\\n",
       "0                                       1   \n",
       "\n",
       "   neighbourhood_group_cleansed_Queens  \\\n",
       "0                                    0   \n",
       "\n",
       "   neighbourhood_group_cleansed_Staten Island  room_type_Hotel room  \\\n",
       "0                                           0                     0   \n",
       "\n",
       "   room_type_Private room  room_type_Shared room  \n",
       "0                       0                      0  "
      ]
     },
     "execution_count": 38,
     "metadata": {},
     "output_type": "execute_result"
    }
   ],
   "source": [
    "tmp = pd.DataFrame([[3,2,2,0,1,0,0,0,0,0]], \n",
    "                   columns=df_real.drop(['price'], axis=1).columns)\n",
    "tmp"
   ]
  },
  {
   "cell_type": "code",
   "execution_count": 39,
   "id": "9c2d5283",
   "metadata": {},
   "outputs": [
    {
     "data": {
      "text/plain": [
       "array([[175.16772491]])"
      ]
     },
     "execution_count": 39,
     "metadata": {},
     "output_type": "execute_result"
    }
   ],
   "source": [
    "lm.predict(tmp)"
   ]
  },
  {
   "cell_type": "markdown",
   "id": "c536a9d5",
   "metadata": {},
   "source": [
    "**การทำนาย:**\n",
    "\n",
    "Linear Regression ทำนายว่าควรจะมีราคาค่าเช่า 175.17 USD"
   ]
  },
  {
   "cell_type": "markdown",
   "id": "92493b28",
   "metadata": {},
   "source": [
    "## (Optional) Load/Save model"
   ]
  },
  {
   "cell_type": "raw",
   "id": "31f73a5a",
   "metadata": {},
   "source": [
    "import joblib\n",
    "\n",
    "# Save Model\n",
    "joblib.dump(lm, './models/LinearR.pkl')\n",
    "\n",
    "# Load Model\n",
    "#lm = joblib.load('./models/LinearR.pkl')"
   ]
  },
  {
   "cell_type": "code",
   "execution_count": null,
   "id": "64c8e2a9",
   "metadata": {},
   "outputs": [],
   "source": []
  }
 ],
 "metadata": {
  "kernelspec": {
   "display_name": "Python 3 (ipykernel)",
   "language": "python",
   "name": "python3"
  },
  "language_info": {
   "codemirror_mode": {
    "name": "ipython",
    "version": 3
   },
   "file_extension": ".py",
   "mimetype": "text/x-python",
   "name": "python",
   "nbconvert_exporter": "python",
   "pygments_lexer": "ipython3",
   "version": "3.11.5"
  }
 },
 "nbformat": 4,
 "nbformat_minor": 5
}
