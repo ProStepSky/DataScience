{
 "cells": [
  {
   "cell_type": "markdown",
   "id": "790e93d5",
   "metadata": {},
   "source": [
    "**ส่วนนี้คือการ load ข้อมูล, การทำ data cleaning, และการกำจัด outliers (ท่านสามารถดูเพิ่มเติมได้ที่ 1_Data_Cleaning.ipynb)**\n",
    "\n",
    "**สำหรับ Support Vector Regression (SVR) จะเริ่มต่อท้ายหลังจบส่วนนี้**"
   ]
  },
  {
   "cell_type": "code",
   "execution_count": 1,
   "id": "a1a6dc46",
   "metadata": {
    "scrolled": true
   },
   "outputs": [
    {
     "data": {
      "text/plain": [
       "'3.11.5 | packaged by Anaconda, Inc. | (main, Sep 11 2023, 13:26:23) [MSC v.1916 64 bit (AMD64)]'"
      ]
     },
     "execution_count": 1,
     "metadata": {},
     "output_type": "execute_result"
    }
   ],
   "source": [
    "import sys\n",
    "sys.version"
   ]
  },
  {
   "cell_type": "code",
   "execution_count": 2,
   "id": "878d8a1d",
   "metadata": {},
   "outputs": [],
   "source": [
    "# disable warnings that are not critical for a clean looking\n",
    "import warnings\n",
    "warnings.filterwarnings('ignore')"
   ]
  },
  {
   "cell_type": "code",
   "execution_count": 3,
   "id": "7ee5924f",
   "metadata": {},
   "outputs": [],
   "source": [
    "import pandas as pd\n",
    "import numpy as np\n",
    "import matplotlib.pyplot as plt\n",
    "import seaborn as sns\n",
    "\n",
    "%matplotlib inline\n",
    "%config InlineBackend.figure_format = 'retina'"
   ]
  },
  {
   "cell_type": "code",
   "execution_count": 4,
   "id": "234bba6d",
   "metadata": {},
   "outputs": [],
   "source": [
    "df = pd.read_csv('./dataset/listings.csv',\n",
    "                 usecols=['neighbourhood_group_cleansed',\n",
    "                          'room_type','accommodates',\n",
    "                          'bathrooms_text','beds','price',\n",
    "                          'minimum_nights','maximum_nights'])"
   ]
  },
  {
   "cell_type": "code",
   "execution_count": 5,
   "id": "2812e207",
   "metadata": {},
   "outputs": [],
   "source": [
    "df['bathrooms_text'].replace('Half-bath','0.5 baths', inplace=True)\n",
    "df['bathrooms_text'].replace('Shared half-bath','0.5 shared baths', inplace=True)\n",
    "df['bathrooms_text'].replace('Private half-bath','0.5 baths', inplace=True)"
   ]
  },
  {
   "cell_type": "code",
   "execution_count": 6,
   "id": "1460b801",
   "metadata": {},
   "outputs": [],
   "source": [
    "df.dropna(subset=['bathrooms_text'], inplace=True)"
   ]
  },
  {
   "cell_type": "code",
   "execution_count": 7,
   "id": "0cb76a66",
   "metadata": {},
   "outputs": [],
   "source": [
    "df['baths'] = df['bathrooms_text'].apply(lambda x: x.split(' ')[0])"
   ]
  },
  {
   "cell_type": "code",
   "execution_count": 8,
   "id": "b6ac2c94",
   "metadata": {},
   "outputs": [],
   "source": [
    "df['baths'] = df['baths'].astype(float)"
   ]
  },
  {
   "cell_type": "code",
   "execution_count": 9,
   "id": "666971ff",
   "metadata": {},
   "outputs": [],
   "source": [
    "df.drop(['bathrooms_text'],axis=1,inplace=True)"
   ]
  },
  {
   "cell_type": "code",
   "execution_count": 10,
   "id": "52b6377d",
   "metadata": {},
   "outputs": [],
   "source": [
    "df['beds'].fillna(value=1, inplace=True)"
   ]
  },
  {
   "cell_type": "code",
   "execution_count": 11,
   "id": "ebdd7b37",
   "metadata": {},
   "outputs": [],
   "source": [
    "df['beds'] = df['beds'].astype(int)"
   ]
  },
  {
   "cell_type": "code",
   "execution_count": 12,
   "id": "4bb0c8b5",
   "metadata": {},
   "outputs": [],
   "source": [
    "# Remove dollar and comma signs from price column\n",
    "df['price'].replace({'\\$':'', ',':''}, regex = True, inplace=True)\n",
    "\n",
    "# Convert string to float\n",
    "df['price'] = df['price'].astype(float)"
   ]
  },
  {
   "cell_type": "markdown",
   "id": "66bc70a8",
   "metadata": {},
   "source": [
    "#### การกำจัด outliers"
   ]
  },
  {
   "cell_type": "code",
   "execution_count": 13,
   "id": "9756461e",
   "metadata": {},
   "outputs": [],
   "source": [
    "df_real = df.copy()"
   ]
  },
  {
   "cell_type": "code",
   "execution_count": 14,
   "id": "4f8223fc",
   "metadata": {},
   "outputs": [],
   "source": [
    "def my_func(a, b, c, val):\n",
    "    tmp = df_real[(df_real[a]==b) & (df_real[c] >= val)]\n",
    "    df_real.drop(index=tmp.index, inplace=True)"
   ]
  },
  {
   "cell_type": "code",
   "execution_count": 15,
   "id": "e7a3b4d7",
   "metadata": {
    "scrolled": true
   },
   "outputs": [],
   "source": [
    "my_func('neighbourhood_group_cleansed','Manhattan','price',423)\n",
    "my_func('neighbourhood_group_cleansed','Brooklyn','price',307)\n",
    "my_func('neighbourhood_group_cleansed','Queens','price',237)\n",
    "my_func('neighbourhood_group_cleansed','Staten Island','price',217)\n",
    "my_func('neighbourhood_group_cleansed','Bronx','price',222)"
   ]
  },
  {
   "cell_type": "code",
   "execution_count": 16,
   "id": "30e94956",
   "metadata": {
    "scrolled": true
   },
   "outputs": [],
   "source": [
    "my_func('room_type','Entire home/apt','price',335)\n",
    "my_func('room_type','Private room','price',164)\n",
    "my_func('room_type','Hotel room','price',402)\n",
    "my_func('room_type','Shared room','price',143)"
   ]
  },
  {
   "cell_type": "markdown",
   "id": "826e335e",
   "metadata": {},
   "source": [
    "**Support Vector Regression (SVR) จะเริ่มต้นขึ้นต่อจากนี้**\n",
    "\n",
    "---"
   ]
  },
  {
   "cell_type": "markdown",
   "id": "b6a9e671",
   "metadata": {},
   "source": [
    "# Support Vector Regression (SVR)"
   ]
  },
  {
   "cell_type": "markdown",
   "id": "cd0eaa68",
   "metadata": {},
   "source": [
    "## Feature Selection"
   ]
  },
  {
   "cell_type": "markdown",
   "id": "af61d4f1",
   "metadata": {},
   "source": [
    "เลือกเฉพาะปัจจัยที่จะนำมาใช้ในการฝึกสอน model ได้แก่ เมืองของห้องพัก, ประเภทของห้อง, จำนวนแขกที่รองรับได้, จำนวนเตียง, และจำนวนห้องน้ำ"
   ]
  },
  {
   "cell_type": "code",
   "execution_count": 17,
   "id": "5d67be4b",
   "metadata": {},
   "outputs": [],
   "source": [
    "df_real.drop([\n",
    "    'minimum_nights',\n",
    "    'maximum_nights',\n",
    "],axis=1, inplace=True)"
   ]
  },
  {
   "cell_type": "code",
   "execution_count": 18,
   "id": "abac6a81",
   "metadata": {},
   "outputs": [
    {
     "data": {
      "text/plain": [
       "Index(['neighbourhood_group_cleansed', 'room_type', 'accommodates', 'beds',\n",
       "       'price', 'baths'],\n",
       "      dtype='object')"
      ]
     },
     "execution_count": 18,
     "metadata": {},
     "output_type": "execute_result"
    }
   ],
   "source": [
    "df_real.columns"
   ]
  },
  {
   "cell_type": "markdown",
   "id": "67c57f54",
   "metadata": {},
   "source": [
    "## สร้าง dummy variables"
   ]
  },
  {
   "cell_type": "code",
   "execution_count": 19,
   "id": "c3f16dba",
   "metadata": {},
   "outputs": [],
   "source": [
    "df_real = pd.get_dummies(df_real, drop_first=True)\n",
    "# drop_first=True in order to prevent the Multi-collinearity problem"
   ]
  },
  {
   "cell_type": "code",
   "execution_count": 20,
   "id": "ba05ae37",
   "metadata": {},
   "outputs": [],
   "source": [
    "#df_real.sample(5)"
   ]
  },
  {
   "cell_type": "code",
   "execution_count": 21,
   "id": "3405d608",
   "metadata": {},
   "outputs": [],
   "source": [
    "X = df_real.drop(['price'], axis=1)\n",
    "\n",
    "y = np.array(df_real['price']).reshape(-1,1)\n",
    "# Reshape a serie into 1 column array before feed it into the algorithm"
   ]
  },
  {
   "cell_type": "markdown",
   "id": "9d11eda2",
   "metadata": {},
   "source": [
    "## ทำการแบ่งข้อมูล train/test ด้วยอัตราส่วน 80:20"
   ]
  },
  {
   "cell_type": "markdown",
   "id": "102e5452",
   "metadata": {},
   "source": [
    "ทำการแบ่งข้อมูลเป็นสองชุด ได้แก่\n",
    "\n",
    "1) Training Set เพื่อใช้ฝึกสอน model\n",
    "2) Test Set เพื่อใช้ประเมิน model\n",
    "\n",
    "นั่นคือ จะใช้ข้อมูลชุด Training Set ในขณะฝึกสอน model และ model จะไม่เคยเห็นข้อมูลชุด Test Set มาก่อน นี่ทำให้เราสามารถประเมิน model ได้อิงกับความเป็นจริงมากกว่า"
   ]
  },
  {
   "cell_type": "code",
   "execution_count": 22,
   "id": "4abf56a4",
   "metadata": {},
   "outputs": [],
   "source": [
    "from sklearn.model_selection import train_test_split\n",
    "\n",
    "X_train, X_test, y_train, y_test = train_test_split(X, y, test_size=0.2, random_state=55)"
   ]
  },
  {
   "cell_type": "markdown",
   "id": "98b081a0",
   "metadata": {},
   "source": [
    "การทำ Data Scaling จะทำหลังจากแบ่งข้อมูล train/test แล้ว เพราะ model ไม่ควรรับรู้อะไรเกี่ยวกับ Test Set การทำแบบนี้จะอิงความเป็นจริงมากกว่า  \n",
    "\n",
    "ถ้าทำ Data Scaling ก่อน จะเป็นการทำกับทั้งชุดข้อมูล ทำให้ model รับรู้ค่าสูงสุดหรือต่ำสุดของชุดข้อมูลนั้นด้วย ซึ่งจะเหมือนกับการที่เราให้เบาะแสแก่ตัว model ไปนิดหนึ่งแล้ว และจะส่งผลให้เกิดความลำเอียง (bias) ได้"
   ]
  },
  {
   "cell_type": "markdown",
   "id": "47295288",
   "metadata": {},
   "source": [
    "## Data Scaling (Standardisation)"
   ]
  },
  {
   "cell_type": "markdown",
   "id": "89705589",
   "metadata": {},
   "source": [
    "ไม่จำเป็นต้องทำ Data Scaling กับ y (ค่าเช่า) หรือ target (ค่าที่ต้องการทำนาย)\n",
    "\n",
    "การทำ Data Scaling มีจุดประสงค์เพื่อให้แต่ละจุดข้อมูลมี scale ที่ใกล้กัน เมื่อทำการ fit model กับ X (ตัวแปรอิสระ) ตัวอัลกอริทึมจะได้วัดระยะห่างของแต่ละจุดข้อมูลได้ง่าย ส่วน y หรือ target นี้ เป็นค่าที่ต้องการทำนายออกมา จึงไม่มีปัญหาด้าน scaling"
   ]
  },
  {
   "cell_type": "code",
   "execution_count": 23,
   "id": "2b283fe1",
   "metadata": {},
   "outputs": [],
   "source": [
    "from sklearn.preprocessing import StandardScaler\n",
    "\n",
    "sc_X_train = StandardScaler()\n",
    "sc_X_test = StandardScaler()"
   ]
  },
  {
   "cell_type": "code",
   "execution_count": 24,
   "id": "28931c30",
   "metadata": {},
   "outputs": [],
   "source": [
    "X_train = sc_X_train.fit_transform(X_train)\n",
    "X_test = sc_X_test.fit_transform(X_test)"
   ]
  },
  {
   "cell_type": "markdown",
   "id": "7ae580f8",
   "metadata": {},
   "source": [
    "เลือกใช้ Kernel แบบ Radial Basis Function (RBF) เพราะ RBF เป็นฟังก์ชั่นที่ช่วยให้ hyperplane เป็นเส้นโค้งได้ ส่งผลให้สามารถจัดการข้อมูลตามโลกความจริงซึ่งเป็นแบบไม่เป็นเชิงเส้น (non-linear) ได้  "
   ]
  },
  {
   "cell_type": "code",
   "execution_count": 25,
   "id": "a9102afe",
   "metadata": {},
   "outputs": [
    {
     "data": {
      "text/html": [
       "<style>#sk-container-id-1 {color: black;}#sk-container-id-1 pre{padding: 0;}#sk-container-id-1 div.sk-toggleable {background-color: white;}#sk-container-id-1 label.sk-toggleable__label {cursor: pointer;display: block;width: 100%;margin-bottom: 0;padding: 0.3em;box-sizing: border-box;text-align: center;}#sk-container-id-1 label.sk-toggleable__label-arrow:before {content: \"▸\";float: left;margin-right: 0.25em;color: #696969;}#sk-container-id-1 label.sk-toggleable__label-arrow:hover:before {color: black;}#sk-container-id-1 div.sk-estimator:hover label.sk-toggleable__label-arrow:before {color: black;}#sk-container-id-1 div.sk-toggleable__content {max-height: 0;max-width: 0;overflow: hidden;text-align: left;background-color: #f0f8ff;}#sk-container-id-1 div.sk-toggleable__content pre {margin: 0.2em;color: black;border-radius: 0.25em;background-color: #f0f8ff;}#sk-container-id-1 input.sk-toggleable__control:checked~div.sk-toggleable__content {max-height: 200px;max-width: 100%;overflow: auto;}#sk-container-id-1 input.sk-toggleable__control:checked~label.sk-toggleable__label-arrow:before {content: \"▾\";}#sk-container-id-1 div.sk-estimator input.sk-toggleable__control:checked~label.sk-toggleable__label {background-color: #d4ebff;}#sk-container-id-1 div.sk-label input.sk-toggleable__control:checked~label.sk-toggleable__label {background-color: #d4ebff;}#sk-container-id-1 input.sk-hidden--visually {border: 0;clip: rect(1px 1px 1px 1px);clip: rect(1px, 1px, 1px, 1px);height: 1px;margin: -1px;overflow: hidden;padding: 0;position: absolute;width: 1px;}#sk-container-id-1 div.sk-estimator {font-family: monospace;background-color: #f0f8ff;border: 1px dotted black;border-radius: 0.25em;box-sizing: border-box;margin-bottom: 0.5em;}#sk-container-id-1 div.sk-estimator:hover {background-color: #d4ebff;}#sk-container-id-1 div.sk-parallel-item::after {content: \"\";width: 100%;border-bottom: 1px solid gray;flex-grow: 1;}#sk-container-id-1 div.sk-label:hover label.sk-toggleable__label {background-color: #d4ebff;}#sk-container-id-1 div.sk-serial::before {content: \"\";position: absolute;border-left: 1px solid gray;box-sizing: border-box;top: 0;bottom: 0;left: 50%;z-index: 0;}#sk-container-id-1 div.sk-serial {display: flex;flex-direction: column;align-items: center;background-color: white;padding-right: 0.2em;padding-left: 0.2em;position: relative;}#sk-container-id-1 div.sk-item {position: relative;z-index: 1;}#sk-container-id-1 div.sk-parallel {display: flex;align-items: stretch;justify-content: center;background-color: white;position: relative;}#sk-container-id-1 div.sk-item::before, #sk-container-id-1 div.sk-parallel-item::before {content: \"\";position: absolute;border-left: 1px solid gray;box-sizing: border-box;top: 0;bottom: 0;left: 50%;z-index: -1;}#sk-container-id-1 div.sk-parallel-item {display: flex;flex-direction: column;z-index: 1;position: relative;background-color: white;}#sk-container-id-1 div.sk-parallel-item:first-child::after {align-self: flex-end;width: 50%;}#sk-container-id-1 div.sk-parallel-item:last-child::after {align-self: flex-start;width: 50%;}#sk-container-id-1 div.sk-parallel-item:only-child::after {width: 0;}#sk-container-id-1 div.sk-dashed-wrapped {border: 1px dashed gray;margin: 0 0.4em 0.5em 0.4em;box-sizing: border-box;padding-bottom: 0.4em;background-color: white;}#sk-container-id-1 div.sk-label label {font-family: monospace;font-weight: bold;display: inline-block;line-height: 1.2em;}#sk-container-id-1 div.sk-label-container {text-align: center;}#sk-container-id-1 div.sk-container {/* jupyter's `normalize.less` sets `[hidden] { display: none; }` but bootstrap.min.css set `[hidden] { display: none !important; }` so we also need the `!important` here to be able to override the default hidden behavior on the sphinx rendered scikit-learn.org. See: https://github.com/scikit-learn/scikit-learn/issues/21755 */display: inline-block !important;position: relative;}#sk-container-id-1 div.sk-text-repr-fallback {display: none;}</style><div id=\"sk-container-id-1\" class=\"sk-top-container\"><div class=\"sk-text-repr-fallback\"><pre>SVR()</pre><b>In a Jupyter environment, please rerun this cell to show the HTML representation or trust the notebook. <br />On GitHub, the HTML representation is unable to render, please try loading this page with nbviewer.org.</b></div><div class=\"sk-container\" hidden><div class=\"sk-item\"><div class=\"sk-estimator sk-toggleable\"><input class=\"sk-toggleable__control sk-hidden--visually\" id=\"sk-estimator-id-1\" type=\"checkbox\" checked><label for=\"sk-estimator-id-1\" class=\"sk-toggleable__label sk-toggleable__label-arrow\">SVR</label><div class=\"sk-toggleable__content\"><pre>SVR()</pre></div></div></div></div></div>"
      ],
      "text/plain": [
       "SVR()"
      ]
     },
     "execution_count": 25,
     "metadata": {},
     "output_type": "execute_result"
    }
   ],
   "source": [
    "from sklearn.svm import SVR\n",
    "\n",
    "svr_regressor = SVR(kernel='rbf')\n",
    "svr_regressor.fit(X_train, y_train.ravel())"
   ]
  },
  {
   "cell_type": "markdown",
   "id": "81c2067d",
   "metadata": {},
   "source": [
    "## การประเมิน model ที่ใช้ทำนาย"
   ]
  },
  {
   "cell_type": "markdown",
   "id": "cb0666d3",
   "metadata": {},
   "source": [
    "นำ model ที่เพิ่งสร้างเสร็จมาทำนายกับชุดข้อมูล Test Set:"
   ]
  },
  {
   "cell_type": "code",
   "execution_count": 26,
   "id": "c806f3a0",
   "metadata": {
    "scrolled": true
   },
   "outputs": [],
   "source": [
    "predicted = svr_regressor.predict(X_test)"
   ]
  },
  {
   "cell_type": "code",
   "execution_count": 27,
   "id": "6284e471",
   "metadata": {
    "scrolled": false
   },
   "outputs": [
    {
     "name": "stdout",
     "output_type": "stream",
     "text": [
      "MAE: 33.620519816675404\n",
      "MSE: 2153.6666019782247\n",
      "RMSE: 46.40761362080822\n"
     ]
    }
   ],
   "source": [
    "from sklearn import metrics\n",
    "\n",
    "print('MAE:', metrics.mean_absolute_error(y_test, predicted))\n",
    "print('MSE:', metrics.mean_squared_error(y_test, predicted))\n",
    "print('RMSE:', np.sqrt(metrics.mean_squared_error(y_test, predicted)))"
   ]
  },
  {
   "cell_type": "markdown",
   "id": "9e3fc2fb",
   "metadata": {},
   "source": [
    "ค่า Root Mean Square Error (RMSE) บ่งบอกถึงผลต่างระหว่างค่าจริงกับค่าทำนาย ยิ่งต่ำยิ่งบ่งบอกว่า model fit กับชุดข้อมูลได้ดี model นี้มีค่า RMSE เท่ากับ 46.41 USD"
   ]
  },
  {
   "cell_type": "code",
   "execution_count": 28,
   "id": "aa5f2bd0",
   "metadata": {},
   "outputs": [
    {
     "name": "stdout",
     "output_type": "stream",
     "text": [
      "R2: 0.5094455841633553\n"
     ]
    }
   ],
   "source": [
    "from sklearn.metrics import r2_score\n",
    "\n",
    "print('R2:', r2_score(y_test, predicted))"
   ]
  },
  {
   "cell_type": "markdown",
   "id": "bd5959f3",
   "metadata": {},
   "source": [
    "ค่า R-squared บ่งบอกว่า model fit กับชุดข้อมูลได้ดีเพียงใด มีค่าตั้งแต่ 0 ถึง 1 โดย 0 หมายถึงแย่ที่สุด และ 1 หมายถึงดีที่สุด model นี้มีค่า R-squared เท่ากับ 0.51 ถือว่าอยู่ในระดับปานกลาง"
   ]
  },
  {
   "cell_type": "markdown",
   "id": "7968112f",
   "metadata": {},
   "source": [
    "**(ท่านสามารถดูการเปรียบเทียบประสิทธิภาพระหว่าง Linear Regression และ Support Vector Regression (SVR) ได้ที่ 6_Comparison.ipynb)**"
   ]
  },
  {
   "cell_type": "code",
   "execution_count": 29,
   "id": "4500457e",
   "metadata": {},
   "outputs": [],
   "source": [
    "# Save evaluation results for use in the Performance Graph Comparison\n",
    "RMSE_SVR = np.sqrt(metrics.mean_squared_error(y_test, predicted))\n",
    "R2_SVR = r2_score(y_test, predicted)\n",
    "\n",
    "np.savetxt('./eval_results/RMSE_SVR.txt', [RMSE_SVR])\n",
    "np.savetxt('./eval_results/R2_SVR.txt', [R2_SVR])"
   ]
  },
  {
   "cell_type": "markdown",
   "id": "c49106e0",
   "metadata": {},
   "source": [
    "## กราฟแจกแจงความถี่ของผลต่างระหว่างค่าจริง (Test) กับค่าทำนาย (Predict)"
   ]
  },
  {
   "cell_type": "code",
   "execution_count": 30,
   "id": "ef60b7d1",
   "metadata": {},
   "outputs": [],
   "source": [
    "diff = y_test.ravel()-predicted.ravel()"
   ]
  },
  {
   "cell_type": "code",
   "execution_count": 31,
   "id": "2f1a8f90",
   "metadata": {
    "scrolled": false
   },
   "outputs": [
    {
     "data": {
      "image/png": "[encoded data removed]",
      "text/plain": [
       "<Figure size 1000x500 with 1 Axes>"
      ]
     },
     "metadata": {
      "image/png": {
       "height": 450,
       "width": 863
      }
     },
     "output_type": "display_data"
    }
   ],
   "source": [
    "fig = plt.figure(figsize=(10,5))\n",
    "sns.histplot(diff, bins=100, kde=True)\n",
    "plt.xlim([-200,200])\n",
    "plt.ylim([0,400])\n",
    "plt.title('Distribution Plot of Difference between Test and Predict')\n",
    "\n",
    "plt.show()"
   ]
  },
  {
   "cell_type": "code",
   "execution_count": 32,
   "id": "7c4cea95",
   "metadata": {
    "scrolled": false
   },
   "outputs": [
    {
     "name": "stdout",
     "output_type": "stream",
     "text": [
      "S.D. = 45.76543955813431\n",
      "Mean = 7.6935781031311805\n"
     ]
    }
   ],
   "source": [
    "print('S.D. =', diff.std())\n",
    "print('Mean =', diff.mean())"
   ]
  },
  {
   "cell_type": "markdown",
   "id": "55757b70",
   "metadata": {},
   "source": [
    "**จากกราฟพบว่า:**\n",
    "1) ได้กราฟที่ใกล้เคียงการแจกแจงแบบปกติ (normal distribution) และเบ้ขวา (Right Skew) เล็กน้อย (ข้อมูลหนักไปทางซ้ายเล็กน้อย)\n",
    "2) ผลต่างระหว่างค่าจริงกับค่าทำนาย มีส่วนเบี่ยงเบนมาตรฐาน (S.D.) เท่ากับ 45.77 USD นั่นคือ ผลต่างระหว่างค่าจริงกับค่าทำนายส่วนใหญ่ค่อนข้างอยู่ใกล้ค่าเฉลี่ย 7.69 USD นั่นคือ ค่าทำนายโดยเฉลี่ยจะมากกว่าค่าจริง 7.69 USD"
   ]
  },
  {
   "cell_type": "markdown",
   "id": "273ac37e",
   "metadata": {},
   "source": [
    "## เปรียบเทียบราคาจริงกับราคาที่ได้จากการทำนาย"
   ]
  },
  {
   "cell_type": "code",
   "execution_count": 33,
   "id": "e8e8abd4",
   "metadata": {},
   "outputs": [],
   "source": [
    "dict_compare = {'Price': y_test.flatten(), 'predicted':  predicted.flatten()}\n",
    "df_predicted = pd.DataFrame(dict_compare)"
   ]
  },
  {
   "cell_type": "code",
   "execution_count": 34,
   "id": "30a3ea5e",
   "metadata": {},
   "outputs": [
    {
     "data": {
      "text/html": [
       "<div>\n",
       "<style scoped>\n",
       "    .dataframe tbody tr th:only-of-type {\n",
       "        vertical-align: middle;\n",
       "    }\n",
       "\n",
       "    .dataframe tbody tr th {\n",
       "        vertical-align: top;\n",
       "    }\n",
       "\n",
       "    .dataframe thead th {\n",
       "        text-align: right;\n",
       "    }\n",
       "</style>\n",
       "<table border=\"1\" class=\"dataframe\">\n",
       "  <thead>\n",
       "    <tr style=\"text-align: right;\">\n",
       "      <th></th>\n",
       "      <th>Price</th>\n",
       "      <th>predicted</th>\n",
       "    </tr>\n",
       "  </thead>\n",
       "  <tbody>\n",
       "    <tr>\n",
       "      <th>3559</th>\n",
       "      <td>79.0</td>\n",
       "      <td>85.969199</td>\n",
       "    </tr>\n",
       "    <tr>\n",
       "      <th>1905</th>\n",
       "      <td>130.0</td>\n",
       "      <td>172.158837</td>\n",
       "    </tr>\n",
       "    <tr>\n",
       "      <th>3214</th>\n",
       "      <td>125.0</td>\n",
       "      <td>105.467562</td>\n",
       "    </tr>\n",
       "    <tr>\n",
       "      <th>1528</th>\n",
       "      <td>99.0</td>\n",
       "      <td>149.376002</td>\n",
       "    </tr>\n",
       "    <tr>\n",
       "      <th>4408</th>\n",
       "      <td>200.0</td>\n",
       "      <td>139.215907</td>\n",
       "    </tr>\n",
       "  </tbody>\n",
       "</table>\n",
       "</div>"
      ],
      "text/plain": [
       "      Price   predicted\n",
       "3559   79.0   85.969199\n",
       "1905  130.0  172.158837\n",
       "3214  125.0  105.467562\n",
       "1528   99.0  149.376002\n",
       "4408  200.0  139.215907"
      ]
     },
     "execution_count": 34,
     "metadata": {},
     "output_type": "execute_result"
    }
   ],
   "source": [
    "df_predicted.sample(5)"
   ]
  },
  {
   "cell_type": "code",
   "execution_count": 35,
   "id": "f3c6bb7a",
   "metadata": {},
   "outputs": [],
   "source": [
    "#print(df_predicted.to_string())"
   ]
  },
  {
   "cell_type": "markdown",
   "id": "e08e5b2e",
   "metadata": {},
   "source": [
    "หาค่าสหสัมพันธ์ระหว่างราคาจริง (test) กับราคาที่ได้จากการทำนาย (predicted):"
   ]
  },
  {
   "cell_type": "code",
   "execution_count": 36,
   "id": "bcd19d29",
   "metadata": {
    "scrolled": false
   },
   "outputs": [
    {
     "data": {
      "text/html": [
       "<div>\n",
       "<style scoped>\n",
       "    .dataframe tbody tr th:only-of-type {\n",
       "        vertical-align: middle;\n",
       "    }\n",
       "\n",
       "    .dataframe tbody tr th {\n",
       "        vertical-align: top;\n",
       "    }\n",
       "\n",
       "    .dataframe thead th {\n",
       "        text-align: right;\n",
       "    }\n",
       "</style>\n",
       "<table border=\"1\" class=\"dataframe\">\n",
       "  <thead>\n",
       "    <tr style=\"text-align: right;\">\n",
       "      <th></th>\n",
       "      <th>Price</th>\n",
       "      <th>predicted</th>\n",
       "    </tr>\n",
       "  </thead>\n",
       "  <tbody>\n",
       "    <tr>\n",
       "      <th>Price</th>\n",
       "      <td>1.000000</td>\n",
       "      <td>0.725226</td>\n",
       "    </tr>\n",
       "    <tr>\n",
       "      <th>predicted</th>\n",
       "      <td>0.725226</td>\n",
       "      <td>1.000000</td>\n",
       "    </tr>\n",
       "  </tbody>\n",
       "</table>\n",
       "</div>"
      ],
      "text/plain": [
       "              Price  predicted\n",
       "Price      1.000000   0.725226\n",
       "predicted  0.725226   1.000000"
      ]
     },
     "execution_count": 36,
     "metadata": {},
     "output_type": "execute_result"
    }
   ],
   "source": [
    "df_predicted.corr()"
   ]
  },
  {
   "cell_type": "markdown",
   "id": "9f52acdb",
   "metadata": {},
   "source": [
    "ค่าสหสัมพันธ์ระหว่างราคาจริงกับราคาที่ได้จากการทำนายเท่ากับ 0.73  \n",
    "นั่นคือ ราคาจริงกับราคาที่ได้จากการทำนายไปในทิศทางเดียวกันพอสมควร"
   ]
  },
  {
   "cell_type": "markdown",
   "id": "321e6da2",
   "metadata": {},
   "source": [
    "## ทดลองใช้ model ทำนาย"
   ]
  },
  {
   "cell_type": "markdown",
   "id": "c8441375",
   "metadata": {},
   "source": [
    "แสดง columns ของตัวแปรอิสระ เพื่อให้สร้าง DataFrame สำหรับป้อนเข้า model ให้มีเรียงลำดับของตัวแปรอิสระอย่างถูกต้อง"
   ]
  },
  {
   "cell_type": "code",
   "execution_count": 37,
   "id": "5a8592b2",
   "metadata": {},
   "outputs": [
    {
     "data": {
      "text/plain": [
       "Index(['accommodates', 'beds', 'baths',\n",
       "       'neighbourhood_group_cleansed_Brooklyn',\n",
       "       'neighbourhood_group_cleansed_Manhattan',\n",
       "       'neighbourhood_group_cleansed_Queens',\n",
       "       'neighbourhood_group_cleansed_Staten Island', 'room_type_Hotel room',\n",
       "       'room_type_Private room', 'room_type_Shared room'],\n",
       "      dtype='object')"
      ]
     },
     "execution_count": 37,
     "metadata": {},
     "output_type": "execute_result"
    }
   ],
   "source": [
    "X.columns"
   ]
  },
  {
   "cell_type": "markdown",
   "id": "1e421091",
   "metadata": {},
   "source": [
    "**ยกตัวอย่าง:**  \n",
    "\n",
    "ต้องการทำนายว่าจากปัจจัยดังต่อไปนี้\n",
    "\n",
    "- จำนวนแขกที่รองรับได้: 3 คน\n",
    "- จำนวนเตียง: 2 เตียง\n",
    "- จำนวนห้องน้ำ: 2 ห้อง\n",
    "- เมืองของห้องพัก: Manhattan\n",
    "- ประเภทของห้อง: เช่าทั้งหลัง\n",
    "\n",
    "ควรจะมีราคาค่าเช่าเท่าไร?"
   ]
  },
  {
   "cell_type": "markdown",
   "id": "3c436ce1",
   "metadata": {},
   "source": [
    "สร้าง DataFrame สำหรับป้อนเข้า model เพื่อทำนาย:"
   ]
  },
  {
   "cell_type": "code",
   "execution_count": 38,
   "id": "888ad0d7",
   "metadata": {},
   "outputs": [
    {
     "data": {
      "text/html": [
       "<div>\n",
       "<style scoped>\n",
       "    .dataframe tbody tr th:only-of-type {\n",
       "        vertical-align: middle;\n",
       "    }\n",
       "\n",
       "    .dataframe tbody tr th {\n",
       "        vertical-align: top;\n",
       "    }\n",
       "\n",
       "    .dataframe thead th {\n",
       "        text-align: right;\n",
       "    }\n",
       "</style>\n",
       "<table border=\"1\" class=\"dataframe\">\n",
       "  <thead>\n",
       "    <tr style=\"text-align: right;\">\n",
       "      <th></th>\n",
       "      <th>accommodates</th>\n",
       "      <th>beds</th>\n",
       "      <th>baths</th>\n",
       "      <th>neighbourhood_group_cleansed_Brooklyn</th>\n",
       "      <th>neighbourhood_group_cleansed_Manhattan</th>\n",
       "      <th>neighbourhood_group_cleansed_Queens</th>\n",
       "      <th>neighbourhood_group_cleansed_Staten Island</th>\n",
       "      <th>room_type_Hotel room</th>\n",
       "      <th>room_type_Private room</th>\n",
       "      <th>room_type_Shared room</th>\n",
       "    </tr>\n",
       "  </thead>\n",
       "  <tbody>\n",
       "    <tr>\n",
       "      <th>0</th>\n",
       "      <td>3</td>\n",
       "      <td>2</td>\n",
       "      <td>2</td>\n",
       "      <td>0</td>\n",
       "      <td>1</td>\n",
       "      <td>0</td>\n",
       "      <td>0</td>\n",
       "      <td>0</td>\n",
       "      <td>0</td>\n",
       "      <td>0</td>\n",
       "    </tr>\n",
       "  </tbody>\n",
       "</table>\n",
       "</div>"
      ],
      "text/plain": [
       "   accommodates  beds  baths  neighbourhood_group_cleansed_Brooklyn  \\\n",
       "0             3     2      2                                      0   \n",
       "\n",
       "   neighbourhood_group_cleansed_Manhattan  \\\n",
       "0                                       1   \n",
       "\n",
       "   neighbourhood_group_cleansed_Queens  \\\n",
       "0                                    0   \n",
       "\n",
       "   neighbourhood_group_cleansed_Staten Island  room_type_Hotel room  \\\n",
       "0                                           0                     0   \n",
       "\n",
       "   room_type_Private room  room_type_Shared room  \n",
       "0                       0                      0  "
      ]
     },
     "execution_count": 38,
     "metadata": {},
     "output_type": "execute_result"
    }
   ],
   "source": [
    "tmp = pd.DataFrame([[3,2,2,0,1,0,0,0,0,0]], \n",
    "                   columns=df_real.drop(['price'], axis=1).columns)\n",
    "tmp"
   ]
  },
  {
   "cell_type": "code",
   "execution_count": 39,
   "id": "5b07f637",
   "metadata": {},
   "outputs": [
    {
     "data": {
      "text/plain": [
       "array([206.18478498])"
      ]
     },
     "execution_count": 39,
     "metadata": {},
     "output_type": "execute_result"
    }
   ],
   "source": [
    "svr_regressor.predict(tmp)"
   ]
  },
  {
   "cell_type": "markdown",
   "id": "e98a3713",
   "metadata": {},
   "source": [
    "**การทำนาย:**\n",
    "\n",
    "Support Vector Regression (SVR) ทำนายว่าควรจะมีราคาค่าเช่า 206.18 USD"
   ]
  },
  {
   "cell_type": "markdown",
   "id": "a5de48d7",
   "metadata": {},
   "source": [
    "## (Optional) Load/Save model"
   ]
  },
  {
   "cell_type": "raw",
   "id": "2808810b",
   "metadata": {},
   "source": [
    "import joblib\n",
    "\n",
    "# Save Model\n",
    "joblib.dump(svr_regressor, './models/SVR.pkl')\n",
    "\n",
    "# Load Model\n",
    "#svr_regressor = joblib.load('./models/SVR.pkl')"
   ]
  },
  {
   "cell_type": "code",
   "execution_count": null,
   "id": "f9945bea",
   "metadata": {},
   "outputs": [],
   "source": []
  }
 ],
 "metadata": {
  "kernelspec": {
   "display_name": "Python 3 (ipykernel)",
   "language": "python",
   "name": "python3"
  },
  "language_info": {
   "codemirror_mode": {
    "name": "ipython",
    "version": 3
   },
   "file_extension": ".py",
   "mimetype": "text/x-python",
   "name": "python",
   "nbconvert_exporter": "python",
   "pygments_lexer": "ipython3",
   "version": "3.11.5"
  }
 },
 "nbformat": 4,
 "nbformat_minor": 5
}
